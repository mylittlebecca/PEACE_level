{
 "cells": [
  {
   "cell_type": "code",
   "execution_count": 1,
   "id": "2e63142b",
   "metadata": {},
   "outputs": [],
   "source": [
    "#import nltk\n",
    "import pandas as pd\n",
    "import sklearn\n",
    "from sklearn.model_selection import train_test_split\n",
    "#from nltk.tokenize import sent_tokenize\n",
    "#from nltk.stem import PorterStemmerfrom sklearn.feature_extraction.text \n",
    "\n",
    "#from sklearn.feature_extraction.text \n",
    "#import CountVectorizer\n",
    "from sklearn.linear_model  import LogisticRegressionCV\n",
    "#from sklearn.feature_extraction.text import TfidfVectorizer"
   ]
  },
  {
   "cell_type": "code",
   "execution_count": 2,
   "id": "68c182b4",
   "metadata": {},
   "outputs": [],
   "source": [
    "#peace=0: low peace;  peace=1:high peace\n",
    "ca = pd.read_csv(\"CA_word.csv\")\n",
    "us = pd.read_csv(\"US_word.csv\")\n",
    "sg = pd.read_csv(\"SG_word.csv\")\n",
    "ph = pd.read_csv(\"PH_word.csv\")"
   ]
  },
  {
   "cell_type": "code",
   "execution_count": 3,
   "id": "889b3a26",
   "metadata": {},
   "outputs": [
    {
     "data": {
      "text/html": [
       "<div>\n",
       "<style scoped>\n",
       "    .dataframe tbody tr th:only-of-type {\n",
       "        vertical-align: middle;\n",
       "    }\n",
       "\n",
       "    .dataframe tbody tr th {\n",
       "        vertical-align: top;\n",
       "    }\n",
       "\n",
       "    .dataframe thead th {\n",
       "        text-align: right;\n",
       "    }\n",
       "</style>\n",
       "<table border=\"1\" class=\"dataframe\">\n",
       "  <thead>\n",
       "    <tr style=\"text-align: right;\">\n",
       "      <th></th>\n",
       "      <th>Unnamed: 0</th>\n",
       "      <th>word</th>\n",
       "      <th>frequency</th>\n",
       "      <th>relative_freq</th>\n",
       "    </tr>\n",
       "  </thead>\n",
       "  <tbody>\n",
       "    <tr>\n",
       "      <th>0</th>\n",
       "      <td>0</td>\n",
       "      <td>the</td>\n",
       "      <td>2913900</td>\n",
       "      <td>0.083373</td>\n",
       "    </tr>\n",
       "    <tr>\n",
       "      <th>1</th>\n",
       "      <td>1</td>\n",
       "      <td>to</td>\n",
       "      <td>1453643</td>\n",
       "      <td>0.041592</td>\n",
       "    </tr>\n",
       "    <tr>\n",
       "      <th>2</th>\n",
       "      <td>2</td>\n",
       "      <td>and</td>\n",
       "      <td>1388210</td>\n",
       "      <td>0.039720</td>\n",
       "    </tr>\n",
       "    <tr>\n",
       "      <th>3</th>\n",
       "      <td>3</td>\n",
       "      <td>of</td>\n",
       "      <td>1344326</td>\n",
       "      <td>0.038464</td>\n",
       "    </tr>\n",
       "    <tr>\n",
       "      <th>4</th>\n",
       "      <td>4</td>\n",
       "      <td>a</td>\n",
       "      <td>1199482</td>\n",
       "      <td>0.034320</td>\n",
       "    </tr>\n",
       "  </tbody>\n",
       "</table>\n",
       "</div>"
      ],
      "text/plain": [
       "   Unnamed: 0 word  frequency  relative_freq\n",
       "0           0  the    2913900       0.083373\n",
       "1           1   to    1453643       0.041592\n",
       "2           2  and    1388210       0.039720\n",
       "3           3   of    1344326       0.038464\n",
       "4           4    a    1199482       0.034320"
      ]
     },
     "execution_count": 3,
     "metadata": {},
     "output_type": "execute_result"
    }
   ],
   "source": [
    "ca.head()"
   ]
  },
  {
   "cell_type": "code",
   "execution_count": 4,
   "id": "e0c18fa0",
   "metadata": {},
   "outputs": [
    {
     "data": {
      "text/plain": [
       "1000"
      ]
     },
     "execution_count": 4,
     "metadata": {},
     "output_type": "execute_result"
    }
   ],
   "source": [
    "len(ca)"
   ]
  },
  {
   "cell_type": "code",
   "execution_count": 5,
   "id": "8996dc2c",
   "metadata": {},
   "outputs": [],
   "source": [
    "ca['peace']=1"
   ]
  },
  {
   "cell_type": "code",
   "execution_count": 6,
   "id": "2158e2e3",
   "metadata": {},
   "outputs": [
    {
     "data": {
      "text/html": [
       "<div>\n",
       "<style scoped>\n",
       "    .dataframe tbody tr th:only-of-type {\n",
       "        vertical-align: middle;\n",
       "    }\n",
       "\n",
       "    .dataframe tbody tr th {\n",
       "        vertical-align: top;\n",
       "    }\n",
       "\n",
       "    .dataframe thead th {\n",
       "        text-align: right;\n",
       "    }\n",
       "</style>\n",
       "<table border=\"1\" class=\"dataframe\">\n",
       "  <thead>\n",
       "    <tr style=\"text-align: right;\">\n",
       "      <th></th>\n",
       "      <th>Unnamed: 0</th>\n",
       "      <th>word</th>\n",
       "      <th>frequency</th>\n",
       "      <th>relative_freq</th>\n",
       "      <th>peace</th>\n",
       "    </tr>\n",
       "  </thead>\n",
       "  <tbody>\n",
       "    <tr>\n",
       "      <th>0</th>\n",
       "      <td>0</td>\n",
       "      <td>the</td>\n",
       "      <td>2913900</td>\n",
       "      <td>0.083373</td>\n",
       "      <td>1</td>\n",
       "    </tr>\n",
       "    <tr>\n",
       "      <th>1</th>\n",
       "      <td>1</td>\n",
       "      <td>to</td>\n",
       "      <td>1453643</td>\n",
       "      <td>0.041592</td>\n",
       "      <td>1</td>\n",
       "    </tr>\n",
       "    <tr>\n",
       "      <th>2</th>\n",
       "      <td>2</td>\n",
       "      <td>and</td>\n",
       "      <td>1388210</td>\n",
       "      <td>0.039720</td>\n",
       "      <td>1</td>\n",
       "    </tr>\n",
       "    <tr>\n",
       "      <th>3</th>\n",
       "      <td>3</td>\n",
       "      <td>of</td>\n",
       "      <td>1344326</td>\n",
       "      <td>0.038464</td>\n",
       "      <td>1</td>\n",
       "    </tr>\n",
       "    <tr>\n",
       "      <th>4</th>\n",
       "      <td>4</td>\n",
       "      <td>a</td>\n",
       "      <td>1199482</td>\n",
       "      <td>0.034320</td>\n",
       "      <td>1</td>\n",
       "    </tr>\n",
       "  </tbody>\n",
       "</table>\n",
       "</div>"
      ],
      "text/plain": [
       "   Unnamed: 0 word  frequency  relative_freq  peace\n",
       "0           0  the    2913900       0.083373      1\n",
       "1           1   to    1453643       0.041592      1\n",
       "2           2  and    1388210       0.039720      1\n",
       "3           3   of    1344326       0.038464      1\n",
       "4           4    a    1199482       0.034320      1"
      ]
     },
     "execution_count": 6,
     "metadata": {},
     "output_type": "execute_result"
    }
   ],
   "source": [
    "ca.head()"
   ]
  },
  {
   "cell_type": "code",
   "execution_count": 7,
   "id": "0f5eb42f",
   "metadata": {},
   "outputs": [],
   "source": [
    "us['peace']=0\n",
    "sg['peace']=1\n",
    "ph['peace']=0"
   ]
  },
  {
   "cell_type": "markdown",
   "id": "79150fbf",
   "metadata": {},
   "source": [
    "## 1. CA vs. US"
   ]
  },
  {
   "cell_type": "code",
   "execution_count": 8,
   "id": "d1d2cc62",
   "metadata": {},
   "outputs": [],
   "source": [
    "#CA vs US\n",
    "frames=[ca,us]\n",
    "ca_us = pd.concat(frames)"
   ]
  },
  {
   "cell_type": "code",
   "execution_count": 9,
   "id": "dc5d3a50",
   "metadata": {},
   "outputs": [
    {
     "data": {
      "text/plain": [
       "2000"
      ]
     },
     "execution_count": 9,
     "metadata": {},
     "output_type": "execute_result"
    }
   ],
   "source": [
    "len(ca_us)"
   ]
  },
  {
   "cell_type": "markdown",
   "id": "6b9b1757",
   "metadata": {},
   "source": [
    "### Data splittiing"
   ]
  },
  {
   "cell_type": "code",
   "execution_count": 10,
   "id": "0fe0ac58",
   "metadata": {},
   "outputs": [],
   "source": [
    "X = ca_us[['relative_freq']]\n",
    "y = ca_us[['peace']]"
   ]
  },
  {
   "cell_type": "code",
   "execution_count": 11,
   "id": "d861056c",
   "metadata": {},
   "outputs": [],
   "source": [
    "X_dev,X_test,y_dev,y_test=train_test_split(X,y,\n",
    "                                          test_size=0.2,random_state=42)"
   ]
  },
  {
   "cell_type": "code",
   "execution_count": 12,
   "id": "1778f950",
   "metadata": {},
   "outputs": [
    {
     "data": {
      "text/plain": [
       "peace\n",
       "1        801\n",
       "0        799\n",
       "dtype: int64"
      ]
     },
     "execution_count": 12,
     "metadata": {},
     "output_type": "execute_result"
    }
   ],
   "source": [
    "y_dev.value_counts()"
   ]
  },
  {
   "cell_type": "code",
   "execution_count": 13,
   "id": "0b9bcd97",
   "metadata": {},
   "outputs": [
    {
     "data": {
      "text/plain": [
       "peace\n",
       "0        201\n",
       "1        199\n",
       "dtype: int64"
      ]
     },
     "execution_count": 13,
     "metadata": {},
     "output_type": "execute_result"
    }
   ],
   "source": [
    "y_test.value_counts()"
   ]
  },
  {
   "cell_type": "markdown",
   "id": "7532efac",
   "metadata": {},
   "source": [
    "### Resample data"
   ]
  },
  {
   "cell_type": "code",
   "execution_count": 14,
   "id": "78f371f4",
   "metadata": {},
   "outputs": [],
   "source": [
    "import imblearn\n",
    "from imblearn.over_sampling import SMOTE\n",
    "smote = SMOTE()\n",
    "X_dev, y_dev = smote.fit_resample(X_dev, y_dev)\n",
    "X_test, y_test = smote.fit_resample(X_test, y_test)"
   ]
  },
  {
   "cell_type": "code",
   "execution_count": 15,
   "id": "e5c3c784",
   "metadata": {},
   "outputs": [
    {
     "data": {
      "text/plain": [
       "peace\n",
       "0        801\n",
       "1        801\n",
       "dtype: int64"
      ]
     },
     "execution_count": 15,
     "metadata": {},
     "output_type": "execute_result"
    }
   ],
   "source": [
    "y_dev.value_counts()"
   ]
  },
  {
   "cell_type": "code",
   "execution_count": 16,
   "id": "cd8b4892",
   "metadata": {},
   "outputs": [
    {
     "data": {
      "text/plain": [
       "peace\n",
       "0        201\n",
       "1        201\n",
       "dtype: int64"
      ]
     },
     "execution_count": 16,
     "metadata": {},
     "output_type": "execute_result"
    }
   ],
   "source": [
    "y_test.value_counts()"
   ]
  },
  {
   "cell_type": "code",
   "execution_count": 17,
   "id": "40074a00",
   "metadata": {},
   "outputs": [],
   "source": [
    "from sklearn.model_selection import cross_val_score\n",
    "from sklearn.metrics import mean_squared_error\n",
    "from  sklearn.linear_model import LogisticRegression"
   ]
  },
  {
   "cell_type": "markdown",
   "id": "b009b532",
   "metadata": {},
   "source": [
    "### (1)  Logistic Regression"
   ]
  },
  {
   "cell_type": "code",
   "execution_count": 18,
   "id": "593885b9",
   "metadata": {},
   "outputs": [],
   "source": [
    "lr = LogisticRegression()\n",
    "clf_lr_def = lr.fit(X_dev, y_dev.values.ravel())\n",
    "scores_lr = cross_val_score(lr, X_dev, y_dev.values.ravel(), cv = 5)"
   ]
  },
  {
   "cell_type": "code",
   "execution_count": 19,
   "id": "85cfe00a",
   "metadata": {},
   "outputs": [
    {
     "name": "stdout",
     "output_type": "stream",
     "text": [
      "The score for Logistic Regression on devlopment data is 0.495002.\n",
      "The score for Logistic Regression on test data is 0.507463.\n"
     ]
    }
   ],
   "source": [
    "\n",
    "print(\"The score for Logistic Regression on devlopment data is %f.\" %(scores_lr.mean()))\n",
    "print(\"The score for Logistic Regression on test data is %f.\" %(clf_lr_def.score(X_test, y_test)))"
   ]
  },
  {
   "cell_type": "code",
   "execution_count": 20,
   "id": "9262a444",
   "metadata": {},
   "outputs": [],
   "source": [
    "y_hat_test = clf_lr_def.predict(X_test)"
   ]
  },
  {
   "cell_type": "code",
   "execution_count": 21,
   "id": "56632e91",
   "metadata": {},
   "outputs": [
    {
     "name": "stdout",
     "output_type": "stream",
     "text": [
      "[[179  22]\n",
      " [176  25]]\n"
     ]
    }
   ],
   "source": [
    "from sklearn import metrics\n",
    "cm  = metrics.confusion_matrix(y_test,y_hat_test)\n",
    "print(cm)"
   ]
  },
  {
   "cell_type": "code",
   "execution_count": 22,
   "id": "4fd6a23d",
   "metadata": {},
   "outputs": [
    {
     "name": "stdout",
     "output_type": "stream",
     "text": [
      "Logistic Regression mean: 0.495002 \n"
     ]
    }
   ],
   "source": [
    "lr_cv = cross_val_score(lr, X_dev, y_dev.values.ravel(), cv=5, scoring = 'accuracy')\n",
    "print('Logistic Regression mean: %f ' % lr_cv.mean())"
   ]
  },
  {
   "cell_type": "code",
   "execution_count": 23,
   "id": "4abf741a",
   "metadata": {},
   "outputs": [
    {
     "name": "stdout",
     "output_type": "stream",
     "text": [
      "              precision    recall  f1-score   support\n",
      "\n",
      "           0   0.504225  0.890547  0.643885       201\n",
      "           1   0.531915  0.124378  0.201613       201\n",
      "\n",
      "    accuracy                       0.507463       402\n",
      "   macro avg   0.518070  0.507463  0.422749       402\n",
      "weighted avg   0.518070  0.507463  0.422749       402\n",
      "\n"
     ]
    }
   ],
   "source": [
    "from sklearn.metrics import classification_report\n",
    "print(classification_report(y_test,y_hat_test, digits=6))"
   ]
  },
  {
   "cell_type": "markdown",
   "id": "7cca5432",
   "metadata": {},
   "source": [
    "### (2) Random Forest"
   ]
  },
  {
   "cell_type": "code",
   "execution_count": 24,
   "id": "05d35cf7",
   "metadata": {},
   "outputs": [],
   "source": [
    "from sklearn.ensemble import RandomForestClassifier"
   ]
  },
  {
   "cell_type": "code",
   "execution_count": 25,
   "id": "a8f860cc",
   "metadata": {},
   "outputs": [
    {
     "name": "stdout",
     "output_type": "stream",
     "text": [
      "The score for Random Forest on devlopment data is 0.492529.\n",
      "The score for Random Forest on test data is 0.500000.\n"
     ]
    }
   ],
   "source": [
    "rf = RandomForestClassifier()\n",
    "clf_rf = rf.fit(X_dev, y_dev.values.ravel())\n",
    "scores_rf = cross_val_score(rf, X_dev, y_dev.values.ravel(), cv = 5)\n",
    "\n",
    "print(\"The score for Random Forest on devlopment data is %f.\" %(scores_rf.mean()))\n",
    "print(\"The score for Random Forest on test data is %f.\" %(clf_rf.score(X_test, y_test)))"
   ]
  },
  {
   "cell_type": "code",
   "execution_count": 26,
   "id": "5472bb63",
   "metadata": {},
   "outputs": [
    {
     "name": "stdout",
     "output_type": "stream",
     "text": [
      "              precision    recall  f1-score   support\n",
      "\n",
      "           0     0.5000    0.5124    0.5061       201\n",
      "           1     0.5000    0.4876    0.4937       201\n",
      "\n",
      "    accuracy                         0.5000       402\n",
      "   macro avg     0.5000    0.5000    0.4999       402\n",
      "weighted avg     0.5000    0.5000    0.4999       402\n",
      "\n"
     ]
    }
   ],
   "source": [
    "y_test_rf_hat = clf_rf.predict(X_test)\n",
    "print(classification_report(y_test,y_test_rf_hat, digits=4))"
   ]
  },
  {
   "cell_type": "markdown",
   "id": "757575b1",
   "metadata": {},
   "source": [
    "###  (3) SVM"
   ]
  },
  {
   "cell_type": "code",
   "execution_count": 27,
   "id": "aa872955",
   "metadata": {},
   "outputs": [],
   "source": [
    "from sklearn.svm import LinearSVC, SVC"
   ]
  },
  {
   "cell_type": "code",
   "execution_count": 28,
   "id": "69e855db",
   "metadata": {},
   "outputs": [],
   "source": [
    "svc = SVC()\n",
    "svc.fit(X_dev, y_dev.values.ravel())\n",
    "scores_svm = cross_val_score(svc, X_dev, y_dev.values.ravel(), cv=5, scoring='accuracy')\n"
   ]
  },
  {
   "cell_type": "code",
   "execution_count": 29,
   "id": "f343af2b",
   "metadata": {},
   "outputs": [
    {
     "name": "stdout",
     "output_type": "stream",
     "text": [
      "Accuracy on development data: 0.488754\n",
      "Accuracy on test data: 0.495025\n"
     ]
    }
   ],
   "source": [
    "print('Accuracy on development data: %f' % scores_svm.mean())\n",
    "print('Accuracy on test data: %f' % svc.score(X_test, y_test))"
   ]
  },
  {
   "cell_type": "code",
   "execution_count": 30,
   "id": "fc581002",
   "metadata": {},
   "outputs": [
    {
     "name": "stdout",
     "output_type": "stream",
     "text": [
      "              precision    recall  f1-score   support\n",
      "\n",
      "           0     0.4375    0.0348    0.0645       201\n",
      "           1     0.4974    0.9552    0.6542       201\n",
      "\n",
      "    accuracy                         0.4950       402\n",
      "   macro avg     0.4675    0.4950    0.3593       402\n",
      "weighted avg     0.4675    0.4950    0.3593       402\n",
      "\n"
     ]
    }
   ],
   "source": [
    "y_hat_svc = svc.predict(X_test)\n",
    "print(classification_report(y_test, y_hat_svc, digits=4))"
   ]
  },
  {
   "cell_type": "markdown",
   "id": "af7a3e3b",
   "metadata": {},
   "source": [
    "## 2. SG vs. PH"
   ]
  },
  {
   "cell_type": "code",
   "execution_count": 31,
   "id": "3928ba19",
   "metadata": {},
   "outputs": [],
   "source": [
    "frames=[sg,ph]\n",
    "sg_ph = pd.concat(frames)"
   ]
  },
  {
   "cell_type": "code",
   "execution_count": 32,
   "id": "09677317",
   "metadata": {},
   "outputs": [],
   "source": [
    "X = sg_ph[['relative_freq']]\n",
    "y = sg_ph[['peace']]"
   ]
  },
  {
   "cell_type": "code",
   "execution_count": 33,
   "id": "0b0cd235",
   "metadata": {},
   "outputs": [],
   "source": [
    "X_dev,X_test,y_dev,y_test=train_test_split(X,y,\n",
    "                                          test_size=0.2,random_state=42)"
   ]
  },
  {
   "cell_type": "code",
   "execution_count": 34,
   "id": "e29cb4b8",
   "metadata": {},
   "outputs": [
    {
     "data": {
      "text/plain": [
       "peace\n",
       "1        801\n",
       "0        799\n",
       "dtype: int64"
      ]
     },
     "execution_count": 34,
     "metadata": {},
     "output_type": "execute_result"
    }
   ],
   "source": [
    "y_dev.value_counts()"
   ]
  },
  {
   "cell_type": "code",
   "execution_count": 35,
   "id": "7231d6b0",
   "metadata": {},
   "outputs": [
    {
     "data": {
      "text/plain": [
       "peace\n",
       "0        1000\n",
       "1        1000\n",
       "dtype: int64"
      ]
     },
     "execution_count": 35,
     "metadata": {},
     "output_type": "execute_result"
    }
   ],
   "source": [
    "y.value_counts()"
   ]
  },
  {
   "cell_type": "code",
   "execution_count": 36,
   "id": "c48026a3",
   "metadata": {},
   "outputs": [],
   "source": [
    "X_dev, y_dev = smote.fit_resample(X_dev, y_dev)\n",
    "X_test, y_test = smote.fit_resample(X_test, y_test)"
   ]
  },
  {
   "cell_type": "markdown",
   "id": "28286024",
   "metadata": {},
   "source": [
    "### (1) Logistic Regression"
   ]
  },
  {
   "cell_type": "code",
   "execution_count": 37,
   "id": "ee4e6df7",
   "metadata": {},
   "outputs": [
    {
     "name": "stdout",
     "output_type": "stream",
     "text": [
      "The score for Logistic Regression on devlopment data is 0.493752.\n",
      "The score for Logistic Regression on test data is 0.507463.\n"
     ]
    }
   ],
   "source": [
    "scores_lr = cross_val_score(lr, X_dev, y_dev.values.ravel(), cv = 5)\n",
    "clf_lr_def = lr.fit(X_dev, y_dev.values.ravel())\n",
    "print(\"The score for Logistic Regression on devlopment data is %f.\" %(scores_lr.mean()))\n",
    "print(\"The score for Logistic Regression on test data is %f.\" %(clf_lr_def.score(X_test, y_test)))"
   ]
  },
  {
   "cell_type": "code",
   "execution_count": 38,
   "id": "2a1bdca4",
   "metadata": {},
   "outputs": [
    {
     "name": "stdout",
     "output_type": "stream",
     "text": [
      "[[182  19]\n",
      " [179  22]]\n"
     ]
    }
   ],
   "source": [
    "y_hat_test = clf_lr_def.predict(X_test)\n",
    "cm  = metrics.confusion_matrix(y_test,y_hat_test)\n",
    "print(cm)"
   ]
  },
  {
   "cell_type": "code",
   "execution_count": 39,
   "id": "3e0a942b",
   "metadata": {},
   "outputs": [
    {
     "name": "stdout",
     "output_type": "stream",
     "text": [
      "Logistic Regression mean: 0.493752 \n"
     ]
    }
   ],
   "source": [
    "lr_cv = cross_val_score(lr, X_dev, y_dev.values.ravel(), cv=5, scoring = 'accuracy')\n",
    "print('Logistic Regression mean: %f ' % lr_cv.mean())"
   ]
  },
  {
   "cell_type": "code",
   "execution_count": 40,
   "id": "4b6a2b9e",
   "metadata": {},
   "outputs": [
    {
     "name": "stdout",
     "output_type": "stream",
     "text": [
      "              precision    recall  f1-score   support\n",
      "\n",
      "           0   0.504155  0.905473  0.647687       201\n",
      "           1   0.536585  0.109453  0.181818       201\n",
      "\n",
      "    accuracy                       0.507463       402\n",
      "   macro avg   0.520370  0.507463  0.414753       402\n",
      "weighted avg   0.520370  0.507463  0.414753       402\n",
      "\n"
     ]
    }
   ],
   "source": [
    "print(classification_report(y_test,y_hat_test, digits=6))"
   ]
  },
  {
   "cell_type": "markdown",
   "id": "f037a859",
   "metadata": {},
   "source": [
    "### (2) Random Forest"
   ]
  },
  {
   "cell_type": "code",
   "execution_count": 41,
   "id": "90a840c4",
   "metadata": {},
   "outputs": [
    {
     "name": "stdout",
     "output_type": "stream",
     "text": [
      "The score for Random Forest on devlopment data is 0.512457.\n",
      "The score for Random Forest on test data is 0.467662.\n"
     ]
    }
   ],
   "source": [
    "clf_rf = rf.fit(X_dev, y_dev.values.ravel())\n",
    "scores_rf = cross_val_score(rf, X_dev, y_dev.values.ravel(), cv = 5)\n",
    "\n",
    "print(\"The score for Random Forest on devlopment data is %f.\" %(scores_rf.mean()))\n",
    "print(\"The score for Random Forest on test data is %f.\" %(clf_rf.score(X_test, y_test)))"
   ]
  },
  {
   "cell_type": "code",
   "execution_count": 42,
   "id": "fbe6b1d5",
   "metadata": {},
   "outputs": [
    {
     "name": "stdout",
     "output_type": "stream",
     "text": [
      "              precision    recall  f1-score   support\n",
      "\n",
      "           0     0.4683    0.4776    0.4729       201\n",
      "           1     0.4670    0.4577    0.4623       201\n",
      "\n",
      "    accuracy                         0.4677       402\n",
      "   macro avg     0.4676    0.4677    0.4676       402\n",
      "weighted avg     0.4676    0.4677    0.4676       402\n",
      "\n"
     ]
    }
   ],
   "source": [
    "y_test_rf_hat = clf_rf.predict(X_test)\n",
    "print(classification_report(y_test,y_test_rf_hat, digits=4))"
   ]
  },
  {
   "cell_type": "markdown",
   "id": "4d9fc607",
   "metadata": {},
   "source": [
    "### (3) SVM"
   ]
  },
  {
   "cell_type": "code",
   "execution_count": 43,
   "id": "b6f13920",
   "metadata": {},
   "outputs": [],
   "source": [
    "svc.fit(X_dev, y_dev.values.ravel())\n",
    "scores_svm = cross_val_score(svc, X_dev, y_dev.values.ravel(), cv=5, scoring='accuracy')\n"
   ]
  },
  {
   "cell_type": "code",
   "execution_count": 44,
   "id": "dc9ac513",
   "metadata": {},
   "outputs": [
    {
     "name": "stdout",
     "output_type": "stream",
     "text": [
      "Accuracy on development data: 0.489381\n",
      "Accuracy on test data: 0.572139\n"
     ]
    }
   ],
   "source": [
    "print('Accuracy on development data: %f' % scores_svm.mean())\n",
    "print('Accuracy on test data: %f' % svc.score(X_test, y_test))"
   ]
  },
  {
   "cell_type": "code",
   "execution_count": 45,
   "id": "b3d32436",
   "metadata": {},
   "outputs": [
    {
     "name": "stdout",
     "output_type": "stream",
     "text": [
      "              precision    recall  f1-score   support\n",
      "\n",
      "           0     0.5775    0.5373    0.5567       201\n",
      "           1     0.5674    0.6070    0.5865       201\n",
      "\n",
      "    accuracy                         0.5721       402\n",
      "   macro avg     0.5725    0.5721    0.5716       402\n",
      "weighted avg     0.5725    0.5721    0.5716       402\n",
      "\n"
     ]
    }
   ],
   "source": [
    "y_hat_svc = svc.predict(X_test)\n",
    "print(classification_report(y_test, y_hat_svc, digits=4))"
   ]
  },
  {
   "cell_type": "markdown",
   "id": "cf052adb",
   "metadata": {},
   "source": [
    "## 3. CA, SG vs. US,PH"
   ]
  },
  {
   "cell_type": "code",
   "execution_count": 46,
   "id": "7a3d6bfe",
   "metadata": {},
   "outputs": [],
   "source": [
    "frames=[ca,us,sg,ph]\n",
    "df = pd.concat(frames)"
   ]
  },
  {
   "cell_type": "code",
   "execution_count": 47,
   "id": "cfe58ece",
   "metadata": {},
   "outputs": [],
   "source": [
    "X = df[['relative_freq']]\n",
    "y = df[['peace']]"
   ]
  },
  {
   "cell_type": "code",
   "execution_count": 48,
   "id": "e2c2e155",
   "metadata": {},
   "outputs": [
    {
     "data": {
      "text/plain": [
       "peace\n",
       "0        2000\n",
       "1        2000\n",
       "dtype: int64"
      ]
     },
     "execution_count": 48,
     "metadata": {},
     "output_type": "execute_result"
    }
   ],
   "source": [
    "y.value_counts()"
   ]
  },
  {
   "cell_type": "code",
   "execution_count": 49,
   "id": "f004e1cf",
   "metadata": {},
   "outputs": [],
   "source": [
    "X_dev,X_test,y_dev,y_test=train_test_split(X,y,\n",
    "                                          test_size=0.2,random_state=42)"
   ]
  },
  {
   "cell_type": "code",
   "execution_count": 50,
   "id": "760af01e",
   "metadata": {},
   "outputs": [
    {
     "data": {
      "text/plain": [
       "peace\n",
       "0        1603\n",
       "1        1597\n",
       "dtype: int64"
      ]
     },
     "execution_count": 50,
     "metadata": {},
     "output_type": "execute_result"
    }
   ],
   "source": [
    "y_dev.value_counts()"
   ]
  },
  {
   "cell_type": "code",
   "execution_count": 51,
   "id": "62294193",
   "metadata": {},
   "outputs": [],
   "source": [
    "X_dev, y_dev = smote.fit_resample(X_dev, y_dev)\n",
    "X_test, y_test = smote.fit_resample(X_test, y_test)"
   ]
  },
  {
   "cell_type": "code",
   "execution_count": 52,
   "id": "edc61df3",
   "metadata": {},
   "outputs": [
    {
     "data": {
      "text/plain": [
       "peace\n",
       "0        1603\n",
       "1        1603\n",
       "dtype: int64"
      ]
     },
     "execution_count": 52,
     "metadata": {},
     "output_type": "execute_result"
    }
   ],
   "source": [
    "y_dev.value_counts()"
   ]
  },
  {
   "cell_type": "markdown",
   "id": "a3330042",
   "metadata": {},
   "source": [
    "### (1) Logistic Regression"
   ]
  },
  {
   "cell_type": "code",
   "execution_count": 53,
   "id": "6d746353",
   "metadata": {},
   "outputs": [
    {
     "name": "stdout",
     "output_type": "stream",
     "text": [
      "The score for Logistic Regression on devlopment data is 0.496883.\n",
      "The score for Logistic Regression on test data is 0.501241.\n"
     ]
    }
   ],
   "source": [
    "scores_lr = cross_val_score(lr, X_dev, y_dev.values.ravel(), cv = 5)\n",
    "clf_lr_def = lr.fit(X_dev, y_dev.values.ravel())\n",
    "print(\"The score for Logistic Regression on devlopment data is %f.\" %(scores_lr.mean()))\n",
    "print(\"The score for Logistic Regression on test data is %f.\" %(clf_lr_def.score(X_test, y_test)))"
   ]
  },
  {
   "cell_type": "code",
   "execution_count": 54,
   "id": "130498ab",
   "metadata": {},
   "outputs": [
    {
     "name": "stdout",
     "output_type": "stream",
     "text": [
      "[[ 54 349]\n",
      " [ 53 350]]\n"
     ]
    }
   ],
   "source": [
    "y_hat_test = clf_lr_def.predict(X_test)\n",
    "cm  = metrics.confusion_matrix(y_test,y_hat_test)\n",
    "print(cm)"
   ]
  },
  {
   "cell_type": "code",
   "execution_count": 55,
   "id": "bda88c33",
   "metadata": {},
   "outputs": [
    {
     "name": "stdout",
     "output_type": "stream",
     "text": [
      "Logistic Regression mean: 0.496883 \n"
     ]
    }
   ],
   "source": [
    "lr_cv = cross_val_score(lr, X_dev, y_dev.values.ravel(), cv=5, scoring = 'accuracy')\n",
    "print('Logistic Regression mean: %f ' % lr_cv.mean())"
   ]
  },
  {
   "cell_type": "code",
   "execution_count": 56,
   "id": "8a904945",
   "metadata": {},
   "outputs": [
    {
     "name": "stdout",
     "output_type": "stream",
     "text": [
      "              precision    recall  f1-score   support\n",
      "\n",
      "           0   0.504673  0.133995  0.211765       403\n",
      "           1   0.500715  0.868486  0.635209       403\n",
      "\n",
      "    accuracy                       0.501241       806\n",
      "   macro avg   0.502694  0.501241  0.423487       806\n",
      "weighted avg   0.502694  0.501241  0.423487       806\n",
      "\n"
     ]
    }
   ],
   "source": [
    "print(classification_report(y_test,y_hat_test, digits=6))"
   ]
  },
  {
   "cell_type": "markdown",
   "id": "a979a159",
   "metadata": {},
   "source": [
    "### (2) Random Forest"
   ]
  },
  {
   "cell_type": "code",
   "execution_count": 57,
   "id": "4a12cbe3",
   "metadata": {},
   "outputs": [
    {
     "name": "stdout",
     "output_type": "stream",
     "text": [
      "The score for Random Forest on devlopment data is 0.521201.\n",
      "The score for Random Forest on test data is 0.507444.\n"
     ]
    }
   ],
   "source": [
    "clf_rf = rf.fit(X_dev, y_dev.values.ravel())\n",
    "scores_rf = cross_val_score(rf, X_dev, y_dev.values.ravel(), cv = 5)\n",
    "\n",
    "print(\"The score for Random Forest on devlopment data is %f.\" %(scores_rf.mean()))\n",
    "print(\"The score for Random Forest on test data is %f.\" %(clf_rf.score(X_test, y_test)))"
   ]
  },
  {
   "cell_type": "code",
   "execution_count": 58,
   "id": "473529f4",
   "metadata": {},
   "outputs": [
    {
     "name": "stdout",
     "output_type": "stream",
     "text": [
      "              precision    recall  f1-score   support\n",
      "\n",
      "           0     0.5070    0.5360    0.5211       403\n",
      "           1     0.5079    0.4789    0.4930       403\n",
      "\n",
      "    accuracy                         0.5074       806\n",
      "   macro avg     0.5075    0.5074    0.5070       806\n",
      "weighted avg     0.5075    0.5074    0.5070       806\n",
      "\n"
     ]
    }
   ],
   "source": [
    "y_test_rf_hat = clf_rf.predict(X_test)\n",
    "print(classification_report(y_test,y_test_rf_hat, digits=4))"
   ]
  },
  {
   "cell_type": "markdown",
   "id": "4bdeb0e6",
   "metadata": {},
   "source": [
    "### (3) SVM"
   ]
  },
  {
   "cell_type": "code",
   "execution_count": 59,
   "id": "7b2901a2",
   "metadata": {},
   "outputs": [],
   "source": [
    "svc.fit(X_dev, y_dev.values.ravel())\n",
    "scores_svm = cross_val_score(svc, X_dev, y_dev.values.ravel(), cv=5, scoring='accuracy')\n"
   ]
  },
  {
   "cell_type": "code",
   "execution_count": 60,
   "id": "67b9fe0f",
   "metadata": {},
   "outputs": [
    {
     "name": "stdout",
     "output_type": "stream",
     "text": [
      "Accuracy on development data: 0.494074\n",
      "Accuracy on test data: 0.492556\n"
     ]
    }
   ],
   "source": [
    "print('Accuracy on development data: %f' % scores_svm.mean())\n",
    "print('Accuracy on test data: %f' % svc.score(X_test, y_test))"
   ]
  },
  {
   "cell_type": "code",
   "execution_count": 61,
   "id": "fc622634",
   "metadata": {},
   "outputs": [
    {
     "name": "stdout",
     "output_type": "stream",
     "text": [
      "              precision    recall  f1-score   support\n",
      "\n",
      "           0     0.4959    0.9057    0.6409       403\n",
      "           1     0.4571    0.0794    0.1353       403\n",
      "\n",
      "    accuracy                         0.4926       806\n",
      "   macro avg     0.4765    0.4926    0.3881       806\n",
      "weighted avg     0.4765    0.4926    0.3881       806\n",
      "\n"
     ]
    }
   ],
   "source": [
    "y_hat_svc = svc.predict(X_test)\n",
    "print(classification_report(y_test, y_hat_svc, digits=4))"
   ]
  }
 ],
 "metadata": {
  "kernelspec": {
   "display_name": "Python 3 (ipykernel)",
   "language": "python",
   "name": "python3"
  },
  "language_info": {
   "codemirror_mode": {
    "name": "ipython",
    "version": 3
   },
   "file_extension": ".py",
   "mimetype": "text/x-python",
   "name": "python",
   "nbconvert_exporter": "python",
   "pygments_lexer": "ipython3",
   "version": "3.9.7"
  }
 },
 "nbformat": 4,
 "nbformat_minor": 5
}
