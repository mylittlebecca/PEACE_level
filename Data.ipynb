{
 "cells": [
  {
   "cell_type": "code",
   "execution_count": 1,
   "id": "0a3837fc",
   "metadata": {},
   "outputs": [],
   "source": [
    "import pandas as pd\n",
    "import numpy as np\n",
    "import nltk\n",
    "import random\n",
    "import string\n",
    "import re"
   ]
  },
  {
   "cell_type": "code",
   "execution_count": 2,
   "id": "5990bd68",
   "metadata": {},
   "outputs": [],
   "source": [
    "#Canada\n",
    "ca = pd.read_csv('/Users/Rebecca/Desktop/PEACE_Inst/data/5_domestic_filter_Ngram_stopwords_lemmatize/CA_domestic_Ngram_stopword_lematize.csv')"
   ]
  },
  {
   "cell_type": "code",
   "execution_count": 4,
   "id": "8e6408fa",
   "metadata": {},
   "outputs": [
    {
     "name": "stdout",
     "output_type": "stream",
     "text": [
      "73870\n"
     ]
    },
    {
     "data": {
      "text/html": [
       "<div>\n",
       "<style scoped>\n",
       "    .dataframe tbody tr th:only-of-type {\n",
       "        vertical-align: middle;\n",
       "    }\n",
       "\n",
       "    .dataframe tbody tr th {\n",
       "        vertical-align: top;\n",
       "    }\n",
       "\n",
       "    .dataframe thead th {\n",
       "        text-align: right;\n",
       "    }\n",
       "</style>\n",
       "<table border=\"1\" class=\"dataframe\">\n",
       "  <thead>\n",
       "    <tr style=\"text-align: right;\">\n",
       "      <th></th>\n",
       "      <th>Unnamed: 0</th>\n",
       "      <th>article_id</th>\n",
       "      <th>article_title</th>\n",
       "      <th>publisher</th>\n",
       "      <th>year</th>\n",
       "      <th>article_text</th>\n",
       "      <th>country_mention</th>\n",
       "      <th>Domestic</th>\n",
       "      <th>article_text_Ngram</th>\n",
       "      <th>article_text_Ngram_stopword</th>\n",
       "      <th>article_text_Ngram_stopword_lemmatize</th>\n",
       "    </tr>\n",
       "  </thead>\n",
       "  <tbody>\n",
       "    <tr>\n",
       "      <th>0</th>\n",
       "      <td>0</td>\n",
       "      <td>51292143</td>\n",
       "      <td>Edibles, extracts and topicals will be offered...</td>\n",
       "      <td>prpeak.com</td>\n",
       "      <td>2019</td>\n",
       "      <td>The province is now distributing new categori...</td>\n",
       "      <td>[('Canada', 1), ('United States', 1), ('Canada...</td>\n",
       "      <td>True</td>\n",
       "      <td>The province is now distributing new categori...</td>\n",
       "      <td>The province distributing new categories legal...</td>\n",
       "      <td>The province distribute new category legal non...</td>\n",
       "    </tr>\n",
       "    <tr>\n",
       "      <th>1</th>\n",
       "      <td>1</td>\n",
       "      <td>51037626</td>\n",
       "      <td>Intelligence official charged seemed to be 'ex...</td>\n",
       "      <td>prpeak.com</td>\n",
       "      <td>2019</td>\n",
       "      <td>Ortis , 47 , was charged under three sections...</td>\n",
       "      <td>[('United States', 1), ('Canada', 1), ('France...</td>\n",
       "      <td>True</td>\n",
       "      <td>Ortis , 47 , was charged under three sections...</td>\n",
       "      <td>Ortis , 47 , charged three sections Security I...</td>\n",
       "      <td>Ortis 47 charge three section Security Informa...</td>\n",
       "    </tr>\n",
       "    <tr>\n",
       "      <th>2</th>\n",
       "      <td>2</td>\n",
       "      <td>51008947</td>\n",
       "      <td>Georgia GOP Sen. Isakson to retire over health...</td>\n",
       "      <td>prpeak.com</td>\n",
       "      <td>2019</td>\n",
       "      <td>ATLANTA Republican Sen. Johnny Isakson's anno...</td>\n",
       "      <td>[('Georgia', 15), ('United Kingdom', 1), ('Aus...</td>\n",
       "      <td>True</td>\n",
       "      <td>ATLANTA Republican Sen. Johnny Isakson's anno...</td>\n",
       "      <td>ATLANTA Republican Sen. Johnny Isakson 's anno...</td>\n",
       "      <td>ATLANTA Republican Sen. Johnny Isakson 's anno...</td>\n",
       "    </tr>\n",
       "    <tr>\n",
       "      <th>3</th>\n",
       "      <td>4</td>\n",
       "      <td>51220423</td>\n",
       "      <td>Around Powell River: Community listings | Powe...</td>\n",
       "      <td>prpeak.com</td>\n",
       "      <td>2019</td>\n",
       "      <td>Powell River Aikikai , self defence , the art...</td>\n",
       "      <td>[('Canada', 1), ('United States', 1), ('Canada...</td>\n",
       "      <td>True</td>\n",
       "      <td>Powell River Aikikai , self defence , the art...</td>\n",
       "      <td>Powell River Aikikai , self defence , art peac...</td>\n",
       "      <td>Powell River Aikikai self defence art peace in...</td>\n",
       "    </tr>\n",
       "    <tr>\n",
       "      <th>4</th>\n",
       "      <td>5</td>\n",
       "      <td>51159318</td>\n",
       "      <td>President of Cannabis NB says it will take mor...</td>\n",
       "      <td>prpeak.com</td>\n",
       "      <td>2019</td>\n",
       "      <td>President of Cannabis NB says it will take mo...</td>\n",
       "      <td>[('Canada', 1), ('Australia', 1), ('United Sta...</td>\n",
       "      <td>True</td>\n",
       "      <td>President of Cannabis NB says it will take mo...</td>\n",
       "      <td>President Cannabis NB says take time profitabl...</td>\n",
       "      <td>President Cannabis NB say take time profitable...</td>\n",
       "    </tr>\n",
       "  </tbody>\n",
       "</table>\n",
       "</div>"
      ],
      "text/plain": [
       "   Unnamed: 0  article_id                                      article_title  \\\n",
       "0           0    51292143  Edibles, extracts and topicals will be offered...   \n",
       "1           1    51037626  Intelligence official charged seemed to be 'ex...   \n",
       "2           2    51008947  Georgia GOP Sen. Isakson to retire over health...   \n",
       "3           4    51220423  Around Powell River: Community listings | Powe...   \n",
       "4           5    51159318  President of Cannabis NB says it will take mor...   \n",
       "\n",
       "    publisher  year                                       article_text  \\\n",
       "0  prpeak.com  2019   The province is now distributing new categori...   \n",
       "1  prpeak.com  2019   Ortis , 47 , was charged under three sections...   \n",
       "2  prpeak.com  2019   ATLANTA Republican Sen. Johnny Isakson's anno...   \n",
       "3  prpeak.com  2019   Powell River Aikikai , self defence , the art...   \n",
       "4  prpeak.com  2019   President of Cannabis NB says it will take mo...   \n",
       "\n",
       "                                     country_mention  Domestic  \\\n",
       "0  [('Canada', 1), ('United States', 1), ('Canada...      True   \n",
       "1  [('United States', 1), ('Canada', 1), ('France...      True   \n",
       "2  [('Georgia', 15), ('United Kingdom', 1), ('Aus...      True   \n",
       "3  [('Canada', 1), ('United States', 1), ('Canada...      True   \n",
       "4  [('Canada', 1), ('Australia', 1), ('United Sta...      True   \n",
       "\n",
       "                                  article_text_Ngram  \\\n",
       "0   The province is now distributing new categori...   \n",
       "1   Ortis , 47 , was charged under three sections...   \n",
       "2   ATLANTA Republican Sen. Johnny Isakson's anno...   \n",
       "3   Powell River Aikikai , self defence , the art...   \n",
       "4   President of Cannabis NB says it will take mo...   \n",
       "\n",
       "                         article_text_Ngram_stopword  \\\n",
       "0  The province distributing new categories legal...   \n",
       "1  Ortis , 47 , charged three sections Security I...   \n",
       "2  ATLANTA Republican Sen. Johnny Isakson 's anno...   \n",
       "3  Powell River Aikikai , self defence , art peac...   \n",
       "4  President Cannabis NB says take time profitabl...   \n",
       "\n",
       "               article_text_Ngram_stopword_lemmatize  \n",
       "0  The province distribute new category legal non...  \n",
       "1  Ortis 47 charge three section Security Informa...  \n",
       "2  ATLANTA Republican Sen. Johnny Isakson 's anno...  \n",
       "3  Powell River Aikikai self defence art peace in...  \n",
       "4  President Cannabis NB say take time profitable...  "
      ]
     },
     "execution_count": 4,
     "metadata": {},
     "output_type": "execute_result"
    }
   ],
   "source": [
    "print(len(ca))\n",
    "ca.head()"
   ]
  },
  {
   "cell_type": "code",
   "execution_count": 2,
   "id": "18cd455c",
   "metadata": {},
   "outputs": [],
   "source": [
    "import spacy"
   ]
  },
  {
   "cell_type": "code",
   "execution_count": 3,
   "id": "440f7a79",
   "metadata": {},
   "outputs": [],
   "source": [
    "nlp = spacy.load('en_core_web_sm')\n"
   ]
  },
  {
   "cell_type": "code",
   "execution_count": 44,
   "id": "df0eb240",
   "metadata": {},
   "outputs": [],
   "source": [
    "text = ca['article_text_Ngram']\n",
    "ca['text']=\"\"\n",
    "ca['text_2']=\"\""
   ]
  },
  {
   "cell_type": "code",
   "execution_count": 15,
   "id": "057f4a69",
   "metadata": {},
   "outputs": [],
   "source": [
    "#new_text=\" \".join(text_no_namedentities)\n",
    "#new_text_ = remove_names(new_text)"
   ]
  },
  {
   "cell_type": "code",
   "execution_count": 18,
   "id": "5c5cfb59",
   "metadata": {},
   "outputs": [],
   "source": [
    "#document = nlp(text_3)\n",
    "#text_no_namedentities = []\n",
    "\n",
    "#ents = [e.text for e in document.ents]\n",
    "#for item in document:\n",
    " #   if item.text in ents:\n",
    "  #      pass\n",
    "   # else:\n",
    "    #    text_no_namedentities.append(item.text)\n",
    "#print(\" \".join(text_no_namedentities))"
   ]
  },
  {
   "cell_type": "code",
   "execution_count": 4,
   "id": "eb193a32",
   "metadata": {},
   "outputs": [],
   "source": [
    "def remove_names(text):\n",
    "    doc = nlp(text)\n",
    "    newString = text\n",
    "    for e in reversed(doc.ents):\n",
    "        if e.label_ in [\"PERSON\", \"GPE\"]:\n",
    "       # if e.label_ == \"PERSON\" | e.label_==\"GPE\": # Only if the entity is a PERSON\n",
    "            newString = newString[:e.start_char] + newString[e.start_char + len(e.text):]\n",
    "    return newString\n"
   ]
  },
  {
   "cell_type": "code",
   "execution_count": 5,
   "id": "d444eae0",
   "metadata": {},
   "outputs": [],
   "source": [
    "def remove_ne(text):\n",
    "    doc = nlp(text)\n",
    "    newString = text\n",
    "    for e in reversed(doc.ents):\n",
    "        if e.label_ == \"GPE\": # Only if the entity is a PERSON\n",
    "            newString = newString[:e.start_char] + newString[e.start_char + len(e.text):]\n",
    "    return newString\n"
   ]
  },
  {
   "cell_type": "code",
   "execution_count": 6,
   "id": "005e95ec",
   "metadata": {},
   "outputs": [],
   "source": [
    "\n",
    "def remove_place(text):\n",
    "    document=nlp(text)\n",
    "    #newString = []\n",
    "    text_no_namedentities=[]\n",
    "    ents = [e.text for e in document.ents]\n",
    "    for item in document:\n",
    "        if item.text in ents:\n",
    "            pass\n",
    "        else:\n",
    "            text_no_namedentities.append(item.text)\n",
    "    return \" \".join(text_no_namedentities)"
   ]
  },
  {
   "cell_type": "code",
   "execution_count": 7,
   "id": "205ab093",
   "metadata": {},
   "outputs": [],
   "source": [
    "def remove_2(text):\n",
    "    document=nlp(text)\n",
    "    #newString = []\n",
    "    text_no_namedentities=[]\n",
    "    #ents = [e.text for e in document.ents]\n",
    "    for token in document:\n",
    "        if not token.ent_type:\n",
    "            text_no_namedentities += token.text\n",
    "            if token.whitespace_:\n",
    "                text_no_namedentities += \" \"\n",
    "    return \"\".join(text_no_namedentities)"
   ]
  },
  {
   "cell_type": "code",
   "execution_count": 68,
   "id": "2b2093b0",
   "metadata": {},
   "outputs": [],
   "source": [
    "CA=pd.read_csv(\"data/CA2.csv\")"
   ]
  },
  {
   "cell_type": "code",
   "execution_count": 10,
   "id": "b87a1aaa",
   "metadata": {},
   "outputs": [
    {
     "data": {
      "text/html": [
       "<div>\n",
       "<style scoped>\n",
       "    .dataframe tbody tr th:only-of-type {\n",
       "        vertical-align: middle;\n",
       "    }\n",
       "\n",
       "    .dataframe tbody tr th {\n",
       "        vertical-align: top;\n",
       "    }\n",
       "\n",
       "    .dataframe thead th {\n",
       "        text-align: right;\n",
       "    }\n",
       "</style>\n",
       "<table border=\"1\" class=\"dataframe\">\n",
       "  <thead>\n",
       "    <tr style=\"text-align: right;\">\n",
       "      <th></th>\n",
       "      <th>Unnamed: 0</th>\n",
       "      <th>Unnamed: 0.1</th>\n",
       "      <th>article_id</th>\n",
       "      <th>article_title</th>\n",
       "      <th>publisher</th>\n",
       "      <th>year</th>\n",
       "      <th>article_text</th>\n",
       "      <th>country_mention</th>\n",
       "      <th>Domestic</th>\n",
       "      <th>article_text_Ngram</th>\n",
       "      <th>article_text_Ngram_stopword</th>\n",
       "      <th>article_text_Ngram_stopword_lemmatize</th>\n",
       "      <th>text_2</th>\n",
       "    </tr>\n",
       "  </thead>\n",
       "  <tbody>\n",
       "    <tr>\n",
       "      <th>0</th>\n",
       "      <td>0</td>\n",
       "      <td>0</td>\n",
       "      <td>51292143</td>\n",
       "      <td>Edibles, extracts and topicals will be offered...</td>\n",
       "      <td>prpeak.com</td>\n",
       "      <td>2019</td>\n",
       "      <td>The province is now distributing new categori...</td>\n",
       "      <td>[('Canada', 1), ('United States', 1), ('Canada...</td>\n",
       "      <td>True</td>\n",
       "      <td>The province is now distributing new categori...</td>\n",
       "      <td>The province distributing new categories legal...</td>\n",
       "      <td>The province distribute new category legal non...</td>\n",
       "      <td>The province is now distributing new categor...</td>\n",
       "    </tr>\n",
       "    <tr>\n",
       "      <th>1</th>\n",
       "      <td>1</td>\n",
       "      <td>1</td>\n",
       "      <td>51037626</td>\n",
       "      <td>Intelligence official charged seemed to be 'ex...</td>\n",
       "      <td>prpeak.com</td>\n",
       "      <td>2019</td>\n",
       "      <td>Ortis , 47 , was charged under three sections...</td>\n",
       "      <td>[('United States', 1), ('Canada', 1), ('France...</td>\n",
       "      <td>True</td>\n",
       "      <td>Ortis , 47 , was charged under three sections...</td>\n",
       "      <td>Ortis , 47 , charged three sections Security I...</td>\n",
       "      <td>Ortis 47 charge three section Security Informa...</td>\n",
       "      <td>, , was charged under sections of the Securi...</td>\n",
       "    </tr>\n",
       "    <tr>\n",
       "      <th>2</th>\n",
       "      <td>2</td>\n",
       "      <td>2</td>\n",
       "      <td>51008947</td>\n",
       "      <td>Georgia GOP Sen. Isakson to retire over health...</td>\n",
       "      <td>prpeak.com</td>\n",
       "      <td>2019</td>\n",
       "      <td>ATLANTA Republican Sen. Johnny Isakson's anno...</td>\n",
       "      <td>[('Georgia', 15), ('United Kingdom', 1), ('Aus...</td>\n",
       "      <td>True</td>\n",
       "      <td>ATLANTA Republican Sen. Johnny Isakson's anno...</td>\n",
       "      <td>ATLANTA Republican Sen. Johnny Isakson 's anno...</td>\n",
       "      <td>ATLANTA Republican Sen. Johnny Isakson 's anno...</td>\n",
       "      <td>Sen. 's announcement that he will retire at ...</td>\n",
       "    </tr>\n",
       "    <tr>\n",
       "      <th>3</th>\n",
       "      <td>3</td>\n",
       "      <td>4</td>\n",
       "      <td>51220423</td>\n",
       "      <td>Around Powell River: Community listings | Powe...</td>\n",
       "      <td>prpeak.com</td>\n",
       "      <td>2019</td>\n",
       "      <td>Powell River Aikikai , self defence , the art...</td>\n",
       "      <td>[('Canada', 1), ('United States', 1), ('Canada...</td>\n",
       "      <td>True</td>\n",
       "      <td>Powell River Aikikai , self defence , the art...</td>\n",
       "      <td>Powell River Aikikai , self defence , art peac...</td>\n",
       "      <td>Powell River Aikikai self defence art peace in...</td>\n",
       "      <td>Powell River , self defence , the art of pea...</td>\n",
       "    </tr>\n",
       "    <tr>\n",
       "      <th>4</th>\n",
       "      <td>4</td>\n",
       "      <td>5</td>\n",
       "      <td>51159318</td>\n",
       "      <td>President of Cannabis NB says it will take mor...</td>\n",
       "      <td>prpeak.com</td>\n",
       "      <td>2019</td>\n",
       "      <td>President of Cannabis NB says it will take mo...</td>\n",
       "      <td>[('Canada', 1), ('Australia', 1), ('United Sta...</td>\n",
       "      <td>True</td>\n",
       "      <td>President of Cannabis NB says it will take mo...</td>\n",
       "      <td>President Cannabis NB says take time profitabl...</td>\n",
       "      <td>President Cannabis NB say take time profitable...</td>\n",
       "      <td>President of Cannabis NB says it will take m...</td>\n",
       "    </tr>\n",
       "  </tbody>\n",
       "</table>\n",
       "</div>"
      ],
      "text/plain": [
       "   Unnamed: 0  Unnamed: 0.1  article_id  \\\n",
       "0           0             0    51292143   \n",
       "1           1             1    51037626   \n",
       "2           2             2    51008947   \n",
       "3           3             4    51220423   \n",
       "4           4             5    51159318   \n",
       "\n",
       "                                       article_title   publisher  year  \\\n",
       "0  Edibles, extracts and topicals will be offered...  prpeak.com  2019   \n",
       "1  Intelligence official charged seemed to be 'ex...  prpeak.com  2019   \n",
       "2  Georgia GOP Sen. Isakson to retire over health...  prpeak.com  2019   \n",
       "3  Around Powell River: Community listings | Powe...  prpeak.com  2019   \n",
       "4  President of Cannabis NB says it will take mor...  prpeak.com  2019   \n",
       "\n",
       "                                        article_text  \\\n",
       "0   The province is now distributing new categori...   \n",
       "1   Ortis , 47 , was charged under three sections...   \n",
       "2   ATLANTA Republican Sen. Johnny Isakson's anno...   \n",
       "3   Powell River Aikikai , self defence , the art...   \n",
       "4   President of Cannabis NB says it will take mo...   \n",
       "\n",
       "                                     country_mention  Domestic  \\\n",
       "0  [('Canada', 1), ('United States', 1), ('Canada...      True   \n",
       "1  [('United States', 1), ('Canada', 1), ('France...      True   \n",
       "2  [('Georgia', 15), ('United Kingdom', 1), ('Aus...      True   \n",
       "3  [('Canada', 1), ('United States', 1), ('Canada...      True   \n",
       "4  [('Canada', 1), ('Australia', 1), ('United Sta...      True   \n",
       "\n",
       "                                  article_text_Ngram  \\\n",
       "0   The province is now distributing new categori...   \n",
       "1   Ortis , 47 , was charged under three sections...   \n",
       "2   ATLANTA Republican Sen. Johnny Isakson's anno...   \n",
       "3   Powell River Aikikai , self defence , the art...   \n",
       "4   President of Cannabis NB says it will take mo...   \n",
       "\n",
       "                         article_text_Ngram_stopword  \\\n",
       "0  The province distributing new categories legal...   \n",
       "1  Ortis , 47 , charged three sections Security I...   \n",
       "2  ATLANTA Republican Sen. Johnny Isakson 's anno...   \n",
       "3  Powell River Aikikai , self defence , art peac...   \n",
       "4  President Cannabis NB says take time profitabl...   \n",
       "\n",
       "               article_text_Ngram_stopword_lemmatize  \\\n",
       "0  The province distribute new category legal non...   \n",
       "1  Ortis 47 charge three section Security Informa...   \n",
       "2  ATLANTA Republican Sen. Johnny Isakson 's anno...   \n",
       "3  Powell River Aikikai self defence art peace in...   \n",
       "4  President Cannabis NB say take time profitable...   \n",
       "\n",
       "                                              text_2  \n",
       "0    The province is now distributing new categor...  \n",
       "1    , , was charged under sections of the Securi...  \n",
       "2    Sen. 's announcement that he will retire at ...  \n",
       "3    Powell River , self defence , the art of pea...  \n",
       "4    President of Cannabis NB says it will take m...  "
      ]
     },
     "execution_count": 10,
     "metadata": {},
     "output_type": "execute_result"
    }
   ],
   "source": [
    "CA.head()"
   ]
  },
  {
   "cell_type": "code",
   "execution_count": 45,
   "id": "c4bd5207",
   "metadata": {},
   "outputs": [],
   "source": [
    "ca['text']=text.apply(remove_place)\n",
    "ca['text_2']=ca['text'].apply(remove_names)\n",
    "ca = ca.drop(columns=['text'])"
   ]
  },
  {
   "cell_type": "code",
   "execution_count": 37,
   "id": "d694129d",
   "metadata": {},
   "outputs": [
    {
     "data": {
      "text/plain": [
       "0      The province is now distributing new categor...\n",
       "1      , , was charged under sections of the Securi...\n",
       "2      Sen. 's announcement that he will retire at ...\n",
       "3      Powell River , self defence , the art of pea...\n",
       "4      President of Cannabis NB says it will take m...\n",
       "5      Prime Minister Justin embraces Dominic as he...\n",
       "6      warns of government impersonation scam . Cal...\n",
       "7      say body of missing kayaker found near Powel...\n",
       "8      Dale appointed chair of Canadian Football Le...\n",
       "9      Ex medical officer loses fight to block rele...\n",
       "Name: text, dtype: object"
      ]
     },
     "execution_count": 37,
     "metadata": {},
     "output_type": "execute_result"
    }
   ],
   "source": [
    "ca['text']"
   ]
  },
  {
   "cell_type": "code",
   "execution_count": 74,
   "id": "8a06b1ed",
   "metadata": {},
   "outputs": [],
   "source": [
    "CA['text_2']=CA['text_2'].apply(remove_2)"
   ]
  },
  {
   "cell_type": "code",
   "execution_count": 69,
   "id": "fc08deeb",
   "metadata": {},
   "outputs": [],
   "source": [
    "test=CA[CA['text_2'].str.contains(\"Canada\")]['text_2'][3:5]"
   ]
  },
  {
   "cell_type": "code",
   "execution_count": 70,
   "id": "beb5eeca",
   "metadata": {},
   "outputs": [],
   "source": [
    "test_=test.apply(remove_2)"
   ]
  },
  {
   "cell_type": "code",
   "execution_count": 73,
   "id": "60bf03dd",
   "metadata": {},
   "outputs": [
    {
     "data": {
      "text/plain": [
       "9     False\n",
       "27    False\n",
       "Name: text_2, dtype: bool"
      ]
     },
     "execution_count": 73,
     "metadata": {},
     "output_type": "execute_result"
    }
   ],
   "source": [
    "test_.str.contains(\"Canada\")"
   ]
  },
  {
   "cell_type": "code",
   "execution_count": 29,
   "id": "5b5c11a5",
   "metadata": {},
   "outputs": [],
   "source": [
    "text_data=test[9]\n",
    "doc=nlp(text_data)\n",
    "text_no_namedentities = \"\"\n",
    "for token in doc:\n",
    "    if not token.ent_type:\n",
    "        text_no_namedentities += token.text\n",
    "        if token.whitespace_:\n",
    "            text_no_namedentities += \" \"\n",
    "\n"
   ]
  },
  {
   "cell_type": "code",
   "execution_count": 30,
   "id": "962c76e4",
   "metadata": {},
   "outputs": [
    {
     "data": {
      "text/plain": [
       "\"  Ex medical officer loses fight to block release of sensitive report . TORONTO The former head of a public health unit on lost her last bid to keep secret a report that details her personal relationship with a convicted fraudster the agency hired as its chief financial officer . However , despite refusal to weigh in on the case , the report involving Dr.  remained under wraps for the time being . On advice from legal counsel , the applicant can request within to reconsider , unit spokesman said . The case arose in , when based in Sault Ste . , . , hired as its interim for . His hiring came after his predecessor left amid criminal charges of breach of trust and theft . , however , turned out to be  , of , . , who had a criminal record for multiple counts of fraud . The revelation , by media outlet , prompted to resign in , sparking questions about her role in his hiring and whether their personal relationship had put her in an undisclosed conflict of interest . , who says she is legally blind , has spent fighting release of the forensic report into the situation . She said ahead of the decision that she is being revictimized . Though it is hurtful to have to hear that my visual disability and associated insecurities allowed me to become the victim of a professional conman now awaiting sentencing for defrauding another woman , I am glad the report found no money was misappropriated during my tenure . The health unit has long wanted to release the document under to inform the citizenry about the activities of the institution during a time when its integrity was in question . The province 's privacy commissioner agreed a compelling public interest in the disclosure outweighed 's privacy concerns . In , acknowledged the significant personal distress releasing the audit would cause but , unlike , ruled the public interest in how hired outweighed her privacy interests . The doctor was a senior public official accountable to the community , the health unit board as well as , the appellate court said . , in line with the wishes of the health unit and the privacy commissioner ruling , ordered full release of the audit , prompting her now failed attempt to involve . was found guilty of defrauding another woman . However , he is awaiting a ruling on his request to stay the proceedings on the grounds that his charter rights were violated because of the strip searches he was subjected to while in detention .\""
      ]
     },
     "execution_count": 30,
     "metadata": {},
     "output_type": "execute_result"
    }
   ],
   "source": [
    "text_no_namedentities"
   ]
  },
  {
   "cell_type": "code",
   "execution_count": 31,
   "id": "0388836b",
   "metadata": {},
   "outputs": [
    {
     "data": {
      "text/plain": [
       "\"  Ex medical officer loses fight to block release of sensitive report . TORONTO The former head of a public health unit on lost her last bid to keep secret a report that details her personal relationship with a convicted fraudster the agency hired as its chief financial officer . However , despite the Supreme Court of Canada 's refusal to weigh in on the case , the report involving Dr.  remained under wraps for the time being . On advice from Algoma Public Health legal counsel , the applicant can request within 30 days the Supreme Court of Canada to reconsider , unit spokesman Leo Vecchio said . The case arose in , when Algoma Public Health based in Sault Ste . , . , hired Shaun as its interim for six months ending in May 2014 . His hiring came after his predecessor left amid criminal charges of breach of trust and theft . , however , turned out to be  , of , . , who had a criminal record for multiple counts of fraud . The revelation , by media outlet , prompted to resign in early 2015 , sparking questions about her role in his hiring and whether their personal relationship had put her in an undisclosed conflict of interest . , who says she is legally blind , has spent several years fighting release of the forensic report into the situation . She said ahead of the Supreme Court decision that she is being revictimized . Though it is hurtful to have to hear that my visual disability and associated insecurities allowed me to become the victim of a professional conman now awaiting sentencing for defrauding another woman , I am glad the report found no money was misappropriated during my tenure . The health unit has long wanted to release the document under the Municipal Freedom of Information and Protection of Privacy Act to inform the citizenry about the activities of the institution during a time when its integrity was in question . The province 's privacy commissioner agreed a compelling public interest in the disclosure outweighed 's privacy concerns . In , the Ontario Court of Appeal acknowledged the significant personal distress releasing the audit would cause but , unlike Divisional Court , ruled the public interest in how Algoma Public Health hired outweighed her privacy interests . The doctor was a senior public official accountable to the community , the health unit board as well as the Ministry of Health , the appellate court said . The Appeal Court , in line with the wishes of the health unit and the privacy commissioner ruling , ordered full release of the audit , prompting her now failed attempt to involve the Supreme Court . was found guilty earlier this year of defrauding another woman . However , he is awaiting a ruling on his request to stay the proceedings on the grounds that his charter rights were violated because of the strip searches he was subjected to while in detention .\""
      ]
     },
     "execution_count": 31,
     "metadata": {},
     "output_type": "execute_result"
    }
   ],
   "source": [
    "text_data"
   ]
  },
  {
   "cell_type": "code",
   "execution_count": 55,
   "id": "a68a6665",
   "metadata": {},
   "outputs": [],
   "source": [
    "#save no named entities  data to csv\n",
    "ca.to_csv(\"CA2.csv\")"
   ]
  },
  {
   "cell_type": "code",
   "execution_count": 8,
   "id": "28b5606f",
   "metadata": {},
   "outputs": [],
   "source": [
    "import collections\n",
    "def top_words(text):\n",
    "    counts = collections.Counter(text.lower().split())\n",
    "    return [elem for elem, _ in sorted(counts.most_common(),key=lambda x:(-x[1], x[0]))[:1000]]"
   ]
  },
  {
   "cell_type": "code",
   "execution_count": 9,
   "id": "cd36ec26",
   "metadata": {},
   "outputs": [],
   "source": [
    "def top_words_freq(text):\n",
    "    counts = collections.Counter(text.lower().split())\n",
    "    return [_ for elem, _ in sorted(counts.most_common(),key=lambda x:(-x[1], x[0]))[:1000]]"
   ]
  },
  {
   "cell_type": "code",
   "execution_count": 56,
   "id": "df33fecd",
   "metadata": {},
   "outputs": [],
   "source": [
    "CA = pd.read_csv('CA2.csv')"
   ]
  },
  {
   "cell_type": "code",
   "execution_count": 57,
   "id": "74f3a115",
   "metadata": {},
   "outputs": [
    {
     "data": {
      "text/html": [
       "<div>\n",
       "<style scoped>\n",
       "    .dataframe tbody tr th:only-of-type {\n",
       "        vertical-align: middle;\n",
       "    }\n",
       "\n",
       "    .dataframe tbody tr th {\n",
       "        vertical-align: top;\n",
       "    }\n",
       "\n",
       "    .dataframe thead th {\n",
       "        text-align: right;\n",
       "    }\n",
       "</style>\n",
       "<table border=\"1\" class=\"dataframe\">\n",
       "  <thead>\n",
       "    <tr style=\"text-align: right;\">\n",
       "      <th></th>\n",
       "      <th>Unnamed: 0</th>\n",
       "      <th>Unnamed: 0.1</th>\n",
       "      <th>article_id</th>\n",
       "      <th>article_title</th>\n",
       "      <th>publisher</th>\n",
       "      <th>year</th>\n",
       "      <th>article_text</th>\n",
       "      <th>country_mention</th>\n",
       "      <th>Domestic</th>\n",
       "      <th>article_text_Ngram</th>\n",
       "      <th>article_text_Ngram_stopword</th>\n",
       "      <th>article_text_Ngram_stopword_lemmatize</th>\n",
       "      <th>text_2</th>\n",
       "    </tr>\n",
       "  </thead>\n",
       "  <tbody>\n",
       "    <tr>\n",
       "      <th>0</th>\n",
       "      <td>0</td>\n",
       "      <td>0</td>\n",
       "      <td>51292143</td>\n",
       "      <td>Edibles, extracts and topicals will be offered...</td>\n",
       "      <td>prpeak.com</td>\n",
       "      <td>2019</td>\n",
       "      <td>The province is now distributing new categori...</td>\n",
       "      <td>[('Canada', 1), ('United States', 1), ('Canada...</td>\n",
       "      <td>True</td>\n",
       "      <td>The province is now distributing new categori...</td>\n",
       "      <td>The province distributing new categories legal...</td>\n",
       "      <td>The province distribute new category legal non...</td>\n",
       "      <td>The province is now distributing new categor...</td>\n",
       "    </tr>\n",
       "    <tr>\n",
       "      <th>1</th>\n",
       "      <td>1</td>\n",
       "      <td>1</td>\n",
       "      <td>51037626</td>\n",
       "      <td>Intelligence official charged seemed to be 'ex...</td>\n",
       "      <td>prpeak.com</td>\n",
       "      <td>2019</td>\n",
       "      <td>Ortis , 47 , was charged under three sections...</td>\n",
       "      <td>[('United States', 1), ('Canada', 1), ('France...</td>\n",
       "      <td>True</td>\n",
       "      <td>Ortis , 47 , was charged under three sections...</td>\n",
       "      <td>Ortis , 47 , charged three sections Security I...</td>\n",
       "      <td>Ortis 47 charge three section Security Informa...</td>\n",
       "      <td>, , was charged under sections of the Securi...</td>\n",
       "    </tr>\n",
       "    <tr>\n",
       "      <th>2</th>\n",
       "      <td>2</td>\n",
       "      <td>2</td>\n",
       "      <td>51008947</td>\n",
       "      <td>Georgia GOP Sen. Isakson to retire over health...</td>\n",
       "      <td>prpeak.com</td>\n",
       "      <td>2019</td>\n",
       "      <td>ATLANTA Republican Sen. Johnny Isakson's anno...</td>\n",
       "      <td>[('Georgia', 15), ('United Kingdom', 1), ('Aus...</td>\n",
       "      <td>True</td>\n",
       "      <td>ATLANTA Republican Sen. Johnny Isakson's anno...</td>\n",
       "      <td>ATLANTA Republican Sen. Johnny Isakson 's anno...</td>\n",
       "      <td>ATLANTA Republican Sen. Johnny Isakson 's anno...</td>\n",
       "      <td>Sen. 's announcement that he will retire at ...</td>\n",
       "    </tr>\n",
       "    <tr>\n",
       "      <th>3</th>\n",
       "      <td>3</td>\n",
       "      <td>4</td>\n",
       "      <td>51220423</td>\n",
       "      <td>Around Powell River: Community listings | Powe...</td>\n",
       "      <td>prpeak.com</td>\n",
       "      <td>2019</td>\n",
       "      <td>Powell River Aikikai , self defence , the art...</td>\n",
       "      <td>[('Canada', 1), ('United States', 1), ('Canada...</td>\n",
       "      <td>True</td>\n",
       "      <td>Powell River Aikikai , self defence , the art...</td>\n",
       "      <td>Powell River Aikikai , self defence , art peac...</td>\n",
       "      <td>Powell River Aikikai self defence art peace in...</td>\n",
       "      <td>Powell River , self defence , the art of pea...</td>\n",
       "    </tr>\n",
       "    <tr>\n",
       "      <th>4</th>\n",
       "      <td>4</td>\n",
       "      <td>5</td>\n",
       "      <td>51159318</td>\n",
       "      <td>President of Cannabis NB says it will take mor...</td>\n",
       "      <td>prpeak.com</td>\n",
       "      <td>2019</td>\n",
       "      <td>President of Cannabis NB says it will take mo...</td>\n",
       "      <td>[('Canada', 1), ('Australia', 1), ('United Sta...</td>\n",
       "      <td>True</td>\n",
       "      <td>President of Cannabis NB says it will take mo...</td>\n",
       "      <td>President Cannabis NB says take time profitabl...</td>\n",
       "      <td>President Cannabis NB say take time profitable...</td>\n",
       "      <td>President of Cannabis NB says it will take m...</td>\n",
       "    </tr>\n",
       "  </tbody>\n",
       "</table>\n",
       "</div>"
      ],
      "text/plain": [
       "   Unnamed: 0  Unnamed: 0.1  article_id  \\\n",
       "0           0             0    51292143   \n",
       "1           1             1    51037626   \n",
       "2           2             2    51008947   \n",
       "3           3             4    51220423   \n",
       "4           4             5    51159318   \n",
       "\n",
       "                                       article_title   publisher  year  \\\n",
       "0  Edibles, extracts and topicals will be offered...  prpeak.com  2019   \n",
       "1  Intelligence official charged seemed to be 'ex...  prpeak.com  2019   \n",
       "2  Georgia GOP Sen. Isakson to retire over health...  prpeak.com  2019   \n",
       "3  Around Powell River: Community listings | Powe...  prpeak.com  2019   \n",
       "4  President of Cannabis NB says it will take mor...  prpeak.com  2019   \n",
       "\n",
       "                                        article_text  \\\n",
       "0   The province is now distributing new categori...   \n",
       "1   Ortis , 47 , was charged under three sections...   \n",
       "2   ATLANTA Republican Sen. Johnny Isakson's anno...   \n",
       "3   Powell River Aikikai , self defence , the art...   \n",
       "4   President of Cannabis NB says it will take mo...   \n",
       "\n",
       "                                     country_mention  Domestic  \\\n",
       "0  [('Canada', 1), ('United States', 1), ('Canada...      True   \n",
       "1  [('United States', 1), ('Canada', 1), ('France...      True   \n",
       "2  [('Georgia', 15), ('United Kingdom', 1), ('Aus...      True   \n",
       "3  [('Canada', 1), ('United States', 1), ('Canada...      True   \n",
       "4  [('Canada', 1), ('Australia', 1), ('United Sta...      True   \n",
       "\n",
       "                                  article_text_Ngram  \\\n",
       "0   The province is now distributing new categori...   \n",
       "1   Ortis , 47 , was charged under three sections...   \n",
       "2   ATLANTA Republican Sen. Johnny Isakson's anno...   \n",
       "3   Powell River Aikikai , self defence , the art...   \n",
       "4   President of Cannabis NB says it will take mo...   \n",
       "\n",
       "                         article_text_Ngram_stopword  \\\n",
       "0  The province distributing new categories legal...   \n",
       "1  Ortis , 47 , charged three sections Security I...   \n",
       "2  ATLANTA Republican Sen. Johnny Isakson 's anno...   \n",
       "3  Powell River Aikikai , self defence , art peac...   \n",
       "4  President Cannabis NB says take time profitabl...   \n",
       "\n",
       "               article_text_Ngram_stopword_lemmatize  \\\n",
       "0  The province distribute new category legal non...   \n",
       "1  Ortis 47 charge three section Security Informa...   \n",
       "2  ATLANTA Republican Sen. Johnny Isakson 's anno...   \n",
       "3  Powell River Aikikai self defence art peace in...   \n",
       "4  President Cannabis NB say take time profitable...   \n",
       "\n",
       "                                              text_2  \n",
       "0    The province is now distributing new categor...  \n",
       "1    , , was charged under sections of the Securi...  \n",
       "2    Sen. 's announcement that he will retire at ...  \n",
       "3    Powell River , self defence , the art of pea...  \n",
       "4    President of Cannabis NB says it will take m...  "
      ]
     },
     "execution_count": 57,
     "metadata": {},
     "output_type": "execute_result"
    }
   ],
   "source": [
    "CA.head()"
   ]
  },
  {
   "cell_type": "code",
   "execution_count": 59,
   "id": "c5aa4a93",
   "metadata": {},
   "outputs": [],
   "source": [
    "CA_word = pd.DataFrame(columns=['word','frequency'])\n",
    "Text = ' '.join(ca['text_2'].tolist())\n",
    "Text=re.sub(r'[^\\w\\s]', '', Text)"
   ]
  },
  {
   "cell_type": "code",
   "execution_count": 100,
   "id": "95379dce",
   "metadata": {},
   "outputs": [],
   "source": [
    "CA_word['relative_freq']=\"\"\n"
   ]
  },
  {
   "cell_type": "code",
   "execution_count": 81,
   "id": "ea625a38",
   "metadata": {},
   "outputs": [],
   "source": [
    "CA_word['word'] = top_words(Text)\n",
    "CA_word['frequency']=top_words_freq(Text)"
   ]
  },
  {
   "cell_type": "code",
   "execution_count": 101,
   "id": "8fde6c1e",
   "metadata": {},
   "outputs": [],
   "source": [
    "total_num = CA_word['frequency'].sum()\n",
    "CA_word['relative_freq']=CA_word['frequency']/total_num"
   ]
  },
  {
   "cell_type": "code",
   "execution_count": 102,
   "id": "ddcbd41f",
   "metadata": {},
   "outputs": [
    {
     "data": {
      "text/html": [
       "<div>\n",
       "<style scoped>\n",
       "    .dataframe tbody tr th:only-of-type {\n",
       "        vertical-align: middle;\n",
       "    }\n",
       "\n",
       "    .dataframe tbody tr th {\n",
       "        vertical-align: top;\n",
       "    }\n",
       "\n",
       "    .dataframe thead th {\n",
       "        text-align: right;\n",
       "    }\n",
       "</style>\n",
       "<table border=\"1\" class=\"dataframe\">\n",
       "  <thead>\n",
       "    <tr style=\"text-align: right;\">\n",
       "      <th></th>\n",
       "      <th>word</th>\n",
       "      <th>frequency</th>\n",
       "      <th>relative_freq</th>\n",
       "    </tr>\n",
       "  </thead>\n",
       "  <tbody>\n",
       "    <tr>\n",
       "      <th>0</th>\n",
       "      <td>the</td>\n",
       "      <td>2913900</td>\n",
       "      <td>0.083373</td>\n",
       "    </tr>\n",
       "    <tr>\n",
       "      <th>1</th>\n",
       "      <td>to</td>\n",
       "      <td>1453643</td>\n",
       "      <td>0.041592</td>\n",
       "    </tr>\n",
       "    <tr>\n",
       "      <th>2</th>\n",
       "      <td>and</td>\n",
       "      <td>1388210</td>\n",
       "      <td>0.039720</td>\n",
       "    </tr>\n",
       "    <tr>\n",
       "      <th>3</th>\n",
       "      <td>of</td>\n",
       "      <td>1344326</td>\n",
       "      <td>0.038464</td>\n",
       "    </tr>\n",
       "    <tr>\n",
       "      <th>4</th>\n",
       "      <td>a</td>\n",
       "      <td>1199482</td>\n",
       "      <td>0.034320</td>\n",
       "    </tr>\n",
       "  </tbody>\n",
       "</table>\n",
       "</div>"
      ],
      "text/plain": [
       "  word  frequency  relative_freq\n",
       "0  the    2913900       0.083373\n",
       "1   to    1453643       0.041592\n",
       "2  and    1388210       0.039720\n",
       "3   of    1344326       0.038464\n",
       "4    a    1199482       0.034320"
      ]
     },
     "execution_count": 102,
     "metadata": {},
     "output_type": "execute_result"
    }
   ],
   "source": [
    "CA_word.head()"
   ]
  },
  {
   "cell_type": "code",
   "execution_count": 103,
   "id": "c181adf9",
   "metadata": {},
   "outputs": [],
   "source": [
    "CA_word.to_csv(\"CA_word.csv\")"
   ]
  },
  {
   "cell_type": "code",
   "execution_count": 87,
   "id": "58a0d5a4",
   "metadata": {},
   "outputs": [
    {
     "name": "stdout",
     "output_type": "stream",
     "text": [
      "67406\n"
     ]
    },
    {
     "data": {
      "text/html": [
       "<div>\n",
       "<style scoped>\n",
       "    .dataframe tbody tr th:only-of-type {\n",
       "        vertical-align: middle;\n",
       "    }\n",
       "\n",
       "    .dataframe tbody tr th {\n",
       "        vertical-align: top;\n",
       "    }\n",
       "\n",
       "    .dataframe thead th {\n",
       "        text-align: right;\n",
       "    }\n",
       "</style>\n",
       "<table border=\"1\" class=\"dataframe\">\n",
       "  <thead>\n",
       "    <tr style=\"text-align: right;\">\n",
       "      <th></th>\n",
       "      <th>Unnamed: 0</th>\n",
       "      <th>article_id</th>\n",
       "      <th>article_title</th>\n",
       "      <th>publisher</th>\n",
       "      <th>year</th>\n",
       "      <th>article_text</th>\n",
       "      <th>country_mention</th>\n",
       "      <th>Domestic</th>\n",
       "      <th>article_text_Ngram</th>\n",
       "      <th>article_text_Ngram_stopword</th>\n",
       "      <th>article_text_Ngram_stopword_lemmatize</th>\n",
       "    </tr>\n",
       "  </thead>\n",
       "  <tbody>\n",
       "    <tr>\n",
       "      <th>0</th>\n",
       "      <td>1</td>\n",
       "      <td>2047596</td>\n",
       "      <td>Francis and the 'Culture of Encounter'</td>\n",
       "      <td>National Catholic Reporter</td>\n",
       "      <td>2013</td>\n",
       "      <td>Francis and the' Culture of Encounter'. All p...</td>\n",
       "      <td>[('Italy', 1), ('Brazil', 1), ('China', 1), ('...</td>\n",
       "      <td>True</td>\n",
       "      <td>Francis and the' Culture of Encounter'. All p...</td>\n",
       "      <td>Francis ' Culture Encounter ' . All popes tend...</td>\n",
       "      <td>Francis Culture Encounter All pope tend couple...</td>\n",
       "    </tr>\n",
       "    <tr>\n",
       "      <th>1</th>\n",
       "      <td>2</td>\n",
       "      <td>109921</td>\n",
       "      <td>Papabile of the Day: The Men Who Could Be Pope</td>\n",
       "      <td>National Catholic Reporter</td>\n",
       "      <td>2013</td>\n",
       "      <td>Papabile of the Day The Men Who Could Be Pope...</td>\n",
       "      <td>[('United Kingdom', 1), ('United States', 1), ...</td>\n",
       "      <td>True</td>\n",
       "      <td>Papabile of the Day The Men Who Could Be Pope...</td>\n",
       "      <td>Papabile Day The Men Who Could Be Pope . John ...</td>\n",
       "      <td>Papabile Day The Men Who Could Be Pope John Al...</td>\n",
       "    </tr>\n",
       "    <tr>\n",
       "      <th>2</th>\n",
       "      <td>3</td>\n",
       "      <td>73202</td>\n",
       "      <td>We can become God's prophets through love</td>\n",
       "      <td>National Catholic Reporter</td>\n",
       "      <td>2013</td>\n",
       "      <td>We can become God's prophets through love. Th...</td>\n",
       "      <td>[('United States', 1), ('Canada', 1), ('Hungar...</td>\n",
       "      <td>True</td>\n",
       "      <td>We can become God's prophets through love. Th...</td>\n",
       "      <td>We become God 's prophets love . The first les...</td>\n",
       "      <td>We become God 's prophet love The first lesson...</td>\n",
       "    </tr>\n",
       "    <tr>\n",
       "      <th>3</th>\n",
       "      <td>5</td>\n",
       "      <td>277348</td>\n",
       "      <td>The paradox of Pope Francis</td>\n",
       "      <td>National Catholic Reporter</td>\n",
       "      <td>2013</td>\n",
       "      <td>The Independent News Source. The paradox of P...</td>\n",
       "      <td>[('Italy', 2), ('France', 1), ('Germany', 1), ...</td>\n",
       "      <td>True</td>\n",
       "      <td>The Independent News Source. The paradox of P...</td>\n",
       "      <td>The Independent News Source . The paradox Pope...</td>\n",
       "      <td>The Independent News Source The paradox Pope F...</td>\n",
       "    </tr>\n",
       "    <tr>\n",
       "      <th>4</th>\n",
       "      <td>6</td>\n",
       "      <td>177275</td>\n",
       "      <td>We must emulate the example of Jesus during Ho...</td>\n",
       "      <td>National Catholic Reporter</td>\n",
       "      <td>2013</td>\n",
       "      <td>We must emulate the example of Jesus during H...</td>\n",
       "      <td>[('United Kingdom', 1), ('Israel', 1), ('Portu...</td>\n",
       "      <td>True</td>\n",
       "      <td>We must emulate the example of Jesus during H...</td>\n",
       "      <td>We must emulate example Jesus Holy Week underg...</td>\n",
       "      <td>We must emulate example Jesus Holy Week underg...</td>\n",
       "    </tr>\n",
       "  </tbody>\n",
       "</table>\n",
       "</div>"
      ],
      "text/plain": [
       "   Unnamed: 0  article_id                                      article_title  \\\n",
       "0           1     2047596             Francis and the 'Culture of Encounter'   \n",
       "1           2      109921     Papabile of the Day: The Men Who Could Be Pope   \n",
       "2           3       73202          We can become God's prophets through love   \n",
       "3           5      277348                        The paradox of Pope Francis   \n",
       "4           6      177275  We must emulate the example of Jesus during Ho...   \n",
       "\n",
       "                    publisher  year  \\\n",
       "0  National Catholic Reporter  2013   \n",
       "1  National Catholic Reporter  2013   \n",
       "2  National Catholic Reporter  2013   \n",
       "3  National Catholic Reporter  2013   \n",
       "4  National Catholic Reporter  2013   \n",
       "\n",
       "                                        article_text  \\\n",
       "0   Francis and the' Culture of Encounter'. All p...   \n",
       "1   Papabile of the Day The Men Who Could Be Pope...   \n",
       "2   We can become God's prophets through love. Th...   \n",
       "3   The Independent News Source. The paradox of P...   \n",
       "4   We must emulate the example of Jesus during H...   \n",
       "\n",
       "                                     country_mention  Domestic  \\\n",
       "0  [('Italy', 1), ('Brazil', 1), ('China', 1), ('...      True   \n",
       "1  [('United Kingdom', 1), ('United States', 1), ...      True   \n",
       "2  [('United States', 1), ('Canada', 1), ('Hungar...      True   \n",
       "3  [('Italy', 2), ('France', 1), ('Germany', 1), ...      True   \n",
       "4  [('United Kingdom', 1), ('Israel', 1), ('Portu...      True   \n",
       "\n",
       "                                  article_text_Ngram  \\\n",
       "0   Francis and the' Culture of Encounter'. All p...   \n",
       "1   Papabile of the Day The Men Who Could Be Pope...   \n",
       "2   We can become God's prophets through love. Th...   \n",
       "3   The Independent News Source. The paradox of P...   \n",
       "4   We must emulate the example of Jesus during H...   \n",
       "\n",
       "                         article_text_Ngram_stopword  \\\n",
       "0  Francis ' Culture Encounter ' . All popes tend...   \n",
       "1  Papabile Day The Men Who Could Be Pope . John ...   \n",
       "2  We become God 's prophets love . The first les...   \n",
       "3  The Independent News Source . The paradox Pope...   \n",
       "4  We must emulate example Jesus Holy Week underg...   \n",
       "\n",
       "               article_text_Ngram_stopword_lemmatize  \n",
       "0  Francis Culture Encounter All pope tend couple...  \n",
       "1  Papabile Day The Men Who Could Be Pope John Al...  \n",
       "2  We become God 's prophet love The first lesson...  \n",
       "3  The Independent News Source The paradox Pope F...  \n",
       "4  We must emulate example Jesus Holy Week underg...  "
      ]
     },
     "execution_count": 87,
     "metadata": {},
     "output_type": "execute_result"
    }
   ],
   "source": [
    "#US\n",
    "us = pd.read_csv('/Users/Rebecca/Desktop/PEACE/data/5_domestic_filter_Ngram_stopwords_lemmatize/US_domestic_Ngram_stopword_lematize.csv')\n",
    "print(len(us))\n",
    "us.head()"
   ]
  },
  {
   "cell_type": "code",
   "execution_count": 88,
   "id": "92564741",
   "metadata": {},
   "outputs": [],
   "source": [
    "\n",
    "text = us['article_text_Ngram']\n",
    "us['text']=\"\"\n",
    "us['text_2']=\"\""
   ]
  },
  {
   "cell_type": "code",
   "execution_count": 89,
   "id": "a6c87776",
   "metadata": {},
   "outputs": [],
   "source": [
    "us['text']=text.apply(remove_place)\n",
    "us['text_2']=us['text'].apply(remove_names)\n",
    "us = us.drop(columns=['text'])"
   ]
  },
  {
   "cell_type": "code",
   "execution_count": 90,
   "id": "0acc584a",
   "metadata": {},
   "outputs": [],
   "source": [
    "#save no named entities  data to csv\n",
    "us.to_csv(\"US2.csv\")"
   ]
  },
  {
   "cell_type": "code",
   "execution_count": 91,
   "id": "0f053d37",
   "metadata": {},
   "outputs": [],
   "source": [
    "US_word = pd.DataFrame(columns=['word','frequency','relative_freq'])\n",
    "Text = ' '.join(us['text_2'].tolist())\n",
    "Text=re.sub(r'[^\\w\\s]', '', Text)"
   ]
  },
  {
   "cell_type": "code",
   "execution_count": 94,
   "id": "468fd4c6",
   "metadata": {},
   "outputs": [],
   "source": [
    "US_word['word'] = top_words(Text)\n",
    "US_word['frequency']=top_words_freq(Text)"
   ]
  },
  {
   "cell_type": "code",
   "execution_count": 97,
   "id": "3fd592d7",
   "metadata": {},
   "outputs": [],
   "source": [
    "total_num = US_word['frequency'].sum()\n",
    "US_word['relative_freq']=US_word['frequency']/total_num"
   ]
  },
  {
   "cell_type": "code",
   "execution_count": 98,
   "id": "d0b56e1c",
   "metadata": {},
   "outputs": [
    {
     "data": {
      "text/html": [
       "<div>\n",
       "<style scoped>\n",
       "    .dataframe tbody tr th:only-of-type {\n",
       "        vertical-align: middle;\n",
       "    }\n",
       "\n",
       "    .dataframe tbody tr th {\n",
       "        vertical-align: top;\n",
       "    }\n",
       "\n",
       "    .dataframe thead th {\n",
       "        text-align: right;\n",
       "    }\n",
       "</style>\n",
       "<table border=\"1\" class=\"dataframe\">\n",
       "  <thead>\n",
       "    <tr style=\"text-align: right;\">\n",
       "      <th></th>\n",
       "      <th>word</th>\n",
       "      <th>frequency</th>\n",
       "      <th>relative_freq</th>\n",
       "    </tr>\n",
       "  </thead>\n",
       "  <tbody>\n",
       "    <tr>\n",
       "      <th>0</th>\n",
       "      <td>the</td>\n",
       "      <td>2567497</td>\n",
       "      <td>0.083421</td>\n",
       "    </tr>\n",
       "    <tr>\n",
       "      <th>1</th>\n",
       "      <td>of</td>\n",
       "      <td>1263848</td>\n",
       "      <td>0.041064</td>\n",
       "    </tr>\n",
       "    <tr>\n",
       "      <th>2</th>\n",
       "      <td>to</td>\n",
       "      <td>1225145</td>\n",
       "      <td>0.039806</td>\n",
       "    </tr>\n",
       "    <tr>\n",
       "      <th>3</th>\n",
       "      <td>and</td>\n",
       "      <td>1183105</td>\n",
       "      <td>0.038441</td>\n",
       "    </tr>\n",
       "    <tr>\n",
       "      <th>4</th>\n",
       "      <td>a</td>\n",
       "      <td>1071531</td>\n",
       "      <td>0.034815</td>\n",
       "    </tr>\n",
       "  </tbody>\n",
       "</table>\n",
       "</div>"
      ],
      "text/plain": [
       "  word  frequency  relative_freq\n",
       "0  the    2567497       0.083421\n",
       "1   of    1263848       0.041064\n",
       "2   to    1225145       0.039806\n",
       "3  and    1183105       0.038441\n",
       "4    a    1071531       0.034815"
      ]
     },
     "execution_count": 98,
     "metadata": {},
     "output_type": "execute_result"
    }
   ],
   "source": [
    "US_word.head()"
   ]
  },
  {
   "cell_type": "code",
   "execution_count": 99,
   "id": "20244398",
   "metadata": {},
   "outputs": [],
   "source": [
    "US_word.to_csv(\"US_word.csv\")"
   ]
  },
  {
   "cell_type": "code",
   "execution_count": 8,
   "id": "9bf71bf7",
   "metadata": {},
   "outputs": [],
   "source": [
    "#singapore\n",
    "sg = pd.read_csv('/Users/Rebecca/Desktop/PEACE/data/5_domestic_filter_Ngram_stopwords_lemmatize/SG_domestic_Ngram_stopword_lematize.csv')"
   ]
  },
  {
   "cell_type": "code",
   "execution_count": 9,
   "id": "3a9d2d55",
   "metadata": {},
   "outputs": [
    {
     "name": "stdout",
     "output_type": "stream",
     "text": [
      "20196\n"
     ]
    },
    {
     "data": {
      "text/html": [
       "<div>\n",
       "<style scoped>\n",
       "    .dataframe tbody tr th:only-of-type {\n",
       "        vertical-align: middle;\n",
       "    }\n",
       "\n",
       "    .dataframe tbody tr th {\n",
       "        vertical-align: top;\n",
       "    }\n",
       "\n",
       "    .dataframe thead th {\n",
       "        text-align: right;\n",
       "    }\n",
       "</style>\n",
       "<table border=\"1\" class=\"dataframe\">\n",
       "  <thead>\n",
       "    <tr style=\"text-align: right;\">\n",
       "      <th></th>\n",
       "      <th>Unnamed: 0</th>\n",
       "      <th>article_id</th>\n",
       "      <th>article_title</th>\n",
       "      <th>publisher</th>\n",
       "      <th>year</th>\n",
       "      <th>article_text</th>\n",
       "      <th>country_mention</th>\n",
       "      <th>Domestic</th>\n",
       "      <th>article_text_Ngram</th>\n",
       "      <th>article_text_Ngram_stopword</th>\n",
       "      <th>article_text_Ngram_stopword_lemmatize</th>\n",
       "    </tr>\n",
       "  </thead>\n",
       "  <tbody>\n",
       "    <tr>\n",
       "      <th>0</th>\n",
       "      <td>157</td>\n",
       "      <td>41297631</td>\n",
       "      <td>2019 | Business Insider Singapore | Page 3601</td>\n",
       "      <td>businessinsider.sg</td>\n",
       "      <td>2019</td>\n",
       "      <td>Netflix's dark comedy A Series of Unfortunate...</td>\n",
       "      <td>[('Cuba', 7), ('Singapore', 2), ('Georgia', 1)...</td>\n",
       "      <td>True</td>\n",
       "      <td>Netflix's dark comedy A Series of Unfortunate...</td>\n",
       "      <td>Netflix 's dark comedy A Series Unfortunate Ev...</td>\n",
       "      <td>Netflix 's dark comedy A Series Unfortunate Ev...</td>\n",
       "    </tr>\n",
       "    <tr>\n",
       "      <th>1</th>\n",
       "      <td>160</td>\n",
       "      <td>41397200</td>\n",
       "      <td>Here's our honest review of Playmade's cocoa m...</td>\n",
       "      <td>businessinsider.sg</td>\n",
       "      <td>2019</td>\n",
       "      <td>Taiwanese bubble tea chain Playmade known for...</td>\n",
       "      <td>[('Singapore', 2), ('Japan', 1), ('United Stat...</td>\n",
       "      <td>True</td>\n",
       "      <td>Taiwanese bubble tea chain Playmade known for...</td>\n",
       "      <td>Taiwanese bubble tea chain Playmade known maki...</td>\n",
       "      <td>Taiwanese bubble tea chain Playmade know make ...</td>\n",
       "    </tr>\n",
       "    <tr>\n",
       "      <th>2</th>\n",
       "      <td>175</td>\n",
       "      <td>41287072</td>\n",
       "      <td>2019 | Business Insider Singapore | Page 3495</td>\n",
       "      <td>businessinsider.sg</td>\n",
       "      <td>2019</td>\n",
       "      <td>In mid July , Build A Bear debuted the Pay Yo...</td>\n",
       "      <td>[('Iceland', 9), ('Singapore', 5), ('Thailand'...</td>\n",
       "      <td>True</td>\n",
       "      <td>In mid July , Build A Bear debuted the Pay Yo...</td>\n",
       "      <td>In mid July , Build A Bear debuted Pay Your Ag...</td>\n",
       "      <td>In mid July Build A Bear debut Pay Your Age de...</td>\n",
       "    </tr>\n",
       "    <tr>\n",
       "      <th>3</th>\n",
       "      <td>177</td>\n",
       "      <td>41514837</td>\n",
       "      <td>Suicide is the main cause of death for millenn...</td>\n",
       "      <td>businessinsider.sg</td>\n",
       "      <td>2019</td>\n",
       "      <td>Suicide is the main cause of death for millen...</td>\n",
       "      <td>[('Singapore', 3), ('Singapore', 1)]</td>\n",
       "      <td>True</td>\n",
       "      <td>Suicide is the main cause of death for millen...</td>\n",
       "      <td>Suicide main cause death millennials Singapore...</td>\n",
       "      <td>Suicide main cause death millennials Singapore...</td>\n",
       "    </tr>\n",
       "    <tr>\n",
       "      <th>4</th>\n",
       "      <td>183</td>\n",
       "      <td>41384923</td>\n",
       "      <td>Bowflex now makes an adjustable kettlebell tha...</td>\n",
       "      <td>businessinsider.sg</td>\n",
       "      <td>2019</td>\n",
       "      <td>Bowflex now makes an adjustable kettlebell th...</td>\n",
       "      <td>[]</td>\n",
       "      <td>True</td>\n",
       "      <td>Bowflex now makes an adjustable kettlebell th...</td>\n",
       "      <td>Bowflex makes adjustable kettlebell goes 8 40 ...</td>\n",
       "      <td>Bowflex make adjustable kettlebell go 8 40 pou...</td>\n",
       "    </tr>\n",
       "  </tbody>\n",
       "</table>\n",
       "</div>"
      ],
      "text/plain": [
       "   Unnamed: 0  article_id                                      article_title  \\\n",
       "0         157    41297631      2019 | Business Insider Singapore | Page 3601   \n",
       "1         160    41397200  Here's our honest review of Playmade's cocoa m...   \n",
       "2         175    41287072      2019 | Business Insider Singapore | Page 3495   \n",
       "3         177    41514837  Suicide is the main cause of death for millenn...   \n",
       "4         183    41384923  Bowflex now makes an adjustable kettlebell tha...   \n",
       "\n",
       "            publisher  year  \\\n",
       "0  businessinsider.sg  2019   \n",
       "1  businessinsider.sg  2019   \n",
       "2  businessinsider.sg  2019   \n",
       "3  businessinsider.sg  2019   \n",
       "4  businessinsider.sg  2019   \n",
       "\n",
       "                                        article_text  \\\n",
       "0   Netflix's dark comedy A Series of Unfortunate...   \n",
       "1   Taiwanese bubble tea chain Playmade known for...   \n",
       "2   In mid July , Build A Bear debuted the Pay Yo...   \n",
       "3   Suicide is the main cause of death for millen...   \n",
       "4   Bowflex now makes an adjustable kettlebell th...   \n",
       "\n",
       "                                     country_mention  Domestic  \\\n",
       "0  [('Cuba', 7), ('Singapore', 2), ('Georgia', 1)...      True   \n",
       "1  [('Singapore', 2), ('Japan', 1), ('United Stat...      True   \n",
       "2  [('Iceland', 9), ('Singapore', 5), ('Thailand'...      True   \n",
       "3               [('Singapore', 3), ('Singapore', 1)]      True   \n",
       "4                                                 []      True   \n",
       "\n",
       "                                  article_text_Ngram  \\\n",
       "0   Netflix's dark comedy A Series of Unfortunate...   \n",
       "1   Taiwanese bubble tea chain Playmade known for...   \n",
       "2   In mid July , Build A Bear debuted the Pay Yo...   \n",
       "3   Suicide is the main cause of death for millen...   \n",
       "4   Bowflex now makes an adjustable kettlebell th...   \n",
       "\n",
       "                         article_text_Ngram_stopword  \\\n",
       "0  Netflix 's dark comedy A Series Unfortunate Ev...   \n",
       "1  Taiwanese bubble tea chain Playmade known maki...   \n",
       "2  In mid July , Build A Bear debuted Pay Your Ag...   \n",
       "3  Suicide main cause death millennials Singapore...   \n",
       "4  Bowflex makes adjustable kettlebell goes 8 40 ...   \n",
       "\n",
       "               article_text_Ngram_stopword_lemmatize  \n",
       "0  Netflix 's dark comedy A Series Unfortunate Ev...  \n",
       "1  Taiwanese bubble tea chain Playmade know make ...  \n",
       "2  In mid July Build A Bear debut Pay Your Age de...  \n",
       "3  Suicide main cause death millennials Singapore...  \n",
       "4  Bowflex make adjustable kettlebell go 8 40 pou...  "
      ]
     },
     "execution_count": 9,
     "metadata": {},
     "output_type": "execute_result"
    }
   ],
   "source": [
    "print(len(sg))\n",
    "sg.head()"
   ]
  },
  {
   "cell_type": "code",
   "execution_count": 10,
   "id": "1db51789",
   "metadata": {},
   "outputs": [],
   "source": [
    "text = sg['article_text_Ngram']\n",
    "sg['text']=\"\"\n",
    "sg['text_2']=\"\""
   ]
  },
  {
   "cell_type": "code",
   "execution_count": 11,
   "id": "f51fd7db",
   "metadata": {},
   "outputs": [],
   "source": [
    "sg['text']=text.apply(remove_place)\n",
    "sg['text_2']=sg['text'].apply(remove_names)\n",
    "sg = sg.drop(columns=['text'])"
   ]
  },
  {
   "cell_type": "code",
   "execution_count": 12,
   "id": "5da9d551",
   "metadata": {},
   "outputs": [],
   "source": [
    "#save no named entities  data to csv\n",
    "sg.to_csv(\"SG2.csv\")"
   ]
  },
  {
   "cell_type": "code",
   "execution_count": 13,
   "id": "49fd7c7d",
   "metadata": {},
   "outputs": [],
   "source": [
    "SG_word = pd.DataFrame(columns=['word','frequency','relative_freq'])\n",
    "Text = ' '.join(sg['text_2'].tolist())\n",
    "Text=re.sub(r'[^\\w\\s]', '', Text)"
   ]
  },
  {
   "cell_type": "code",
   "execution_count": 14,
   "id": "a5e68f1c",
   "metadata": {},
   "outputs": [],
   "source": [
    "SG_word['word'] = top_words(Text)\n",
    "SG_word['frequency']=top_words_freq(Text)"
   ]
  },
  {
   "cell_type": "code",
   "execution_count": 15,
   "id": "1b50b24e",
   "metadata": {},
   "outputs": [],
   "source": [
    "total_num = SG_word['frequency'].sum()\n",
    "SG_word['relative_freq']=SG_word['frequency']/total_num"
   ]
  },
  {
   "cell_type": "code",
   "execution_count": 16,
   "id": "496bf169",
   "metadata": {},
   "outputs": [
    {
     "data": {
      "text/html": [
       "<div>\n",
       "<style scoped>\n",
       "    .dataframe tbody tr th:only-of-type {\n",
       "        vertical-align: middle;\n",
       "    }\n",
       "\n",
       "    .dataframe tbody tr th {\n",
       "        vertical-align: top;\n",
       "    }\n",
       "\n",
       "    .dataframe thead th {\n",
       "        text-align: right;\n",
       "    }\n",
       "</style>\n",
       "<table border=\"1\" class=\"dataframe\">\n",
       "  <thead>\n",
       "    <tr style=\"text-align: right;\">\n",
       "      <th></th>\n",
       "      <th>word</th>\n",
       "      <th>frequency</th>\n",
       "      <th>relative_freq</th>\n",
       "    </tr>\n",
       "  </thead>\n",
       "  <tbody>\n",
       "    <tr>\n",
       "      <th>0</th>\n",
       "      <td>the</td>\n",
       "      <td>549367</td>\n",
       "      <td>0.086685</td>\n",
       "    </tr>\n",
       "    <tr>\n",
       "      <th>1</th>\n",
       "      <td>to</td>\n",
       "      <td>280574</td>\n",
       "      <td>0.044272</td>\n",
       "    </tr>\n",
       "    <tr>\n",
       "      <th>2</th>\n",
       "      <td>and</td>\n",
       "      <td>256712</td>\n",
       "      <td>0.040507</td>\n",
       "    </tr>\n",
       "    <tr>\n",
       "      <th>3</th>\n",
       "      <td>of</td>\n",
       "      <td>248001</td>\n",
       "      <td>0.039132</td>\n",
       "    </tr>\n",
       "    <tr>\n",
       "      <th>4</th>\n",
       "      <td>a</td>\n",
       "      <td>197995</td>\n",
       "      <td>0.031242</td>\n",
       "    </tr>\n",
       "  </tbody>\n",
       "</table>\n",
       "</div>"
      ],
      "text/plain": [
       "  word  frequency  relative_freq\n",
       "0  the     549367       0.086685\n",
       "1   to     280574       0.044272\n",
       "2  and     256712       0.040507\n",
       "3   of     248001       0.039132\n",
       "4    a     197995       0.031242"
      ]
     },
     "execution_count": 16,
     "metadata": {},
     "output_type": "execute_result"
    }
   ],
   "source": [
    "SG_word.head()"
   ]
  },
  {
   "cell_type": "code",
   "execution_count": 17,
   "id": "6a2c0f67",
   "metadata": {},
   "outputs": [],
   "source": [
    "SG_word.to_csv(\"SG_word.csv\")"
   ]
  },
  {
   "cell_type": "code",
   "execution_count": 18,
   "id": "ee84dca9",
   "metadata": {},
   "outputs": [
    {
     "name": "stdout",
     "output_type": "stream",
     "text": [
      "61518\n"
     ]
    },
    {
     "data": {
      "text/html": [
       "<div>\n",
       "<style scoped>\n",
       "    .dataframe tbody tr th:only-of-type {\n",
       "        vertical-align: middle;\n",
       "    }\n",
       "\n",
       "    .dataframe tbody tr th {\n",
       "        vertical-align: top;\n",
       "    }\n",
       "\n",
       "    .dataframe thead th {\n",
       "        text-align: right;\n",
       "    }\n",
       "</style>\n",
       "<table border=\"1\" class=\"dataframe\">\n",
       "  <thead>\n",
       "    <tr style=\"text-align: right;\">\n",
       "      <th></th>\n",
       "      <th>Unnamed: 0</th>\n",
       "      <th>article_id</th>\n",
       "      <th>article_title</th>\n",
       "      <th>publisher</th>\n",
       "      <th>year</th>\n",
       "      <th>article_text</th>\n",
       "      <th>country_mention</th>\n",
       "      <th>Domestic</th>\n",
       "      <th>article_text_Ngram</th>\n",
       "      <th>article_text_Ngram_stopword</th>\n",
       "      <th>article_text_Ngram_stopword_lemmatize</th>\n",
       "    </tr>\n",
       "  </thead>\n",
       "  <tbody>\n",
       "    <tr>\n",
       "      <th>0</th>\n",
       "      <td>0</td>\n",
       "      <td>2032298</td>\n",
       "      <td>National Newsbits for December 13,2013</td>\n",
       "      <td>Manila Bulletin</td>\n",
       "      <td>2013</td>\n",
       "      <td>National Newsbits for December 13,2013. Decem...</td>\n",
       "      <td>[('Philippines', 1), ('United States', 1), ('N...</td>\n",
       "      <td>True</td>\n",
       "      <td>Natinal Newsbits fr December 13, December 12 ...</td>\n",
       "      <td>Natinal Newsbits fr December 13 , December 12 ...</td>\n",
       "      <td>Natinal Newsbits fr December 13 December 12 20...</td>\n",
       "    </tr>\n",
       "    <tr>\n",
       "      <th>1</th>\n",
       "      <td>1</td>\n",
       "      <td>2011163</td>\n",
       "      <td>$120-B export target pushed back</td>\n",
       "      <td>Manila Bulletin</td>\n",
       "      <td>2013</td>\n",
       "      <td>$120 B export target pushed back. The Departm...</td>\n",
       "      <td>[('Japan', 1), ('Philippines', 1), ('United St...</td>\n",
       "      <td>True</td>\n",
       "      <td>$120 B exprt target pushed back. The Departme...</td>\n",
       "      <td>$ 120 B exprt target pushed back . The Departm...</td>\n",
       "      <td>120 B exprt target push back The Department f ...</td>\n",
       "    </tr>\n",
       "    <tr>\n",
       "      <th>2</th>\n",
       "      <td>2</td>\n",
       "      <td>2047361</td>\n",
       "      <td>Shell prepares to mark 100 years</td>\n",
       "      <td>Manila Bulletin</td>\n",
       "      <td>2013</td>\n",
       "      <td>Shell prepares to mark 100 years. December 19...</td>\n",
       "      <td>[('Philippines', 3), ('Philippines', 1), ('Uni...</td>\n",
       "      <td>True</td>\n",
       "      <td>Shell prepares t mark 100 years. December 19 ...</td>\n",
       "      <td>Shell prepares mark 100 years . December 19 , ...</td>\n",
       "      <td>Shell prepares mark 100 year December 19 These...</td>\n",
       "    </tr>\n",
       "    <tr>\n",
       "      <th>3</th>\n",
       "      <td>3</td>\n",
       "      <td>2060055</td>\n",
       "      <td>10 deaths in 4 road accidents</td>\n",
       "      <td>Manila Bulletin</td>\n",
       "      <td>2013</td>\n",
       "      <td>10 deaths in 4 road accidents. Nasugbu , Bata...</td>\n",
       "      <td>[('Puerto Rico', 1), ('United Kingdom', 1), ('...</td>\n",
       "      <td>True</td>\n",
       "      <td>10 deaths in 4 rad accidents. Nasugbu , Batan...</td>\n",
       "      <td>10 deaths 4 rad accidents . Nasugbu , Batangas...</td>\n",
       "      <td>10 death 4 rad accident Nasugbu Batangas Seven...</td>\n",
       "    </tr>\n",
       "    <tr>\n",
       "      <th>4</th>\n",
       "      <td>4</td>\n",
       "      <td>673597</td>\n",
       "      <td>JG Summit raises P8.8 billion from sale of new...</td>\n",
       "      <td>Manila Bulletin</td>\n",
       "      <td>2013</td>\n",
       "      <td>JG Summit raises P8.8 billion from sale of ne...</td>\n",
       "      <td>[('Spain', 1), ('United States', 1), ('Peru', ...</td>\n",
       "      <td>True</td>\n",
       "      <td>JG Summit raises P8 billin frm sale f new sha...</td>\n",
       "      <td>JG Summit raises P8 billin frm sale f new shar...</td>\n",
       "      <td>JG Summit raise P8 billin frm sale f new share...</td>\n",
       "    </tr>\n",
       "  </tbody>\n",
       "</table>\n",
       "</div>"
      ],
      "text/plain": [
       "   Unnamed: 0  article_id                                      article_title  \\\n",
       "0           0     2032298             National Newsbits for December 13,2013   \n",
       "1           1     2011163                   $120-B export target pushed back   \n",
       "2           2     2047361                   Shell prepares to mark 100 years   \n",
       "3           3     2060055                      10 deaths in 4 road accidents   \n",
       "4           4      673597  JG Summit raises P8.8 billion from sale of new...   \n",
       "\n",
       "         publisher  year                                       article_text  \\\n",
       "0  Manila Bulletin  2013   National Newsbits for December 13,2013. Decem...   \n",
       "1  Manila Bulletin  2013   $120 B export target pushed back. The Departm...   \n",
       "2  Manila Bulletin  2013   Shell prepares to mark 100 years. December 19...   \n",
       "3  Manila Bulletin  2013   10 deaths in 4 road accidents. Nasugbu , Bata...   \n",
       "4  Manila Bulletin  2013   JG Summit raises P8.8 billion from sale of ne...   \n",
       "\n",
       "                                     country_mention  Domestic  \\\n",
       "0  [('Philippines', 1), ('United States', 1), ('N...      True   \n",
       "1  [('Japan', 1), ('Philippines', 1), ('United St...      True   \n",
       "2  [('Philippines', 3), ('Philippines', 1), ('Uni...      True   \n",
       "3  [('Puerto Rico', 1), ('United Kingdom', 1), ('...      True   \n",
       "4  [('Spain', 1), ('United States', 1), ('Peru', ...      True   \n",
       "\n",
       "                                  article_text_Ngram  \\\n",
       "0   Natinal Newsbits fr December 13, December 12 ...   \n",
       "1   $120 B exprt target pushed back. The Departme...   \n",
       "2   Shell prepares t mark 100 years. December 19 ...   \n",
       "3   10 deaths in 4 rad accidents. Nasugbu , Batan...   \n",
       "4   JG Summit raises P8 billin frm sale f new sha...   \n",
       "\n",
       "                         article_text_Ngram_stopword  \\\n",
       "0  Natinal Newsbits fr December 13 , December 12 ...   \n",
       "1  $ 120 B exprt target pushed back . The Departm...   \n",
       "2  Shell prepares mark 100 years . December 19 , ...   \n",
       "3  10 deaths 4 rad accidents . Nasugbu , Batangas...   \n",
       "4  JG Summit raises P8 billin frm sale f new shar...   \n",
       "\n",
       "               article_text_Ngram_stopword_lemmatize  \n",
       "0  Natinal Newsbits fr December 13 December 12 20...  \n",
       "1  120 B exprt target push back The Department f ...  \n",
       "2  Shell prepares mark 100 year December 19 These...  \n",
       "3  10 death 4 rad accident Nasugbu Batangas Seven...  \n",
       "4  JG Summit raise P8 billin frm sale f new share...  "
      ]
     },
     "execution_count": 18,
     "metadata": {},
     "output_type": "execute_result"
    }
   ],
   "source": [
    "#Philippines\n",
    "ph = pd.read_csv('/Users/Rebecca/Desktop/PEACE/data/5_domestic_filter_Ngram_stopwords_lemmatize/PH_domestic_Ngram_stopword_lematize.csv')\n",
    "print(len(ph))\n",
    "ph.head()"
   ]
  },
  {
   "cell_type": "code",
   "execution_count": 19,
   "id": "0c757513",
   "metadata": {},
   "outputs": [],
   "source": [
    "text = ph['article_text_Ngram']\n",
    "ph['text']=\"\"\n",
    "ph['text_2']=\"\""
   ]
  },
  {
   "cell_type": "code",
   "execution_count": 20,
   "id": "c572bed4",
   "metadata": {},
   "outputs": [],
   "source": [
    "ph['text']=text.apply(remove_place)\n",
    "ph['text_2']=ph['text'].apply(remove_names)\n",
    "ph = ph.drop(columns=['text'])"
   ]
  },
  {
   "cell_type": "code",
   "execution_count": 21,
   "id": "6beedc2a",
   "metadata": {},
   "outputs": [],
   "source": [
    "#save no named entities  data to csv\n",
    "ph.to_csv(\"PH2.csv\")"
   ]
  },
  {
   "cell_type": "code",
   "execution_count": 22,
   "id": "7fb25353",
   "metadata": {},
   "outputs": [],
   "source": [
    "PH_word = pd.DataFrame(columns=['word','frequency','relative_freq'])\n",
    "Text = ' '.join(ph['text_2'].tolist())\n",
    "Text=re.sub(r'[^\\w\\s]', '', Text)"
   ]
  },
  {
   "cell_type": "code",
   "execution_count": 23,
   "id": "3a6c854d",
   "metadata": {},
   "outputs": [],
   "source": [
    "PH_word['word'] = top_words(Text)\n",
    "PH_word['frequency']=top_words_freq(Text)"
   ]
  },
  {
   "cell_type": "code",
   "execution_count": 24,
   "id": "468a594e",
   "metadata": {},
   "outputs": [],
   "source": [
    "total_num = PH_word['frequency'].sum()\n",
    "PH_word['relative_freq']=PH_word['frequency']/total_num"
   ]
  },
  {
   "cell_type": "code",
   "execution_count": 25,
   "id": "74b96e25",
   "metadata": {},
   "outputs": [
    {
     "data": {
      "text/html": [
       "<div>\n",
       "<style scoped>\n",
       "    .dataframe tbody tr th:only-of-type {\n",
       "        vertical-align: middle;\n",
       "    }\n",
       "\n",
       "    .dataframe tbody tr th {\n",
       "        vertical-align: top;\n",
       "    }\n",
       "\n",
       "    .dataframe thead th {\n",
       "        text-align: right;\n",
       "    }\n",
       "</style>\n",
       "<table border=\"1\" class=\"dataframe\">\n",
       "  <thead>\n",
       "    <tr style=\"text-align: right;\">\n",
       "      <th></th>\n",
       "      <th>word</th>\n",
       "      <th>frequency</th>\n",
       "      <th>relative_freq</th>\n",
       "    </tr>\n",
       "  </thead>\n",
       "  <tbody>\n",
       "    <tr>\n",
       "      <th>0</th>\n",
       "      <td>the</td>\n",
       "      <td>2065762</td>\n",
       "      <td>0.103908</td>\n",
       "    </tr>\n",
       "    <tr>\n",
       "      <th>1</th>\n",
       "      <td>f</td>\n",
       "      <td>868395</td>\n",
       "      <td>0.043680</td>\n",
       "    </tr>\n",
       "    <tr>\n",
       "      <th>2</th>\n",
       "      <td>t</td>\n",
       "      <td>838124</td>\n",
       "      <td>0.042158</td>\n",
       "    </tr>\n",
       "    <tr>\n",
       "      <th>3</th>\n",
       "      <td>and</td>\n",
       "      <td>812350</td>\n",
       "      <td>0.040861</td>\n",
       "    </tr>\n",
       "    <tr>\n",
       "      <th>4</th>\n",
       "      <td>in</td>\n",
       "      <td>666728</td>\n",
       "      <td>0.033536</td>\n",
       "    </tr>\n",
       "  </tbody>\n",
       "</table>\n",
       "</div>"
      ],
      "text/plain": [
       "  word  frequency  relative_freq\n",
       "0  the    2065762       0.103908\n",
       "1    f     868395       0.043680\n",
       "2    t     838124       0.042158\n",
       "3  and     812350       0.040861\n",
       "4   in     666728       0.033536"
      ]
     },
     "execution_count": 25,
     "metadata": {},
     "output_type": "execute_result"
    }
   ],
   "source": [
    "PH_word.head()"
   ]
  },
  {
   "cell_type": "code",
   "execution_count": 26,
   "id": "e3677093",
   "metadata": {},
   "outputs": [],
   "source": [
    "PH_word.to_csv(\"PH_word.csv\")"
   ]
  },
  {
   "cell_type": "code",
   "execution_count": 11,
   "id": "9bb55c3c",
   "metadata": {},
   "outputs": [],
   "source": [
    "nz=pd.read_csv('/Users/Rebecca/Desktop/PEACE_Inst/data/5_domestic_filter_Ngram_stopwords_lemmatize/NZ_domestic_Ngram_stopword_lematize.csv')"
   ]
  },
  {
   "cell_type": "code",
   "execution_count": 12,
   "id": "b0f1dfef",
   "metadata": {},
   "outputs": [],
   "source": [
    "ng=pd.read_csv('/Users/Rebecca/Desktop/PEACE_Inst/data/5_domestic_filter_Ngram_stopwords_lemmatize/NG_domestic_Ngram_stopword_lematize.csv')"
   ]
  },
  {
   "cell_type": "code",
   "execution_count": 15,
   "id": "d4ba129a",
   "metadata": {},
   "outputs": [],
   "source": [
    "text = nz['article_text_Ngram']\n",
    "nz['text']=\"\"\n",
    "nz['text_2']=\"\""
   ]
  },
  {
   "cell_type": "code",
   "execution_count": 16,
   "id": "4aa6ee0c",
   "metadata": {},
   "outputs": [],
   "source": [
    "nz['text']=text.apply(remove_place)\n",
    "nz['text_2']=nz['text'].apply(remove_names)\n",
    "nz = nz.drop(columns=['text'])"
   ]
  },
  {
   "cell_type": "code",
   "execution_count": 17,
   "id": "966427f3",
   "metadata": {},
   "outputs": [],
   "source": [
    "#save no named entities  data to csv\n",
    "nz.to_csv(\"NZ2.csv\")"
   ]
  },
  {
   "cell_type": "code",
   "execution_count": 18,
   "id": "1043ec92",
   "metadata": {},
   "outputs": [],
   "source": [
    "NZ_word = pd.DataFrame(columns=['word','frequency','relative_freq'])\n",
    "Text = ' '.join(nz['text_2'].tolist())\n",
    "Text=re.sub(r'[^\\w\\s]', '', Text)"
   ]
  },
  {
   "cell_type": "code",
   "execution_count": 19,
   "id": "daba0536",
   "metadata": {},
   "outputs": [],
   "source": [
    "NZ_word['word'] = top_words(Text)\n",
    "NZ_word['frequency']=top_words_freq(Text)"
   ]
  },
  {
   "cell_type": "code",
   "execution_count": 20,
   "id": "c18a5436",
   "metadata": {},
   "outputs": [],
   "source": [
    "total_num = NZ_word['frequency'].sum()\n",
    "NZ_word['relative_freq']=NZ_word['frequency']/total_num"
   ]
  },
  {
   "cell_type": "code",
   "execution_count": 21,
   "id": "368eb198",
   "metadata": {},
   "outputs": [],
   "source": [
    "NZ_word.to_csv(\"NZ_word.csv\")"
   ]
  },
  {
   "cell_type": "code",
   "execution_count": 22,
   "id": "1ed6edf0",
   "metadata": {},
   "outputs": [],
   "source": [
    "text = ng['article_text_Ngram']\n",
    "ng['text']=\"\"\n",
    "ng['text_2']=\"\""
   ]
  },
  {
   "cell_type": "code",
   "execution_count": 23,
   "id": "5fca868d",
   "metadata": {},
   "outputs": [],
   "source": [
    "ng['text']=text.apply(remove_place)\n",
    "ng['text_2']=ng['text'].apply(remove_names)\n",
    "ng = ng.drop(columns=['text'])"
   ]
  },
  {
   "cell_type": "code",
   "execution_count": 24,
   "id": "6fc72486",
   "metadata": {},
   "outputs": [],
   "source": [
    "#save no named entities  data to csv\n",
    "ng.to_csv(\"NG2.csv\")"
   ]
  },
  {
   "cell_type": "code",
   "execution_count": 25,
   "id": "dfe1ece5",
   "metadata": {},
   "outputs": [],
   "source": [
    "NG_word = pd.DataFrame(columns=['word','frequency','relative_freq'])\n",
    "Text = ' '.join(ng['text_2'].tolist())\n",
    "Text=re.sub(r'[^\\w\\s]', '', Text)"
   ]
  },
  {
   "cell_type": "code",
   "execution_count": 26,
   "id": "48280dd7",
   "metadata": {},
   "outputs": [],
   "source": [
    "NG_word['word'] = top_words(Text)\n",
    "NG_word['frequency']=top_words_freq(Text)"
   ]
  },
  {
   "cell_type": "code",
   "execution_count": 27,
   "id": "f46cd509",
   "metadata": {},
   "outputs": [],
   "source": [
    "total_num = NG_word['frequency'].sum()\n",
    "NG_word['relative_freq']=NG_word['frequency']/total_num"
   ]
  },
  {
   "cell_type": "code",
   "execution_count": 28,
   "id": "61fe34f2",
   "metadata": {},
   "outputs": [],
   "source": [
    "NG_word.to_csv(\"NG_word.csv\")"
   ]
  },
  {
   "cell_type": "code",
   "execution_count": 30,
   "id": "03629033",
   "metadata": {},
   "outputs": [
    {
     "data": {
      "text/html": [
       "<div>\n",
       "<style scoped>\n",
       "    .dataframe tbody tr th:only-of-type {\n",
       "        vertical-align: middle;\n",
       "    }\n",
       "\n",
       "    .dataframe tbody tr th {\n",
       "        vertical-align: top;\n",
       "    }\n",
       "\n",
       "    .dataframe thead th {\n",
       "        text-align: right;\n",
       "    }\n",
       "</style>\n",
       "<table border=\"1\" class=\"dataframe\">\n",
       "  <thead>\n",
       "    <tr style=\"text-align: right;\">\n",
       "      <th></th>\n",
       "      <th>Unnamed: 0</th>\n",
       "      <th>article_id</th>\n",
       "      <th>article_title</th>\n",
       "      <th>publisher</th>\n",
       "      <th>year</th>\n",
       "      <th>article_text</th>\n",
       "      <th>country_mention</th>\n",
       "      <th>Domestic</th>\n",
       "      <th>article_text_Ngram</th>\n",
       "      <th>article_text_Ngram_stopword</th>\n",
       "      <th>article_text_Ngram_stopword_lemmatize</th>\n",
       "      <th>text_2</th>\n",
       "    </tr>\n",
       "  </thead>\n",
       "  <tbody>\n",
       "    <tr>\n",
       "      <th>0</th>\n",
       "      <td>0</td>\n",
       "      <td>609249</td>\n",
       "      <td>Secret photos not available in Nina search</td>\n",
       "      <td>Marlborough Express</td>\n",
       "      <td>2013</td>\n",
       "      <td>Secret photos not available in Nina search. E...</td>\n",
       "      <td>[('New Zealand', 2), ('Australia', 1), ('Pakis...</td>\n",
       "      <td>True</td>\n",
       "      <td>Secret photos not available in Nina search. E...</td>\n",
       "      <td>Secret photos available Nina search . EYES IN ...</td>\n",
       "      <td>Secret photo available Nina search EYES IN THE...</td>\n",
       "      <td>Secret photos not available in search . EYES...</td>\n",
       "    </tr>\n",
       "    <tr>\n",
       "      <th>1</th>\n",
       "      <td>1</td>\n",
       "      <td>613912</td>\n",
       "      <td>study shows need for better care</td>\n",
       "      <td>Marlborough Express</td>\n",
       "      <td>2013</td>\n",
       "      <td>Psoriasis study shows need for better care. R...</td>\n",
       "      <td>[('New Zealand', 2)]</td>\n",
       "      <td>True</td>\n",
       "      <td>Psoriasis study shows need for better care. R...</td>\n",
       "      <td>Psoriasis study shows need better care . Relev...</td>\n",
       "      <td>Psoriasis study show need well care Relevant o...</td>\n",
       "      <td>Psoriasis study shows need for better care ....</td>\n",
       "    </tr>\n",
       "    <tr>\n",
       "      <th>2</th>\n",
       "      <td>3</td>\n",
       "      <td>405920</td>\n",
       "      <td>Pair guilty of man's brutal murder</td>\n",
       "      <td>Marlborough Express</td>\n",
       "      <td>2013</td>\n",
       "      <td>Sameera Battelage always dreamed of bringing ...</td>\n",
       "      <td>[('New Zealand', 7), ('Sri Lanka', 2), ('Unite...</td>\n",
       "      <td>True</td>\n",
       "      <td>Sameera Battelage always dreamed of bringing ...</td>\n",
       "      <td>Sameera Battelage always dreamed bringing pare...</td>\n",
       "      <td>Sameera Battelage always dream bring parent Ne...</td>\n",
       "      <td>Battelage always dreamed of bringing his par...</td>\n",
       "    </tr>\n",
       "    <tr>\n",
       "      <th>3</th>\n",
       "      <td>9</td>\n",
       "      <td>308419</td>\n",
       "      <td>Key PGW investor short on rural know-how</td>\n",
       "      <td>Marlborough Express</td>\n",
       "      <td>2013</td>\n",
       "      <td>Those staunch southerners , they just can't a...</td>\n",
       "      <td>[('China', 2), ('Cayman Islands', 1), ('Singap...</td>\n",
       "      <td>True</td>\n",
       "      <td>Those staunch southerners , they just can't a...</td>\n",
       "      <td>Those staunch southerners , ca n't abide jibbe...</td>\n",
       "      <td>Those staunch southerner ca n't abide jibber j...</td>\n",
       "      <td>Those staunch southerners , they just ca n't...</td>\n",
       "    </tr>\n",
       "    <tr>\n",
       "      <th>4</th>\n",
       "      <td>10</td>\n",
       "      <td>2049201</td>\n",
       "      <td>All NZ juice paying off for family business</td>\n",
       "      <td>Marlborough Express</td>\n",
       "      <td>2013</td>\n",
       "      <td>Keeping their product pure and unadulterated ...</td>\n",
       "      <td>[('New Zealand', 5), ('Malaysia', 1), ('Austra...</td>\n",
       "      <td>True</td>\n",
       "      <td>Keeping their product pure and unadulterated ...</td>\n",
       "      <td>Keeping product pure unadulterated paying divi...</td>\n",
       "      <td>Keeping product pure unadulterated pay dividen...</td>\n",
       "      <td>Keeping their product pure and unadulterated...</td>\n",
       "    </tr>\n",
       "  </tbody>\n",
       "</table>\n",
       "</div>"
      ],
      "text/plain": [
       "   Unnamed: 0  article_id                                article_title  \\\n",
       "0           0      609249   Secret photos not available in Nina search   \n",
       "1           1      613912             study shows need for better care   \n",
       "2           3      405920           Pair guilty of man's brutal murder   \n",
       "3           9      308419     Key PGW investor short on rural know-how   \n",
       "4          10     2049201  All NZ juice paying off for family business   \n",
       "\n",
       "             publisher  year  \\\n",
       "0  Marlborough Express  2013   \n",
       "1  Marlborough Express  2013   \n",
       "2  Marlborough Express  2013   \n",
       "3  Marlborough Express  2013   \n",
       "4  Marlborough Express  2013   \n",
       "\n",
       "                                        article_text  \\\n",
       "0   Secret photos not available in Nina search. E...   \n",
       "1   Psoriasis study shows need for better care. R...   \n",
       "2   Sameera Battelage always dreamed of bringing ...   \n",
       "3   Those staunch southerners , they just can't a...   \n",
       "4   Keeping their product pure and unadulterated ...   \n",
       "\n",
       "                                     country_mention  Domestic  \\\n",
       "0  [('New Zealand', 2), ('Australia', 1), ('Pakis...      True   \n",
       "1                               [('New Zealand', 2)]      True   \n",
       "2  [('New Zealand', 7), ('Sri Lanka', 2), ('Unite...      True   \n",
       "3  [('China', 2), ('Cayman Islands', 1), ('Singap...      True   \n",
       "4  [('New Zealand', 5), ('Malaysia', 1), ('Austra...      True   \n",
       "\n",
       "                                  article_text_Ngram  \\\n",
       "0   Secret photos not available in Nina search. E...   \n",
       "1   Psoriasis study shows need for better care. R...   \n",
       "2   Sameera Battelage always dreamed of bringing ...   \n",
       "3   Those staunch southerners , they just can't a...   \n",
       "4   Keeping their product pure and unadulterated ...   \n",
       "\n",
       "                         article_text_Ngram_stopword  \\\n",
       "0  Secret photos available Nina search . EYES IN ...   \n",
       "1  Psoriasis study shows need better care . Relev...   \n",
       "2  Sameera Battelage always dreamed bringing pare...   \n",
       "3  Those staunch southerners , ca n't abide jibbe...   \n",
       "4  Keeping product pure unadulterated paying divi...   \n",
       "\n",
       "               article_text_Ngram_stopword_lemmatize  \\\n",
       "0  Secret photo available Nina search EYES IN THE...   \n",
       "1  Psoriasis study show need well care Relevant o...   \n",
       "2  Sameera Battelage always dream bring parent Ne...   \n",
       "3  Those staunch southerner ca n't abide jibber j...   \n",
       "4  Keeping product pure unadulterated pay dividen...   \n",
       "\n",
       "                                              text_2  \n",
       "0    Secret photos not available in search . EYES...  \n",
       "1    Psoriasis study shows need for better care ....  \n",
       "2    Battelage always dreamed of bringing his par...  \n",
       "3    Those staunch southerners , they just ca n't...  \n",
       "4    Keeping their product pure and unadulterated...  "
      ]
     },
     "execution_count": 30,
     "metadata": {},
     "output_type": "execute_result"
    }
   ],
   "source": [
    "nz.head()"
   ]
  },
  {
   "cell_type": "code",
   "execution_count": 10,
   "id": "29db3d2f",
   "metadata": {},
   "outputs": [],
   "source": [
    "ie = pd.read_csv('/Users/Rebecca/Desktop/PEACE_Inst/data/5_domestic_filter_Ngram_stopwords_lemmatize/IE_domestic_Ngram_stopword_lematize.csv')\n",
    "bd = pd.read_csv('/Users/Rebecca/Desktop/PEACE_Inst/data/5_domestic_filter_Ngram_stopwords_lemmatize/BD_domestic_Ngram_stopword_lematize.csv')"
   ]
  },
  {
   "cell_type": "code",
   "execution_count": 11,
   "id": "4fde2b2a",
   "metadata": {},
   "outputs": [],
   "source": [
    "text = ie['article_text_Ngram']\n",
    "ie['text']=\"\"\n",
    "ie['text_2']=\"\""
   ]
  },
  {
   "cell_type": "code",
   "execution_count": 12,
   "id": "d06c8560",
   "metadata": {},
   "outputs": [],
   "source": [
    "ie['text']=text.apply(remove_place)\n",
    "ie['text_2']=ie['text'].apply(remove_names)\n",
    "ie = ie.drop(columns=['text'])"
   ]
  },
  {
   "cell_type": "code",
   "execution_count": 13,
   "id": "b89243ad",
   "metadata": {},
   "outputs": [],
   "source": [
    "#save no named entities  data to csv\n",
    "ie.to_csv(\"IE2.csv\")"
   ]
  },
  {
   "cell_type": "code",
   "execution_count": 15,
   "id": "426c9126",
   "metadata": {},
   "outputs": [],
   "source": [
    "IE_word = pd.DataFrame(columns=['word','frequency','relative_freq'])\n",
    "Text = ' '.join(ie['text_2'].tolist())\n",
    "Text=re.sub(r'[^\\w\\s]', '', Text)\n",
    "IE_word['word'] = top_words(Text)\n",
    "IE_word['frequency']=top_words_freq(Text)\n",
    "total_num = IE_word['frequency'].sum()\n",
    "IE_word['relative_freq']=IE_word['frequency']/total_num"
   ]
  },
  {
   "cell_type": "code",
   "execution_count": 16,
   "id": "6599db5c",
   "metadata": {},
   "outputs": [],
   "source": [
    "IE_word.to_csv(\"IE_word.csv\")"
   ]
  },
  {
   "cell_type": "code",
   "execution_count": 17,
   "id": "f44bfde4",
   "metadata": {},
   "outputs": [],
   "source": [
    "text = bd['article_text_Ngram']\n",
    "bd['text']=\"\"\n",
    "bd['text_2']=\"\""
   ]
  },
  {
   "cell_type": "code",
   "execution_count": 18,
   "id": "777c98b4",
   "metadata": {},
   "outputs": [],
   "source": [
    "bd['text']=text.apply(remove_place)\n",
    "bd['text_2']=bd['text'].apply(remove_names)\n",
    "bd = bd.drop(columns=['text'])"
   ]
  },
  {
   "cell_type": "code",
   "execution_count": 19,
   "id": "e984b44f",
   "metadata": {},
   "outputs": [],
   "source": [
    "#save no named entities  data to csv\n",
    "bd.to_csv(\"BD2.csv\")"
   ]
  },
  {
   "cell_type": "code",
   "execution_count": 20,
   "id": "d8f51c13",
   "metadata": {},
   "outputs": [],
   "source": [
    "BD_word = pd.DataFrame(columns=['word','frequency','relative_freq'])\n",
    "Text = ' '.join(bd['text_2'].tolist())\n",
    "Text=re.sub(r'[^\\w\\s]', '', Text)\n",
    "BD_word['word'] = top_words(Text)\n",
    "BD_word['frequency']=top_words_freq(Text)\n",
    "total_num = BD_word['frequency'].sum()\n",
    "BD_word['relative_freq']=BD_word['frequency']/total_num"
   ]
  },
  {
   "cell_type": "code",
   "execution_count": 21,
   "id": "095ebdf3",
   "metadata": {},
   "outputs": [],
   "source": [
    "BD_word.to_csv(\"BD_word.csv\")"
   ]
  },
  {
   "cell_type": "code",
   "execution_count": 22,
   "id": "7d5d71bf",
   "metadata": {},
   "outputs": [
    {
     "data": {
      "text/html": [
       "<div>\n",
       "<style scoped>\n",
       "    .dataframe tbody tr th:only-of-type {\n",
       "        vertical-align: middle;\n",
       "    }\n",
       "\n",
       "    .dataframe tbody tr th {\n",
       "        vertical-align: top;\n",
       "    }\n",
       "\n",
       "    .dataframe thead th {\n",
       "        text-align: right;\n",
       "    }\n",
       "</style>\n",
       "<table border=\"1\" class=\"dataframe\">\n",
       "  <thead>\n",
       "    <tr style=\"text-align: right;\">\n",
       "      <th></th>\n",
       "      <th>Unnamed: 0</th>\n",
       "      <th>article_id</th>\n",
       "      <th>article_title</th>\n",
       "      <th>publisher</th>\n",
       "      <th>year</th>\n",
       "      <th>article_text</th>\n",
       "      <th>country_mention</th>\n",
       "      <th>Domestic</th>\n",
       "      <th>article_text_Ngram</th>\n",
       "      <th>article_text_Ngram_stopword</th>\n",
       "      <th>article_text_Ngram_stopword_lemmatize</th>\n",
       "      <th>text_2</th>\n",
       "    </tr>\n",
       "  </thead>\n",
       "  <tbody>\n",
       "    <tr>\n",
       "      <th>0</th>\n",
       "      <td>0</td>\n",
       "      <td>3800329</td>\n",
       "      <td>Why smoking destroys your skin</td>\n",
       "      <td>Fashion.ie</td>\n",
       "      <td>2015</td>\n",
       "      <td>Why smoking destroys your skin. Fashion.ie , ...</td>\n",
       "      <td>[('Ireland', 1), ('United States', 1)]</td>\n",
       "      <td>True</td>\n",
       "      <td>Why smoking destroys your skin. Fashion.ie , ...</td>\n",
       "      <td>Why smoking destroys skin . Fashion.ie , Irish...</td>\n",
       "      <td>Why smoking destroys skin Fashion.ie Irish fas...</td>\n",
       "      <td>Why smoking destroys your skin . , fashion n...</td>\n",
       "    </tr>\n",
       "    <tr>\n",
       "      <th>1</th>\n",
       "      <td>1</td>\n",
       "      <td>18379878</td>\n",
       "      <td>Tom Holland found out casting news online</td>\n",
       "      <td>Fashion.ie</td>\n",
       "      <td>2017</td>\n",
       "      <td>Celebrity News. Tom Holland found out casting...</td>\n",
       "      <td>[]</td>\n",
       "      <td>True</td>\n",
       "      <td>Celebrity Tom Holland found out casting news ...</td>\n",
       "      <td>Celebrity Tom Holland found casting news onlin...</td>\n",
       "      <td>Celebrity Tom Holland found cast news online T...</td>\n",
       "      <td>Celebrity Holland found out casting news onl...</td>\n",
       "    </tr>\n",
       "    <tr>\n",
       "      <th>2</th>\n",
       "      <td>2</td>\n",
       "      <td>21188489</td>\n",
       "      <td>Why Chelsea Handler has quit her Netflix talk ...</td>\n",
       "      <td>Fashion.ie</td>\n",
       "      <td>2017</td>\n",
       "      <td>Celebrity News. Why Chelsea Handler has quit ...</td>\n",
       "      <td>[('Ireland', 1), ('United States', 1), ('Austr...</td>\n",
       "      <td>True</td>\n",
       "      <td>Celebrity Why Chelsea Handler has quit her Ne...</td>\n",
       "      <td>Celebrity Why Chelsea Handler quit Netflix tal...</td>\n",
       "      <td>Celebrity Why Chelsea Handler quit Netflix tal...</td>\n",
       "      <td>Celebrity Why  has quit her talk show . Why ...</td>\n",
       "    </tr>\n",
       "    <tr>\n",
       "      <th>3</th>\n",
       "      <td>4</td>\n",
       "      <td>19618659</td>\n",
       "      <td>Simon Cowell shares his thoughts on One Direct...</td>\n",
       "      <td>Fashion.ie</td>\n",
       "      <td>2017</td>\n",
       "      <td>Celebrity News. Simon Cowell shares his thoug...</td>\n",
       "      <td>[]</td>\n",
       "      <td>True</td>\n",
       "      <td>Celebrity Simon Cowell shares his thoughts on...</td>\n",
       "      <td>Celebrity Simon Cowell shares thoughts One Dir...</td>\n",
       "      <td>Celebrity Simon Cowell share thought One Direc...</td>\n",
       "      <td>Celebrity  shares his thoughts on Direction ...</td>\n",
       "    </tr>\n",
       "    <tr>\n",
       "      <th>4</th>\n",
       "      <td>5</td>\n",
       "      <td>21556698</td>\n",
       "      <td>Charlotte Olympia Dellal talks about her fashi...</td>\n",
       "      <td>Fashion.ie</td>\n",
       "      <td>2017</td>\n",
       "      <td>Lifestyle. Charlotte Olympia Dellal talks abo...</td>\n",
       "      <td>[('Ireland', 1), ('United States', 1)]</td>\n",
       "      <td>True</td>\n",
       "      <td>Lifestyle. Charlotte Olympia Dellal talks abo...</td>\n",
       "      <td>Lifestyle . Charlotte Olympia Dellal talks fas...</td>\n",
       "      <td>Lifestyle Charlotte Olympia Dellal talk fashio...</td>\n",
       "      <td>Lifestyle . Charlotte  talks about her fashi...</td>\n",
       "    </tr>\n",
       "  </tbody>\n",
       "</table>\n",
       "</div>"
      ],
      "text/plain": [
       "   Unnamed: 0  article_id                                      article_title  \\\n",
       "0           0     3800329                     Why smoking destroys your skin   \n",
       "1           1    18379878          Tom Holland found out casting news online   \n",
       "2           2    21188489  Why Chelsea Handler has quit her Netflix talk ...   \n",
       "3           4    19618659  Simon Cowell shares his thoughts on One Direct...   \n",
       "4           5    21556698  Charlotte Olympia Dellal talks about her fashi...   \n",
       "\n",
       "    publisher  year                                       article_text  \\\n",
       "0  Fashion.ie  2015   Why smoking destroys your skin. Fashion.ie , ...   \n",
       "1  Fashion.ie  2017   Celebrity News. Tom Holland found out casting...   \n",
       "2  Fashion.ie  2017   Celebrity News. Why Chelsea Handler has quit ...   \n",
       "3  Fashion.ie  2017   Celebrity News. Simon Cowell shares his thoug...   \n",
       "4  Fashion.ie  2017   Lifestyle. Charlotte Olympia Dellal talks abo...   \n",
       "\n",
       "                                     country_mention  Domestic  \\\n",
       "0             [('Ireland', 1), ('United States', 1)]      True   \n",
       "1                                                 []      True   \n",
       "2  [('Ireland', 1), ('United States', 1), ('Austr...      True   \n",
       "3                                                 []      True   \n",
       "4             [('Ireland', 1), ('United States', 1)]      True   \n",
       "\n",
       "                                  article_text_Ngram  \\\n",
       "0   Why smoking destroys your skin. Fashion.ie , ...   \n",
       "1   Celebrity Tom Holland found out casting news ...   \n",
       "2   Celebrity Why Chelsea Handler has quit her Ne...   \n",
       "3   Celebrity Simon Cowell shares his thoughts on...   \n",
       "4   Lifestyle. Charlotte Olympia Dellal talks abo...   \n",
       "\n",
       "                         article_text_Ngram_stopword  \\\n",
       "0  Why smoking destroys skin . Fashion.ie , Irish...   \n",
       "1  Celebrity Tom Holland found casting news onlin...   \n",
       "2  Celebrity Why Chelsea Handler quit Netflix tal...   \n",
       "3  Celebrity Simon Cowell shares thoughts One Dir...   \n",
       "4  Lifestyle . Charlotte Olympia Dellal talks fas...   \n",
       "\n",
       "               article_text_Ngram_stopword_lemmatize  \\\n",
       "0  Why smoking destroys skin Fashion.ie Irish fas...   \n",
       "1  Celebrity Tom Holland found cast news online T...   \n",
       "2  Celebrity Why Chelsea Handler quit Netflix tal...   \n",
       "3  Celebrity Simon Cowell share thought One Direc...   \n",
       "4  Lifestyle Charlotte Olympia Dellal talk fashio...   \n",
       "\n",
       "                                              text_2  \n",
       "0    Why smoking destroys your skin . , fashion n...  \n",
       "1    Celebrity Holland found out casting news onl...  \n",
       "2    Celebrity Why  has quit her talk show . Why ...  \n",
       "3    Celebrity  shares his thoughts on Direction ...  \n",
       "4    Lifestyle . Charlotte  talks about her fashi...  "
      ]
     },
     "execution_count": 22,
     "metadata": {},
     "output_type": "execute_result"
    }
   ],
   "source": [
    "ie.head()"
   ]
  },
  {
   "cell_type": "code",
   "execution_count": 23,
   "id": "b143254d",
   "metadata": {},
   "outputs": [
    {
     "data": {
      "text/html": [
       "<div>\n",
       "<style scoped>\n",
       "    .dataframe tbody tr th:only-of-type {\n",
       "        vertical-align: middle;\n",
       "    }\n",
       "\n",
       "    .dataframe tbody tr th {\n",
       "        vertical-align: top;\n",
       "    }\n",
       "\n",
       "    .dataframe thead th {\n",
       "        text-align: right;\n",
       "    }\n",
       "</style>\n",
       "<table border=\"1\" class=\"dataframe\">\n",
       "  <thead>\n",
       "    <tr style=\"text-align: right;\">\n",
       "      <th></th>\n",
       "      <th>Unnamed: 0</th>\n",
       "      <th>article_id</th>\n",
       "      <th>article_title</th>\n",
       "      <th>publisher</th>\n",
       "      <th>year</th>\n",
       "      <th>article_text</th>\n",
       "      <th>country_mention</th>\n",
       "      <th>Domestic</th>\n",
       "      <th>article_text_Ngram</th>\n",
       "      <th>article_text_Ngram_stopword</th>\n",
       "      <th>article_text_Ngram_stopword_lemmatize</th>\n",
       "      <th>text_2</th>\n",
       "    </tr>\n",
       "  </thead>\n",
       "  <tbody>\n",
       "    <tr>\n",
       "      <th>0</th>\n",
       "      <td>2</td>\n",
       "      <td>23672845</td>\n",
       "      <td>Youth Games: Rajshahi div dominate with 36 golds</td>\n",
       "      <td>United News of Bangladesh (satire) (press rele...</td>\n",
       "      <td>2018</td>\n",
       "      <td>Chittagong division followed the leader neck ...</td>\n",
       "      <td>[('Bangladesh', 1)]</td>\n",
       "      <td>True</td>\n",
       "      <td>Chittagong division followed the leader neck ...</td>\n",
       "      <td>Chittagong division followed leader neck neck ...</td>\n",
       "      <td>Chittagong division follow leader neck neck co...</td>\n",
       "      <td>division followed the leader neck and neck c...</td>\n",
       "    </tr>\n",
       "    <tr>\n",
       "      <th>1</th>\n",
       "      <td>3</td>\n",
       "      <td>25301525</td>\n",
       "      <td>BRAC wins OFID annual award for supporting Roh...</td>\n",
       "      <td>United News of Bangladesh (satire) (press rele...</td>\n",
       "      <td>2018</td>\n",
       "      <td>BRAC wins OFID annual award for supporting Ro...</td>\n",
       "      <td>[('Bangladesh', 3), ('Myanmar', 2), ('Ecuador'...</td>\n",
       "      <td>True</td>\n",
       "      <td>BRAC wins OFID annual award for supporting Ro...</td>\n",
       "      <td>BRAC wins OFID annual award supporting Rohingy...</td>\n",
       "      <td>BRAC win OFID annual award support Rohingyas U...</td>\n",
       "      <td>wins award for supporting . UNB NEWS . Sunda...</td>\n",
       "    </tr>\n",
       "    <tr>\n",
       "      <th>2</th>\n",
       "      <td>5</td>\n",
       "      <td>23529918</td>\n",
       "      <td>No ban on BD workers' recruitment in Kuwait: S...</td>\n",
       "      <td>United News of Bangladesh (satire) (press rele...</td>\n",
       "      <td>2018</td>\n",
       "      <td>No ban on BD workers' recruitment in Kuwait S...</td>\n",
       "      <td>[('Kuwait', 8), ('Bangladesh', 2), ('United St...</td>\n",
       "      <td>True</td>\n",
       "      <td>No ban on BD workers' recruitment in Kuwait S...</td>\n",
       "      <td>No ban BD workers ' recruitment Kuwait Shahria...</td>\n",
       "      <td>No ban BD worker recruitment Kuwait Shahriar T...</td>\n",
       "      <td>No ban on workers ' recruitment in Shahriar ...</td>\n",
       "    </tr>\n",
       "    <tr>\n",
       "      <th>3</th>\n",
       "      <td>6</td>\n",
       "      <td>25992781</td>\n",
       "      <td>Shakib, Tamim, Liton get big moves in T20I ran...</td>\n",
       "      <td>United News of Bangladesh (satire) (press rele...</td>\n",
       "      <td>2018</td>\n",
       "      <td>Shakib , Tamim , Liton get big moves in T20I ...</td>\n",
       "      <td>[('Bangladesh', 3), ('Pakistan', 1), ('Puerto ...</td>\n",
       "      <td>True</td>\n",
       "      <td>Shakib , Tamim , Liton get big moves in T20I ...</td>\n",
       "      <td>Shakib , Tamim , Liton get big moves T20I rank...</td>\n",
       "      <td>Shakib Tamim Liton get big move T20I ranking D...</td>\n",
       "      <td>, , get big moves in T20I rankings . , Aug W...</td>\n",
       "    </tr>\n",
       "    <tr>\n",
       "      <th>4</th>\n",
       "      <td>7</td>\n",
       "      <td>24108911</td>\n",
       "      <td>CWG: Shooter Shakil clinches 2nd silver for Ba...</td>\n",
       "      <td>United News of Bangladesh (satire) (press rele...</td>\n",
       "      <td>2018</td>\n",
       "      <td>The 22 year old Army shooter from Khulna Shak...</td>\n",
       "      <td>[('Bangladesh', 4), ('India', 2), ('Singapore'...</td>\n",
       "      <td>True</td>\n",
       "      <td>The 22 year old Army shooter from Khulna Shak...</td>\n",
       "      <td>The 22 year old Army shooter Khulna Shakil cam...</td>\n",
       "      <td>The 22 year old Army shooter Khulna Shakil com...</td>\n",
       "      <td>The 22 year old shooter from Khulna came to ...</td>\n",
       "    </tr>\n",
       "  </tbody>\n",
       "</table>\n",
       "</div>"
      ],
      "text/plain": [
       "   Unnamed: 0  article_id                                      article_title  \\\n",
       "0           2    23672845   Youth Games: Rajshahi div dominate with 36 golds   \n",
       "1           3    25301525  BRAC wins OFID annual award for supporting Roh...   \n",
       "2           5    23529918  No ban on BD workers' recruitment in Kuwait: S...   \n",
       "3           6    25992781  Shakib, Tamim, Liton get big moves in T20I ran...   \n",
       "4           7    24108911  CWG: Shooter Shakil clinches 2nd silver for Ba...   \n",
       "\n",
       "                                           publisher  year  \\\n",
       "0  United News of Bangladesh (satire) (press rele...  2018   \n",
       "1  United News of Bangladesh (satire) (press rele...  2018   \n",
       "2  United News of Bangladesh (satire) (press rele...  2018   \n",
       "3  United News of Bangladesh (satire) (press rele...  2018   \n",
       "4  United News of Bangladesh (satire) (press rele...  2018   \n",
       "\n",
       "                                        article_text  \\\n",
       "0   Chittagong division followed the leader neck ...   \n",
       "1   BRAC wins OFID annual award for supporting Ro...   \n",
       "2   No ban on BD workers' recruitment in Kuwait S...   \n",
       "3   Shakib , Tamim , Liton get big moves in T20I ...   \n",
       "4   The 22 year old Army shooter from Khulna Shak...   \n",
       "\n",
       "                                     country_mention  Domestic  \\\n",
       "0                                [('Bangladesh', 1)]      True   \n",
       "1  [('Bangladesh', 3), ('Myanmar', 2), ('Ecuador'...      True   \n",
       "2  [('Kuwait', 8), ('Bangladesh', 2), ('United St...      True   \n",
       "3  [('Bangladesh', 3), ('Pakistan', 1), ('Puerto ...      True   \n",
       "4  [('Bangladesh', 4), ('India', 2), ('Singapore'...      True   \n",
       "\n",
       "                                  article_text_Ngram  \\\n",
       "0   Chittagong division followed the leader neck ...   \n",
       "1   BRAC wins OFID annual award for supporting Ro...   \n",
       "2   No ban on BD workers' recruitment in Kuwait S...   \n",
       "3   Shakib , Tamim , Liton get big moves in T20I ...   \n",
       "4   The 22 year old Army shooter from Khulna Shak...   \n",
       "\n",
       "                         article_text_Ngram_stopword  \\\n",
       "0  Chittagong division followed leader neck neck ...   \n",
       "1  BRAC wins OFID annual award supporting Rohingy...   \n",
       "2  No ban BD workers ' recruitment Kuwait Shahria...   \n",
       "3  Shakib , Tamim , Liton get big moves T20I rank...   \n",
       "4  The 22 year old Army shooter Khulna Shakil cam...   \n",
       "\n",
       "               article_text_Ngram_stopword_lemmatize  \\\n",
       "0  Chittagong division follow leader neck neck co...   \n",
       "1  BRAC win OFID annual award support Rohingyas U...   \n",
       "2  No ban BD worker recruitment Kuwait Shahriar T...   \n",
       "3  Shakib Tamim Liton get big move T20I ranking D...   \n",
       "4  The 22 year old Army shooter Khulna Shakil com...   \n",
       "\n",
       "                                              text_2  \n",
       "0    division followed the leader neck and neck c...  \n",
       "1    wins award for supporting . UNB NEWS . Sunda...  \n",
       "2    No ban on workers ' recruitment in Shahriar ...  \n",
       "3    , , get big moves in T20I rankings . , Aug W...  \n",
       "4    The 22 year old shooter from Khulna came to ...  "
      ]
     },
     "execution_count": 23,
     "metadata": {},
     "output_type": "execute_result"
    }
   ],
   "source": [
    "bd.head()"
   ]
  },
  {
   "cell_type": "markdown",
   "id": "ee13018b",
   "metadata": {},
   "source": [
    "## Remove NE again"
   ]
  },
  {
   "cell_type": "code",
   "execution_count": 44,
   "id": "8dd0f050",
   "metadata": {},
   "outputs": [],
   "source": [
    "US=pd.read_csv(\"data/US2.csv\")\n",
    "SG=pd.read_csv(\"data/SG2.csv\")\n",
    "PH=pd.read_csv(\"data/PH2.csv\")\n",
    "NZ=pd.read_csv(\"data/NZ2.csv\")\n",
    "NG=pd.read_csv(\"data/NG2.csv\")\n",
    "IE=pd.read_csv(\"data/IE2.csv\")\n",
    "BD=pd.read_csv(\"data/BD2.csv\")"
   ]
  },
  {
   "cell_type": "code",
   "execution_count": 45,
   "id": "1bec1bb4",
   "metadata": {},
   "outputs": [
    {
     "ename": "KeyboardInterrupt",
     "evalue": "",
     "output_type": "error",
     "traceback": [
      "\u001b[0;31m---------------------------------------------------------------------------\u001b[0m",
      "\u001b[0;31mKeyboardInterrupt\u001b[0m                         Traceback (most recent call last)",
      "\u001b[0;32m/var/folders/f6/cw8ncfy124b8_ngrxb3g5bw40000gn/T/ipykernel_10491/499337188.py\u001b[0m in \u001b[0;36m<module>\u001b[0;34m\u001b[0m\n\u001b[1;32m      5\u001b[0m \u001b[0mNG\u001b[0m\u001b[0;34m[\u001b[0m\u001b[0;34m'text_2'\u001b[0m\u001b[0;34m]\u001b[0m\u001b[0;34m=\u001b[0m\u001b[0mNG\u001b[0m\u001b[0;34m[\u001b[0m\u001b[0;34m'text_2'\u001b[0m\u001b[0;34m]\u001b[0m\u001b[0;34m.\u001b[0m\u001b[0mapply\u001b[0m\u001b[0;34m(\u001b[0m\u001b[0mremove_2\u001b[0m\u001b[0;34m)\u001b[0m\u001b[0;34m\u001b[0m\u001b[0;34m\u001b[0m\u001b[0m\n\u001b[1;32m      6\u001b[0m \u001b[0mIE\u001b[0m\u001b[0;34m[\u001b[0m\u001b[0;34m'text_2'\u001b[0m\u001b[0;34m]\u001b[0m\u001b[0;34m=\u001b[0m\u001b[0mIE\u001b[0m\u001b[0;34m[\u001b[0m\u001b[0;34m'text_2'\u001b[0m\u001b[0;34m]\u001b[0m\u001b[0;34m.\u001b[0m\u001b[0mapply\u001b[0m\u001b[0;34m(\u001b[0m\u001b[0mremove_2\u001b[0m\u001b[0;34m)\u001b[0m\u001b[0;34m\u001b[0m\u001b[0;34m\u001b[0m\u001b[0m\n\u001b[0;32m----> 7\u001b[0;31m \u001b[0mBD\u001b[0m\u001b[0;34m[\u001b[0m\u001b[0;34m'text_2'\u001b[0m\u001b[0;34m]\u001b[0m\u001b[0;34m=\u001b[0m\u001b[0mBD\u001b[0m\u001b[0;34m[\u001b[0m\u001b[0;34m'text_2'\u001b[0m\u001b[0;34m]\u001b[0m\u001b[0;34m.\u001b[0m\u001b[0mapply\u001b[0m\u001b[0;34m(\u001b[0m\u001b[0mremove_2\u001b[0m\u001b[0;34m)\u001b[0m\u001b[0;34m\u001b[0m\u001b[0;34m\u001b[0m\u001b[0m\n\u001b[0m",
      "\u001b[0;32m~/opt/anaconda3/lib/python3.9/site-packages/pandas/core/series.py\u001b[0m in \u001b[0;36mapply\u001b[0;34m(self, func, convert_dtype, args, **kwargs)\u001b[0m\n\u001b[1;32m   4355\u001b[0m         \u001b[0mdtype\u001b[0m\u001b[0;34m:\u001b[0m \u001b[0mfloat64\u001b[0m\u001b[0;34m\u001b[0m\u001b[0;34m\u001b[0m\u001b[0m\n\u001b[1;32m   4356\u001b[0m         \"\"\"\n\u001b[0;32m-> 4357\u001b[0;31m         \u001b[0;32mreturn\u001b[0m \u001b[0mSeriesApply\u001b[0m\u001b[0;34m(\u001b[0m\u001b[0mself\u001b[0m\u001b[0;34m,\u001b[0m \u001b[0mfunc\u001b[0m\u001b[0;34m,\u001b[0m \u001b[0mconvert_dtype\u001b[0m\u001b[0;34m,\u001b[0m \u001b[0margs\u001b[0m\u001b[0;34m,\u001b[0m \u001b[0mkwargs\u001b[0m\u001b[0;34m)\u001b[0m\u001b[0;34m.\u001b[0m\u001b[0mapply\u001b[0m\u001b[0;34m(\u001b[0m\u001b[0;34m)\u001b[0m\u001b[0;34m\u001b[0m\u001b[0;34m\u001b[0m\u001b[0m\n\u001b[0m\u001b[1;32m   4358\u001b[0m \u001b[0;34m\u001b[0m\u001b[0m\n\u001b[1;32m   4359\u001b[0m     def _reduce(\n",
      "\u001b[0;32m~/opt/anaconda3/lib/python3.9/site-packages/pandas/core/apply.py\u001b[0m in \u001b[0;36mapply\u001b[0;34m(self)\u001b[0m\n\u001b[1;32m   1041\u001b[0m             \u001b[0;32mreturn\u001b[0m \u001b[0mself\u001b[0m\u001b[0;34m.\u001b[0m\u001b[0mapply_str\u001b[0m\u001b[0;34m(\u001b[0m\u001b[0;34m)\u001b[0m\u001b[0;34m\u001b[0m\u001b[0;34m\u001b[0m\u001b[0m\n\u001b[1;32m   1042\u001b[0m \u001b[0;34m\u001b[0m\u001b[0m\n\u001b[0;32m-> 1043\u001b[0;31m         \u001b[0;32mreturn\u001b[0m \u001b[0mself\u001b[0m\u001b[0;34m.\u001b[0m\u001b[0mapply_standard\u001b[0m\u001b[0;34m(\u001b[0m\u001b[0;34m)\u001b[0m\u001b[0;34m\u001b[0m\u001b[0;34m\u001b[0m\u001b[0m\n\u001b[0m\u001b[1;32m   1044\u001b[0m \u001b[0;34m\u001b[0m\u001b[0m\n\u001b[1;32m   1045\u001b[0m     \u001b[0;32mdef\u001b[0m \u001b[0magg\u001b[0m\u001b[0;34m(\u001b[0m\u001b[0mself\u001b[0m\u001b[0;34m)\u001b[0m\u001b[0;34m:\u001b[0m\u001b[0;34m\u001b[0m\u001b[0;34m\u001b[0m\u001b[0m\n",
      "\u001b[0;32m~/opt/anaconda3/lib/python3.9/site-packages/pandas/core/apply.py\u001b[0m in \u001b[0;36mapply_standard\u001b[0;34m(self)\u001b[0m\n\u001b[1;32m   1096\u001b[0m                 \u001b[0;31m# List[Union[Callable[..., Any], str]]]]]\"; expected\u001b[0m\u001b[0;34m\u001b[0m\u001b[0;34m\u001b[0m\u001b[0m\n\u001b[1;32m   1097\u001b[0m                 \u001b[0;31m# \"Callable[[Any], Any]\"\u001b[0m\u001b[0;34m\u001b[0m\u001b[0;34m\u001b[0m\u001b[0m\n\u001b[0;32m-> 1098\u001b[0;31m                 mapped = lib.map_infer(\n\u001b[0m\u001b[1;32m   1099\u001b[0m                     \u001b[0mvalues\u001b[0m\u001b[0;34m,\u001b[0m\u001b[0;34m\u001b[0m\u001b[0;34m\u001b[0m\u001b[0m\n\u001b[1;32m   1100\u001b[0m                     \u001b[0mf\u001b[0m\u001b[0;34m,\u001b[0m  \u001b[0;31m# type: ignore[arg-type]\u001b[0m\u001b[0;34m\u001b[0m\u001b[0;34m\u001b[0m\u001b[0m\n",
      "\u001b[0;32m~/opt/anaconda3/lib/python3.9/site-packages/pandas/_libs/lib.pyx\u001b[0m in \u001b[0;36mpandas._libs.lib.map_infer\u001b[0;34m()\u001b[0m\n",
      "\u001b[0;32m/var/folders/f6/cw8ncfy124b8_ngrxb3g5bw40000gn/T/ipykernel_10491/3130805375.py\u001b[0m in \u001b[0;36mremove_2\u001b[0;34m(text)\u001b[0m\n\u001b[1;32m      1\u001b[0m \u001b[0;32mdef\u001b[0m \u001b[0mremove_2\u001b[0m\u001b[0;34m(\u001b[0m\u001b[0mtext\u001b[0m\u001b[0;34m)\u001b[0m\u001b[0;34m:\u001b[0m\u001b[0;34m\u001b[0m\u001b[0;34m\u001b[0m\u001b[0m\n\u001b[0;32m----> 2\u001b[0;31m     \u001b[0mdocument\u001b[0m\u001b[0;34m=\u001b[0m\u001b[0mnlp\u001b[0m\u001b[0;34m(\u001b[0m\u001b[0mtext\u001b[0m\u001b[0;34m)\u001b[0m\u001b[0;34m\u001b[0m\u001b[0;34m\u001b[0m\u001b[0m\n\u001b[0m\u001b[1;32m      3\u001b[0m     \u001b[0;31m#newString = []\u001b[0m\u001b[0;34m\u001b[0m\u001b[0;34m\u001b[0m\u001b[0m\n\u001b[1;32m      4\u001b[0m     \u001b[0mtext_no_namedentities\u001b[0m\u001b[0;34m=\u001b[0m\u001b[0;34m[\u001b[0m\u001b[0;34m]\u001b[0m\u001b[0;34m\u001b[0m\u001b[0;34m\u001b[0m\u001b[0m\n\u001b[1;32m      5\u001b[0m     \u001b[0;31m#ents = [e.text for e in document.ents]\u001b[0m\u001b[0;34m\u001b[0m\u001b[0;34m\u001b[0m\u001b[0m\n",
      "\u001b[0;32m~/opt/anaconda3/lib/python3.9/site-packages/spacy/language.py\u001b[0m in \u001b[0;36m__call__\u001b[0;34m(self, text, disable, component_cfg)\u001b[0m\n\u001b[1;32m   1015\u001b[0m                 \u001b[0merror_handler\u001b[0m \u001b[0;34m=\u001b[0m \u001b[0mproc\u001b[0m\u001b[0;34m.\u001b[0m\u001b[0mget_error_handler\u001b[0m\u001b[0;34m(\u001b[0m\u001b[0;34m)\u001b[0m\u001b[0;34m\u001b[0m\u001b[0;34m\u001b[0m\u001b[0m\n\u001b[1;32m   1016\u001b[0m             \u001b[0;32mtry\u001b[0m\u001b[0;34m:\u001b[0m\u001b[0;34m\u001b[0m\u001b[0;34m\u001b[0m\u001b[0m\n\u001b[0;32m-> 1017\u001b[0;31m                 \u001b[0mdoc\u001b[0m \u001b[0;34m=\u001b[0m \u001b[0mproc\u001b[0m\u001b[0;34m(\u001b[0m\u001b[0mdoc\u001b[0m\u001b[0;34m,\u001b[0m \u001b[0;34m**\u001b[0m\u001b[0mcomponent_cfg\u001b[0m\u001b[0;34m.\u001b[0m\u001b[0mget\u001b[0m\u001b[0;34m(\u001b[0m\u001b[0mname\u001b[0m\u001b[0;34m,\u001b[0m \u001b[0;34m{\u001b[0m\u001b[0;34m}\u001b[0m\u001b[0;34m)\u001b[0m\u001b[0;34m)\u001b[0m  \u001b[0;31m# type: ignore[call-arg]\u001b[0m\u001b[0;34m\u001b[0m\u001b[0;34m\u001b[0m\u001b[0m\n\u001b[0m\u001b[1;32m   1018\u001b[0m             \u001b[0;32mexcept\u001b[0m \u001b[0mKeyError\u001b[0m \u001b[0;32mas\u001b[0m \u001b[0me\u001b[0m\u001b[0;34m:\u001b[0m\u001b[0;34m\u001b[0m\u001b[0;34m\u001b[0m\u001b[0m\n\u001b[1;32m   1019\u001b[0m                 \u001b[0;31m# This typically happens if a component is not initialized\u001b[0m\u001b[0;34m\u001b[0m\u001b[0;34m\u001b[0m\u001b[0m\n",
      "\u001b[0;32m~/opt/anaconda3/lib/python3.9/site-packages/spacy/pipeline/trainable_pipe.pyx\u001b[0m in \u001b[0;36mspacy.pipeline.trainable_pipe.TrainablePipe.__call__\u001b[0;34m()\u001b[0m\n",
      "\u001b[0;32m~/opt/anaconda3/lib/python3.9/site-packages/spacy/pipeline/transition_parser.pyx\u001b[0m in \u001b[0;36mspacy.pipeline.transition_parser.Parser.predict\u001b[0;34m()\u001b[0m\n",
      "\u001b[0;32m~/opt/anaconda3/lib/python3.9/site-packages/spacy/pipeline/transition_parser.pyx\u001b[0m in \u001b[0;36mspacy.pipeline.transition_parser.Parser.greedy_parse\u001b[0;34m()\u001b[0m\n",
      "\u001b[0;32m~/opt/anaconda3/lib/python3.9/site-packages/thinc/model.py\u001b[0m in \u001b[0;36mpredict\u001b[0;34m(self, X)\u001b[0m\n\u001b[1;32m    313\u001b[0m         \u001b[0monly\u001b[0m \u001b[0mthe\u001b[0m \u001b[0moutput\u001b[0m\u001b[0;34m,\u001b[0m \u001b[0minstead\u001b[0m \u001b[0mof\u001b[0m \u001b[0mthe\u001b[0m\u001b[0;31m \u001b[0m\u001b[0;31m`\u001b[0m\u001b[0;34m(\u001b[0m\u001b[0moutput\u001b[0m\u001b[0;34m,\u001b[0m \u001b[0mcallback\u001b[0m\u001b[0;34m)\u001b[0m\u001b[0;31m`\u001b[0m \u001b[0mtuple\u001b[0m\u001b[0;34m.\u001b[0m\u001b[0;34m\u001b[0m\u001b[0;34m\u001b[0m\u001b[0m\n\u001b[1;32m    314\u001b[0m         \"\"\"\n\u001b[0;32m--> 315\u001b[0;31m         \u001b[0;32mreturn\u001b[0m \u001b[0mself\u001b[0m\u001b[0;34m.\u001b[0m\u001b[0m_func\u001b[0m\u001b[0;34m(\u001b[0m\u001b[0mself\u001b[0m\u001b[0;34m,\u001b[0m \u001b[0mX\u001b[0m\u001b[0;34m,\u001b[0m \u001b[0mis_train\u001b[0m\u001b[0;34m=\u001b[0m\u001b[0;32mFalse\u001b[0m\u001b[0;34m)\u001b[0m\u001b[0;34m[\u001b[0m\u001b[0;36m0\u001b[0m\u001b[0;34m]\u001b[0m\u001b[0;34m\u001b[0m\u001b[0;34m\u001b[0m\u001b[0m\n\u001b[0m\u001b[1;32m    316\u001b[0m \u001b[0;34m\u001b[0m\u001b[0m\n\u001b[1;32m    317\u001b[0m     \u001b[0;32mdef\u001b[0m \u001b[0mfinish_update\u001b[0m\u001b[0;34m(\u001b[0m\u001b[0mself\u001b[0m\u001b[0;34m,\u001b[0m \u001b[0moptimizer\u001b[0m\u001b[0;34m:\u001b[0m \u001b[0mOptimizer\u001b[0m\u001b[0;34m)\u001b[0m \u001b[0;34m->\u001b[0m \u001b[0;32mNone\u001b[0m\u001b[0;34m:\u001b[0m\u001b[0;34m\u001b[0m\u001b[0;34m\u001b[0m\u001b[0m\n",
      "\u001b[0;32m~/opt/anaconda3/lib/python3.9/site-packages/spacy/ml/tb_framework.py\u001b[0m in \u001b[0;36mforward\u001b[0;34m(model, X, is_train)\u001b[0m\n\u001b[1;32m     31\u001b[0m \u001b[0;34m\u001b[0m\u001b[0m\n\u001b[1;32m     32\u001b[0m \u001b[0;32mdef\u001b[0m \u001b[0mforward\u001b[0m\u001b[0;34m(\u001b[0m\u001b[0mmodel\u001b[0m\u001b[0;34m,\u001b[0m \u001b[0mX\u001b[0m\u001b[0;34m,\u001b[0m \u001b[0mis_train\u001b[0m\u001b[0;34m)\u001b[0m\u001b[0;34m:\u001b[0m\u001b[0;34m\u001b[0m\u001b[0;34m\u001b[0m\u001b[0m\n\u001b[0;32m---> 33\u001b[0;31m     step_model = ParserStepModel(\n\u001b[0m\u001b[1;32m     34\u001b[0m         \u001b[0mX\u001b[0m\u001b[0;34m,\u001b[0m\u001b[0;34m\u001b[0m\u001b[0;34m\u001b[0m\u001b[0m\n\u001b[1;32m     35\u001b[0m         \u001b[0mmodel\u001b[0m\u001b[0;34m.\u001b[0m\u001b[0mlayers\u001b[0m\u001b[0;34m,\u001b[0m\u001b[0;34m\u001b[0m\u001b[0;34m\u001b[0m\u001b[0m\n",
      "\u001b[0;32m~/opt/anaconda3/lib/python3.9/site-packages/spacy/ml/parser_model.pyx\u001b[0m in \u001b[0;36mspacy.ml.parser_model.ParserStepModel.__init__\u001b[0;34m()\u001b[0m\n",
      "\u001b[0;32m~/opt/anaconda3/lib/python3.9/site-packages/thinc/model.py\u001b[0m in \u001b[0;36m__call__\u001b[0;34m(self, X, is_train)\u001b[0m\n\u001b[1;32m    289\u001b[0m         \"\"\"Call the model's `forward` function, returning the output and a\n\u001b[1;32m    290\u001b[0m         callback to compute the gradients via backpropagation.\"\"\"\n\u001b[0;32m--> 291\u001b[0;31m         \u001b[0;32mreturn\u001b[0m \u001b[0mself\u001b[0m\u001b[0;34m.\u001b[0m\u001b[0m_func\u001b[0m\u001b[0;34m(\u001b[0m\u001b[0mself\u001b[0m\u001b[0;34m,\u001b[0m \u001b[0mX\u001b[0m\u001b[0;34m,\u001b[0m \u001b[0mis_train\u001b[0m\u001b[0;34m=\u001b[0m\u001b[0mis_train\u001b[0m\u001b[0;34m)\u001b[0m\u001b[0;34m\u001b[0m\u001b[0;34m\u001b[0m\u001b[0m\n\u001b[0m\u001b[1;32m    292\u001b[0m \u001b[0;34m\u001b[0m\u001b[0m\n\u001b[1;32m    293\u001b[0m     \u001b[0;32mdef\u001b[0m \u001b[0minitialize\u001b[0m\u001b[0;34m(\u001b[0m\u001b[0mself\u001b[0m\u001b[0;34m,\u001b[0m \u001b[0mX\u001b[0m\u001b[0;34m:\u001b[0m \u001b[0mOptional\u001b[0m\u001b[0;34m[\u001b[0m\u001b[0mInT\u001b[0m\u001b[0;34m]\u001b[0m \u001b[0;34m=\u001b[0m \u001b[0;32mNone\u001b[0m\u001b[0;34m,\u001b[0m \u001b[0mY\u001b[0m\u001b[0;34m:\u001b[0m \u001b[0mOptional\u001b[0m\u001b[0;34m[\u001b[0m\u001b[0mOutT\u001b[0m\u001b[0;34m]\u001b[0m \u001b[0;34m=\u001b[0m \u001b[0;32mNone\u001b[0m\u001b[0;34m)\u001b[0m \u001b[0;34m->\u001b[0m \u001b[0;34m\"Model\"\u001b[0m\u001b[0;34m:\u001b[0m\u001b[0;34m\u001b[0m\u001b[0;34m\u001b[0m\u001b[0m\n",
      "\u001b[0;32m~/opt/anaconda3/lib/python3.9/site-packages/thinc/layers/chain.py\u001b[0m in \u001b[0;36mforward\u001b[0;34m(model, X, is_train)\u001b[0m\n\u001b[1;32m     52\u001b[0m     \u001b[0mcallbacks\u001b[0m \u001b[0;34m=\u001b[0m \u001b[0;34m[\u001b[0m\u001b[0;34m]\u001b[0m\u001b[0;34m\u001b[0m\u001b[0;34m\u001b[0m\u001b[0m\n\u001b[1;32m     53\u001b[0m     \u001b[0;32mfor\u001b[0m \u001b[0mlayer\u001b[0m \u001b[0;32min\u001b[0m \u001b[0mmodel\u001b[0m\u001b[0;34m.\u001b[0m\u001b[0mlayers\u001b[0m\u001b[0;34m:\u001b[0m\u001b[0;34m\u001b[0m\u001b[0;34m\u001b[0m\u001b[0m\n\u001b[0;32m---> 54\u001b[0;31m         \u001b[0mY\u001b[0m\u001b[0;34m,\u001b[0m \u001b[0minc_layer_grad\u001b[0m \u001b[0;34m=\u001b[0m \u001b[0mlayer\u001b[0m\u001b[0;34m(\u001b[0m\u001b[0mX\u001b[0m\u001b[0;34m,\u001b[0m \u001b[0mis_train\u001b[0m\u001b[0;34m=\u001b[0m\u001b[0mis_train\u001b[0m\u001b[0;34m)\u001b[0m\u001b[0;34m\u001b[0m\u001b[0;34m\u001b[0m\u001b[0m\n\u001b[0m\u001b[1;32m     55\u001b[0m         \u001b[0mcallbacks\u001b[0m\u001b[0;34m.\u001b[0m\u001b[0mappend\u001b[0m\u001b[0;34m(\u001b[0m\u001b[0minc_layer_grad\u001b[0m\u001b[0;34m)\u001b[0m\u001b[0;34m\u001b[0m\u001b[0;34m\u001b[0m\u001b[0m\n\u001b[1;32m     56\u001b[0m         \u001b[0mX\u001b[0m \u001b[0;34m=\u001b[0m \u001b[0mY\u001b[0m\u001b[0;34m\u001b[0m\u001b[0;34m\u001b[0m\u001b[0m\n",
      "\u001b[0;32m~/opt/anaconda3/lib/python3.9/site-packages/thinc/model.py\u001b[0m in \u001b[0;36m__call__\u001b[0;34m(self, X, is_train)\u001b[0m\n\u001b[1;32m    289\u001b[0m         \"\"\"Call the model's `forward` function, returning the output and a\n\u001b[1;32m    290\u001b[0m         callback to compute the gradients via backpropagation.\"\"\"\n\u001b[0;32m--> 291\u001b[0;31m         \u001b[0;32mreturn\u001b[0m \u001b[0mself\u001b[0m\u001b[0;34m.\u001b[0m\u001b[0m_func\u001b[0m\u001b[0;34m(\u001b[0m\u001b[0mself\u001b[0m\u001b[0;34m,\u001b[0m \u001b[0mX\u001b[0m\u001b[0;34m,\u001b[0m \u001b[0mis_train\u001b[0m\u001b[0;34m=\u001b[0m\u001b[0mis_train\u001b[0m\u001b[0;34m)\u001b[0m\u001b[0;34m\u001b[0m\u001b[0;34m\u001b[0m\u001b[0m\n\u001b[0m\u001b[1;32m    292\u001b[0m \u001b[0;34m\u001b[0m\u001b[0m\n\u001b[1;32m    293\u001b[0m     \u001b[0;32mdef\u001b[0m \u001b[0minitialize\u001b[0m\u001b[0;34m(\u001b[0m\u001b[0mself\u001b[0m\u001b[0;34m,\u001b[0m \u001b[0mX\u001b[0m\u001b[0;34m:\u001b[0m \u001b[0mOptional\u001b[0m\u001b[0;34m[\u001b[0m\u001b[0mInT\u001b[0m\u001b[0;34m]\u001b[0m \u001b[0;34m=\u001b[0m \u001b[0;32mNone\u001b[0m\u001b[0;34m,\u001b[0m \u001b[0mY\u001b[0m\u001b[0;34m:\u001b[0m \u001b[0mOptional\u001b[0m\u001b[0;34m[\u001b[0m\u001b[0mOutT\u001b[0m\u001b[0;34m]\u001b[0m \u001b[0;34m=\u001b[0m \u001b[0;32mNone\u001b[0m\u001b[0;34m)\u001b[0m \u001b[0;34m->\u001b[0m \u001b[0;34m\"Model\"\u001b[0m\u001b[0;34m:\u001b[0m\u001b[0;34m\u001b[0m\u001b[0;34m\u001b[0m\u001b[0m\n",
      "\u001b[0;32m~/opt/anaconda3/lib/python3.9/site-packages/thinc/layers/chain.py\u001b[0m in \u001b[0;36mforward\u001b[0;34m(model, X, is_train)\u001b[0m\n\u001b[1;32m     52\u001b[0m     \u001b[0mcallbacks\u001b[0m \u001b[0;34m=\u001b[0m \u001b[0;34m[\u001b[0m\u001b[0;34m]\u001b[0m\u001b[0;34m\u001b[0m\u001b[0;34m\u001b[0m\u001b[0m\n\u001b[1;32m     53\u001b[0m     \u001b[0;32mfor\u001b[0m \u001b[0mlayer\u001b[0m \u001b[0;32min\u001b[0m \u001b[0mmodel\u001b[0m\u001b[0;34m.\u001b[0m\u001b[0mlayers\u001b[0m\u001b[0;34m:\u001b[0m\u001b[0;34m\u001b[0m\u001b[0;34m\u001b[0m\u001b[0m\n\u001b[0;32m---> 54\u001b[0;31m         \u001b[0mY\u001b[0m\u001b[0;34m,\u001b[0m \u001b[0minc_layer_grad\u001b[0m \u001b[0;34m=\u001b[0m \u001b[0mlayer\u001b[0m\u001b[0;34m(\u001b[0m\u001b[0mX\u001b[0m\u001b[0;34m,\u001b[0m \u001b[0mis_train\u001b[0m\u001b[0;34m=\u001b[0m\u001b[0mis_train\u001b[0m\u001b[0;34m)\u001b[0m\u001b[0;34m\u001b[0m\u001b[0;34m\u001b[0m\u001b[0m\n\u001b[0m\u001b[1;32m     55\u001b[0m         \u001b[0mcallbacks\u001b[0m\u001b[0;34m.\u001b[0m\u001b[0mappend\u001b[0m\u001b[0;34m(\u001b[0m\u001b[0minc_layer_grad\u001b[0m\u001b[0;34m)\u001b[0m\u001b[0;34m\u001b[0m\u001b[0;34m\u001b[0m\u001b[0m\n\u001b[1;32m     56\u001b[0m         \u001b[0mX\u001b[0m \u001b[0;34m=\u001b[0m \u001b[0mY\u001b[0m\u001b[0;34m\u001b[0m\u001b[0;34m\u001b[0m\u001b[0m\n",
      "\u001b[0;32m~/opt/anaconda3/lib/python3.9/site-packages/thinc/model.py\u001b[0m in \u001b[0;36m__call__\u001b[0;34m(self, X, is_train)\u001b[0m\n\u001b[1;32m    289\u001b[0m         \"\"\"Call the model's `forward` function, returning the output and a\n\u001b[1;32m    290\u001b[0m         callback to compute the gradients via backpropagation.\"\"\"\n\u001b[0;32m--> 291\u001b[0;31m         \u001b[0;32mreturn\u001b[0m \u001b[0mself\u001b[0m\u001b[0;34m.\u001b[0m\u001b[0m_func\u001b[0m\u001b[0;34m(\u001b[0m\u001b[0mself\u001b[0m\u001b[0;34m,\u001b[0m \u001b[0mX\u001b[0m\u001b[0;34m,\u001b[0m \u001b[0mis_train\u001b[0m\u001b[0;34m=\u001b[0m\u001b[0mis_train\u001b[0m\u001b[0;34m)\u001b[0m\u001b[0;34m\u001b[0m\u001b[0;34m\u001b[0m\u001b[0m\n\u001b[0m\u001b[1;32m    292\u001b[0m \u001b[0;34m\u001b[0m\u001b[0m\n\u001b[1;32m    293\u001b[0m     \u001b[0;32mdef\u001b[0m \u001b[0minitialize\u001b[0m\u001b[0;34m(\u001b[0m\u001b[0mself\u001b[0m\u001b[0;34m,\u001b[0m \u001b[0mX\u001b[0m\u001b[0;34m:\u001b[0m \u001b[0mOptional\u001b[0m\u001b[0;34m[\u001b[0m\u001b[0mInT\u001b[0m\u001b[0;34m]\u001b[0m \u001b[0;34m=\u001b[0m \u001b[0;32mNone\u001b[0m\u001b[0;34m,\u001b[0m \u001b[0mY\u001b[0m\u001b[0;34m:\u001b[0m \u001b[0mOptional\u001b[0m\u001b[0;34m[\u001b[0m\u001b[0mOutT\u001b[0m\u001b[0;34m]\u001b[0m \u001b[0;34m=\u001b[0m \u001b[0;32mNone\u001b[0m\u001b[0;34m)\u001b[0m \u001b[0;34m->\u001b[0m \u001b[0;34m\"Model\"\u001b[0m\u001b[0;34m:\u001b[0m\u001b[0;34m\u001b[0m\u001b[0;34m\u001b[0m\u001b[0m\n",
      "\u001b[0;32m~/opt/anaconda3/lib/python3.9/site-packages/thinc/layers/chain.py\u001b[0m in \u001b[0;36mforward\u001b[0;34m(model, X, is_train)\u001b[0m\n\u001b[1;32m     52\u001b[0m     \u001b[0mcallbacks\u001b[0m \u001b[0;34m=\u001b[0m \u001b[0;34m[\u001b[0m\u001b[0;34m]\u001b[0m\u001b[0;34m\u001b[0m\u001b[0;34m\u001b[0m\u001b[0m\n\u001b[1;32m     53\u001b[0m     \u001b[0;32mfor\u001b[0m \u001b[0mlayer\u001b[0m \u001b[0;32min\u001b[0m \u001b[0mmodel\u001b[0m\u001b[0;34m.\u001b[0m\u001b[0mlayers\u001b[0m\u001b[0;34m:\u001b[0m\u001b[0;34m\u001b[0m\u001b[0;34m\u001b[0m\u001b[0m\n\u001b[0;32m---> 54\u001b[0;31m         \u001b[0mY\u001b[0m\u001b[0;34m,\u001b[0m \u001b[0minc_layer_grad\u001b[0m \u001b[0;34m=\u001b[0m \u001b[0mlayer\u001b[0m\u001b[0;34m(\u001b[0m\u001b[0mX\u001b[0m\u001b[0;34m,\u001b[0m \u001b[0mis_train\u001b[0m\u001b[0;34m=\u001b[0m\u001b[0mis_train\u001b[0m\u001b[0;34m)\u001b[0m\u001b[0;34m\u001b[0m\u001b[0;34m\u001b[0m\u001b[0m\n\u001b[0m\u001b[1;32m     55\u001b[0m         \u001b[0mcallbacks\u001b[0m\u001b[0;34m.\u001b[0m\u001b[0mappend\u001b[0m\u001b[0;34m(\u001b[0m\u001b[0minc_layer_grad\u001b[0m\u001b[0;34m)\u001b[0m\u001b[0;34m\u001b[0m\u001b[0;34m\u001b[0m\u001b[0m\n\u001b[1;32m     56\u001b[0m         \u001b[0mX\u001b[0m \u001b[0;34m=\u001b[0m \u001b[0mY\u001b[0m\u001b[0;34m\u001b[0m\u001b[0;34m\u001b[0m\u001b[0m\n",
      "\u001b[0;32m~/opt/anaconda3/lib/python3.9/site-packages/thinc/model.py\u001b[0m in \u001b[0;36m__call__\u001b[0;34m(self, X, is_train)\u001b[0m\n\u001b[1;32m    289\u001b[0m         \"\"\"Call the model's `forward` function, returning the output and a\n\u001b[1;32m    290\u001b[0m         callback to compute the gradients via backpropagation.\"\"\"\n\u001b[0;32m--> 291\u001b[0;31m         \u001b[0;32mreturn\u001b[0m \u001b[0mself\u001b[0m\u001b[0;34m.\u001b[0m\u001b[0m_func\u001b[0m\u001b[0;34m(\u001b[0m\u001b[0mself\u001b[0m\u001b[0;34m,\u001b[0m \u001b[0mX\u001b[0m\u001b[0;34m,\u001b[0m \u001b[0mis_train\u001b[0m\u001b[0;34m=\u001b[0m\u001b[0mis_train\u001b[0m\u001b[0;34m)\u001b[0m\u001b[0;34m\u001b[0m\u001b[0;34m\u001b[0m\u001b[0m\n\u001b[0m\u001b[1;32m    292\u001b[0m \u001b[0;34m\u001b[0m\u001b[0m\n\u001b[1;32m    293\u001b[0m     \u001b[0;32mdef\u001b[0m \u001b[0minitialize\u001b[0m\u001b[0;34m(\u001b[0m\u001b[0mself\u001b[0m\u001b[0;34m,\u001b[0m \u001b[0mX\u001b[0m\u001b[0;34m:\u001b[0m \u001b[0mOptional\u001b[0m\u001b[0;34m[\u001b[0m\u001b[0mInT\u001b[0m\u001b[0;34m]\u001b[0m \u001b[0;34m=\u001b[0m \u001b[0;32mNone\u001b[0m\u001b[0;34m,\u001b[0m \u001b[0mY\u001b[0m\u001b[0;34m:\u001b[0m \u001b[0mOptional\u001b[0m\u001b[0;34m[\u001b[0m\u001b[0mOutT\u001b[0m\u001b[0;34m]\u001b[0m \u001b[0;34m=\u001b[0m \u001b[0;32mNone\u001b[0m\u001b[0;34m)\u001b[0m \u001b[0;34m->\u001b[0m \u001b[0;34m\"Model\"\u001b[0m\u001b[0;34m:\u001b[0m\u001b[0;34m\u001b[0m\u001b[0;34m\u001b[0m\u001b[0m\n",
      "\u001b[0;32m~/opt/anaconda3/lib/python3.9/site-packages/thinc/layers/with_array.py\u001b[0m in \u001b[0;36mforward\u001b[0;34m(model, Xseq, is_train)\u001b[0m\n\u001b[1;32m     28\u001b[0m \u001b[0;32mdef\u001b[0m \u001b[0mforward\u001b[0m\u001b[0;34m(\u001b[0m\u001b[0mmodel\u001b[0m\u001b[0;34m:\u001b[0m \u001b[0mModel\u001b[0m\u001b[0;34m[\u001b[0m\u001b[0mSeqT\u001b[0m\u001b[0;34m,\u001b[0m \u001b[0mSeqT\u001b[0m\u001b[0;34m]\u001b[0m\u001b[0;34m,\u001b[0m \u001b[0mXseq\u001b[0m\u001b[0;34m:\u001b[0m \u001b[0mSeqT\u001b[0m\u001b[0;34m,\u001b[0m \u001b[0mis_train\u001b[0m\u001b[0;34m:\u001b[0m \u001b[0mbool\u001b[0m\u001b[0;34m)\u001b[0m\u001b[0;34m:\u001b[0m\u001b[0;34m\u001b[0m\u001b[0;34m\u001b[0m\u001b[0m\n\u001b[1;32m     29\u001b[0m     \u001b[0;32mif\u001b[0m \u001b[0misinstance\u001b[0m\u001b[0;34m(\u001b[0m\u001b[0mXseq\u001b[0m\u001b[0;34m,\u001b[0m \u001b[0mRagged\u001b[0m\u001b[0;34m)\u001b[0m\u001b[0;34m:\u001b[0m\u001b[0;34m\u001b[0m\u001b[0;34m\u001b[0m\u001b[0m\n\u001b[0;32m---> 30\u001b[0;31m         return _ragged_forward(\n\u001b[0m\u001b[1;32m     31\u001b[0m             \u001b[0mcast\u001b[0m\u001b[0;34m(\u001b[0m\u001b[0mModel\u001b[0m\u001b[0;34m[\u001b[0m\u001b[0mRagged\u001b[0m\u001b[0;34m,\u001b[0m \u001b[0mRagged\u001b[0m\u001b[0;34m]\u001b[0m\u001b[0;34m,\u001b[0m \u001b[0mmodel\u001b[0m\u001b[0;34m)\u001b[0m\u001b[0;34m,\u001b[0m \u001b[0mcast\u001b[0m\u001b[0;34m(\u001b[0m\u001b[0mRagged\u001b[0m\u001b[0;34m,\u001b[0m \u001b[0mXseq\u001b[0m\u001b[0;34m)\u001b[0m\u001b[0;34m,\u001b[0m \u001b[0mis_train\u001b[0m\u001b[0;34m\u001b[0m\u001b[0;34m\u001b[0m\u001b[0m\n\u001b[1;32m     32\u001b[0m         )\n",
      "\u001b[0;32m~/opt/anaconda3/lib/python3.9/site-packages/thinc/layers/with_array.py\u001b[0m in \u001b[0;36m_ragged_forward\u001b[0;34m(model, Xr, is_train)\u001b[0m\n\u001b[1;32m     88\u001b[0m ) -> Tuple[Ragged, Callable]:\n\u001b[1;32m     89\u001b[0m     \u001b[0mlayer\u001b[0m\u001b[0;34m:\u001b[0m \u001b[0mModel\u001b[0m\u001b[0;34m[\u001b[0m\u001b[0mArrayXd\u001b[0m\u001b[0;34m,\u001b[0m \u001b[0mArrayXd\u001b[0m\u001b[0;34m]\u001b[0m \u001b[0;34m=\u001b[0m \u001b[0mmodel\u001b[0m\u001b[0;34m.\u001b[0m\u001b[0mlayers\u001b[0m\u001b[0;34m[\u001b[0m\u001b[0;36m0\u001b[0m\u001b[0;34m]\u001b[0m\u001b[0;34m\u001b[0m\u001b[0;34m\u001b[0m\u001b[0m\n\u001b[0;32m---> 90\u001b[0;31m     \u001b[0mY\u001b[0m\u001b[0;34m,\u001b[0m \u001b[0mget_dX\u001b[0m \u001b[0;34m=\u001b[0m \u001b[0mlayer\u001b[0m\u001b[0;34m(\u001b[0m\u001b[0mXr\u001b[0m\u001b[0;34m.\u001b[0m\u001b[0mdataXd\u001b[0m\u001b[0;34m,\u001b[0m \u001b[0mis_train\u001b[0m\u001b[0;34m)\u001b[0m\u001b[0;34m\u001b[0m\u001b[0;34m\u001b[0m\u001b[0m\n\u001b[0m\u001b[1;32m     91\u001b[0m \u001b[0;34m\u001b[0m\u001b[0m\n\u001b[1;32m     92\u001b[0m     \u001b[0;32mdef\u001b[0m \u001b[0mbackprop\u001b[0m\u001b[0;34m(\u001b[0m\u001b[0mdYr\u001b[0m\u001b[0;34m:\u001b[0m \u001b[0mRagged\u001b[0m\u001b[0;34m)\u001b[0m \u001b[0;34m->\u001b[0m \u001b[0mRagged\u001b[0m\u001b[0;34m:\u001b[0m\u001b[0;34m\u001b[0m\u001b[0;34m\u001b[0m\u001b[0m\n",
      "\u001b[0;32m~/opt/anaconda3/lib/python3.9/site-packages/thinc/model.py\u001b[0m in \u001b[0;36m__call__\u001b[0;34m(self, X, is_train)\u001b[0m\n\u001b[1;32m    289\u001b[0m         \"\"\"Call the model's `forward` function, returning the output and a\n\u001b[1;32m    290\u001b[0m         callback to compute the gradients via backpropagation.\"\"\"\n\u001b[0;32m--> 291\u001b[0;31m         \u001b[0;32mreturn\u001b[0m \u001b[0mself\u001b[0m\u001b[0;34m.\u001b[0m\u001b[0m_func\u001b[0m\u001b[0;34m(\u001b[0m\u001b[0mself\u001b[0m\u001b[0;34m,\u001b[0m \u001b[0mX\u001b[0m\u001b[0;34m,\u001b[0m \u001b[0mis_train\u001b[0m\u001b[0;34m=\u001b[0m\u001b[0mis_train\u001b[0m\u001b[0;34m)\u001b[0m\u001b[0;34m\u001b[0m\u001b[0;34m\u001b[0m\u001b[0m\n\u001b[0m\u001b[1;32m    292\u001b[0m \u001b[0;34m\u001b[0m\u001b[0m\n\u001b[1;32m    293\u001b[0m     \u001b[0;32mdef\u001b[0m \u001b[0minitialize\u001b[0m\u001b[0;34m(\u001b[0m\u001b[0mself\u001b[0m\u001b[0;34m,\u001b[0m \u001b[0mX\u001b[0m\u001b[0;34m:\u001b[0m \u001b[0mOptional\u001b[0m\u001b[0;34m[\u001b[0m\u001b[0mInT\u001b[0m\u001b[0;34m]\u001b[0m \u001b[0;34m=\u001b[0m \u001b[0;32mNone\u001b[0m\u001b[0;34m,\u001b[0m \u001b[0mY\u001b[0m\u001b[0;34m:\u001b[0m \u001b[0mOptional\u001b[0m\u001b[0;34m[\u001b[0m\u001b[0mOutT\u001b[0m\u001b[0;34m]\u001b[0m \u001b[0;34m=\u001b[0m \u001b[0;32mNone\u001b[0m\u001b[0;34m)\u001b[0m \u001b[0;34m->\u001b[0m \u001b[0;34m\"Model\"\u001b[0m\u001b[0;34m:\u001b[0m\u001b[0;34m\u001b[0m\u001b[0;34m\u001b[0m\u001b[0m\n",
      "\u001b[0;32m~/opt/anaconda3/lib/python3.9/site-packages/thinc/layers/chain.py\u001b[0m in \u001b[0;36mforward\u001b[0;34m(model, X, is_train)\u001b[0m\n\u001b[1;32m     52\u001b[0m     \u001b[0mcallbacks\u001b[0m \u001b[0;34m=\u001b[0m \u001b[0;34m[\u001b[0m\u001b[0;34m]\u001b[0m\u001b[0;34m\u001b[0m\u001b[0;34m\u001b[0m\u001b[0m\n\u001b[1;32m     53\u001b[0m     \u001b[0;32mfor\u001b[0m \u001b[0mlayer\u001b[0m \u001b[0;32min\u001b[0m \u001b[0mmodel\u001b[0m\u001b[0;34m.\u001b[0m\u001b[0mlayers\u001b[0m\u001b[0;34m:\u001b[0m\u001b[0;34m\u001b[0m\u001b[0;34m\u001b[0m\u001b[0m\n\u001b[0;32m---> 54\u001b[0;31m         \u001b[0mY\u001b[0m\u001b[0;34m,\u001b[0m \u001b[0minc_layer_grad\u001b[0m \u001b[0;34m=\u001b[0m \u001b[0mlayer\u001b[0m\u001b[0;34m(\u001b[0m\u001b[0mX\u001b[0m\u001b[0;34m,\u001b[0m \u001b[0mis_train\u001b[0m\u001b[0;34m=\u001b[0m\u001b[0mis_train\u001b[0m\u001b[0;34m)\u001b[0m\u001b[0;34m\u001b[0m\u001b[0;34m\u001b[0m\u001b[0m\n\u001b[0m\u001b[1;32m     55\u001b[0m         \u001b[0mcallbacks\u001b[0m\u001b[0;34m.\u001b[0m\u001b[0mappend\u001b[0m\u001b[0;34m(\u001b[0m\u001b[0minc_layer_grad\u001b[0m\u001b[0;34m)\u001b[0m\u001b[0;34m\u001b[0m\u001b[0;34m\u001b[0m\u001b[0m\n\u001b[1;32m     56\u001b[0m         \u001b[0mX\u001b[0m \u001b[0;34m=\u001b[0m \u001b[0mY\u001b[0m\u001b[0;34m\u001b[0m\u001b[0;34m\u001b[0m\u001b[0m\n",
      "\u001b[0;32m~/opt/anaconda3/lib/python3.9/site-packages/thinc/model.py\u001b[0m in \u001b[0;36m__call__\u001b[0;34m(self, X, is_train)\u001b[0m\n\u001b[1;32m    289\u001b[0m         \"\"\"Call the model's `forward` function, returning the output and a\n\u001b[1;32m    290\u001b[0m         callback to compute the gradients via backpropagation.\"\"\"\n\u001b[0;32m--> 291\u001b[0;31m         \u001b[0;32mreturn\u001b[0m \u001b[0mself\u001b[0m\u001b[0;34m.\u001b[0m\u001b[0m_func\u001b[0m\u001b[0;34m(\u001b[0m\u001b[0mself\u001b[0m\u001b[0;34m,\u001b[0m \u001b[0mX\u001b[0m\u001b[0;34m,\u001b[0m \u001b[0mis_train\u001b[0m\u001b[0;34m=\u001b[0m\u001b[0mis_train\u001b[0m\u001b[0;34m)\u001b[0m\u001b[0;34m\u001b[0m\u001b[0;34m\u001b[0m\u001b[0m\n\u001b[0m\u001b[1;32m    292\u001b[0m \u001b[0;34m\u001b[0m\u001b[0m\n\u001b[1;32m    293\u001b[0m     \u001b[0;32mdef\u001b[0m \u001b[0minitialize\u001b[0m\u001b[0;34m(\u001b[0m\u001b[0mself\u001b[0m\u001b[0;34m,\u001b[0m \u001b[0mX\u001b[0m\u001b[0;34m:\u001b[0m \u001b[0mOptional\u001b[0m\u001b[0;34m[\u001b[0m\u001b[0mInT\u001b[0m\u001b[0;34m]\u001b[0m \u001b[0;34m=\u001b[0m \u001b[0;32mNone\u001b[0m\u001b[0;34m,\u001b[0m \u001b[0mY\u001b[0m\u001b[0;34m:\u001b[0m \u001b[0mOptional\u001b[0m\u001b[0;34m[\u001b[0m\u001b[0mOutT\u001b[0m\u001b[0;34m]\u001b[0m \u001b[0;34m=\u001b[0m \u001b[0;32mNone\u001b[0m\u001b[0;34m)\u001b[0m \u001b[0;34m->\u001b[0m \u001b[0;34m\"Model\"\u001b[0m\u001b[0;34m:\u001b[0m\u001b[0;34m\u001b[0m\u001b[0;34m\u001b[0m\u001b[0m\n",
      "\u001b[0;32m~/opt/anaconda3/lib/python3.9/site-packages/thinc/layers/chain.py\u001b[0m in \u001b[0;36mforward\u001b[0;34m(model, X, is_train)\u001b[0m\n\u001b[1;32m     52\u001b[0m     \u001b[0mcallbacks\u001b[0m \u001b[0;34m=\u001b[0m \u001b[0;34m[\u001b[0m\u001b[0;34m]\u001b[0m\u001b[0;34m\u001b[0m\u001b[0;34m\u001b[0m\u001b[0m\n\u001b[1;32m     53\u001b[0m     \u001b[0;32mfor\u001b[0m \u001b[0mlayer\u001b[0m \u001b[0;32min\u001b[0m \u001b[0mmodel\u001b[0m\u001b[0;34m.\u001b[0m\u001b[0mlayers\u001b[0m\u001b[0;34m:\u001b[0m\u001b[0;34m\u001b[0m\u001b[0;34m\u001b[0m\u001b[0m\n\u001b[0;32m---> 54\u001b[0;31m         \u001b[0mY\u001b[0m\u001b[0;34m,\u001b[0m \u001b[0minc_layer_grad\u001b[0m \u001b[0;34m=\u001b[0m \u001b[0mlayer\u001b[0m\u001b[0;34m(\u001b[0m\u001b[0mX\u001b[0m\u001b[0;34m,\u001b[0m \u001b[0mis_train\u001b[0m\u001b[0;34m=\u001b[0m\u001b[0mis_train\u001b[0m\u001b[0;34m)\u001b[0m\u001b[0;34m\u001b[0m\u001b[0;34m\u001b[0m\u001b[0m\n\u001b[0m\u001b[1;32m     55\u001b[0m         \u001b[0mcallbacks\u001b[0m\u001b[0;34m.\u001b[0m\u001b[0mappend\u001b[0m\u001b[0;34m(\u001b[0m\u001b[0minc_layer_grad\u001b[0m\u001b[0;34m)\u001b[0m\u001b[0;34m\u001b[0m\u001b[0;34m\u001b[0m\u001b[0m\n\u001b[1;32m     56\u001b[0m         \u001b[0mX\u001b[0m \u001b[0;34m=\u001b[0m \u001b[0mY\u001b[0m\u001b[0;34m\u001b[0m\u001b[0;34m\u001b[0m\u001b[0m\n",
      "\u001b[0;32m~/opt/anaconda3/lib/python3.9/site-packages/thinc/model.py\u001b[0m in \u001b[0;36m__call__\u001b[0;34m(self, X, is_train)\u001b[0m\n\u001b[1;32m    289\u001b[0m         \"\"\"Call the model's `forward` function, returning the output and a\n\u001b[1;32m    290\u001b[0m         callback to compute the gradients via backpropagation.\"\"\"\n\u001b[0;32m--> 291\u001b[0;31m         \u001b[0;32mreturn\u001b[0m \u001b[0mself\u001b[0m\u001b[0;34m.\u001b[0m\u001b[0m_func\u001b[0m\u001b[0;34m(\u001b[0m\u001b[0mself\u001b[0m\u001b[0;34m,\u001b[0m \u001b[0mX\u001b[0m\u001b[0;34m,\u001b[0m \u001b[0mis_train\u001b[0m\u001b[0;34m=\u001b[0m\u001b[0mis_train\u001b[0m\u001b[0;34m)\u001b[0m\u001b[0;34m\u001b[0m\u001b[0;34m\u001b[0m\u001b[0m\n\u001b[0m\u001b[1;32m    292\u001b[0m \u001b[0;34m\u001b[0m\u001b[0m\n\u001b[1;32m    293\u001b[0m     \u001b[0;32mdef\u001b[0m \u001b[0minitialize\u001b[0m\u001b[0;34m(\u001b[0m\u001b[0mself\u001b[0m\u001b[0;34m,\u001b[0m \u001b[0mX\u001b[0m\u001b[0;34m:\u001b[0m \u001b[0mOptional\u001b[0m\u001b[0;34m[\u001b[0m\u001b[0mInT\u001b[0m\u001b[0;34m]\u001b[0m \u001b[0;34m=\u001b[0m \u001b[0;32mNone\u001b[0m\u001b[0;34m,\u001b[0m \u001b[0mY\u001b[0m\u001b[0;34m:\u001b[0m \u001b[0mOptional\u001b[0m\u001b[0;34m[\u001b[0m\u001b[0mOutT\u001b[0m\u001b[0;34m]\u001b[0m \u001b[0;34m=\u001b[0m \u001b[0;32mNone\u001b[0m\u001b[0;34m)\u001b[0m \u001b[0;34m->\u001b[0m \u001b[0;34m\"Model\"\u001b[0m\u001b[0;34m:\u001b[0m\u001b[0;34m\u001b[0m\u001b[0;34m\u001b[0m\u001b[0m\n",
      "\u001b[0;32m~/opt/anaconda3/lib/python3.9/site-packages/thinc/layers/maxout.py\u001b[0m in \u001b[0;36mforward\u001b[0;34m(model, X, is_train)\u001b[0m\n\u001b[1;32m     47\u001b[0m     \u001b[0mW\u001b[0m \u001b[0;34m=\u001b[0m \u001b[0mmodel\u001b[0m\u001b[0;34m.\u001b[0m\u001b[0mget_param\u001b[0m\u001b[0;34m(\u001b[0m\u001b[0;34m\"W\"\u001b[0m\u001b[0;34m)\u001b[0m\u001b[0;34m\u001b[0m\u001b[0;34m\u001b[0m\u001b[0m\n\u001b[1;32m     48\u001b[0m     \u001b[0mW\u001b[0m \u001b[0;34m=\u001b[0m \u001b[0mmodel\u001b[0m\u001b[0;34m.\u001b[0m\u001b[0mops\u001b[0m\u001b[0;34m.\u001b[0m\u001b[0mreshape2f\u001b[0m\u001b[0;34m(\u001b[0m\u001b[0mW\u001b[0m\u001b[0;34m,\u001b[0m \u001b[0mnO\u001b[0m \u001b[0;34m*\u001b[0m \u001b[0mnP\u001b[0m\u001b[0;34m,\u001b[0m \u001b[0mnI\u001b[0m\u001b[0;34m)\u001b[0m\u001b[0;34m\u001b[0m\u001b[0;34m\u001b[0m\u001b[0m\n\u001b[0;32m---> 49\u001b[0;31m     \u001b[0mY\u001b[0m \u001b[0;34m=\u001b[0m \u001b[0mmodel\u001b[0m\u001b[0;34m.\u001b[0m\u001b[0mops\u001b[0m\u001b[0;34m.\u001b[0m\u001b[0mgemm\u001b[0m\u001b[0;34m(\u001b[0m\u001b[0mX\u001b[0m\u001b[0;34m,\u001b[0m \u001b[0mW\u001b[0m\u001b[0;34m,\u001b[0m \u001b[0mtrans2\u001b[0m\u001b[0;34m=\u001b[0m\u001b[0;32mTrue\u001b[0m\u001b[0;34m)\u001b[0m\u001b[0;34m\u001b[0m\u001b[0;34m\u001b[0m\u001b[0m\n\u001b[0m\u001b[1;32m     50\u001b[0m     \u001b[0mY\u001b[0m \u001b[0;34m+=\u001b[0m \u001b[0mmodel\u001b[0m\u001b[0;34m.\u001b[0m\u001b[0mops\u001b[0m\u001b[0;34m.\u001b[0m\u001b[0mreshape1f\u001b[0m\u001b[0;34m(\u001b[0m\u001b[0mb\u001b[0m\u001b[0;34m,\u001b[0m \u001b[0mnO\u001b[0m \u001b[0;34m*\u001b[0m \u001b[0mnP\u001b[0m\u001b[0;34m)\u001b[0m\u001b[0;34m\u001b[0m\u001b[0;34m\u001b[0m\u001b[0m\n\u001b[1;32m     51\u001b[0m     \u001b[0mZ\u001b[0m \u001b[0;34m=\u001b[0m \u001b[0mmodel\u001b[0m\u001b[0;34m.\u001b[0m\u001b[0mops\u001b[0m\u001b[0;34m.\u001b[0m\u001b[0mreshape3f\u001b[0m\u001b[0;34m(\u001b[0m\u001b[0mY\u001b[0m\u001b[0;34m,\u001b[0m \u001b[0mY\u001b[0m\u001b[0;34m.\u001b[0m\u001b[0mshape\u001b[0m\u001b[0;34m[\u001b[0m\u001b[0;36m0\u001b[0m\u001b[0;34m]\u001b[0m\u001b[0;34m,\u001b[0m \u001b[0mnO\u001b[0m\u001b[0;34m,\u001b[0m \u001b[0mnP\u001b[0m\u001b[0;34m)\u001b[0m\u001b[0;34m\u001b[0m\u001b[0;34m\u001b[0m\u001b[0m\n",
      "\u001b[0;31mKeyboardInterrupt\u001b[0m: "
     ]
    }
   ],
   "source": [
    "US['text_2']=US['text_2'].apply(remove_2)\n",
    "SG['text_2']=SG['text_2'].apply(remove_2)\n",
    "PH['text_2']=PH['text_2'].apply(remove_2)\n",
    "NZ['text_2']=NZ['text_2'].apply(remove_2)\n",
    "NG['text_2']=NG['text_2'].apply(remove_2)\n",
    "IE['text_2']=IE['text_2'].apply(remove_2)\n",
    "BD['text_2']=BD['text_2'].apply(remove_2)"
   ]
  },
  {
   "cell_type": "code",
   "execution_count": 75,
   "id": "78d63758",
   "metadata": {},
   "outputs": [],
   "source": [
    "BD['text_2']=BD['text_2'].apply(remove_2)"
   ]
  },
  {
   "cell_type": "code",
   "execution_count": 67,
   "id": "1ef19d30",
   "metadata": {},
   "outputs": [
    {
     "data": {
      "text/plain": [
       "5          , . The immediate past Chief Justice of Nige...\n",
       "6          OPL Scam to Serve , by . Justice  of , , Abu...\n",
       "27         Onnoghen Orders Trial to Go On Despite Court...\n",
       "33         Businessman Bags for Issuance of Dud Cheque ...\n",
       "43         Justices At . The last may not have been hea...\n",
       "                               ...                        \n",
       "52769      Alleged corruption demands probe of by . It ...\n",
       "52794      faults group querying 's exclusion from $ ar...\n",
       "52838      women decry non release of health funds by ....\n",
       "52856      hails over . In the last editions , has beco...\n",
       "52868      SUNSHINE STARS , . Sunshine Stars were held ...\n",
       "Name: text_2, Length: 2317, dtype: object"
      ]
     },
     "execution_count": 67,
     "metadata": {},
     "output_type": "execute_result"
    }
   ],
   "source": [
    "NG[NG['text_2'].str.contains(\"Nigeria\")]['text_2']"
   ]
  },
  {
   "cell_type": "code",
   "execution_count": 76,
   "id": "8b6184e7",
   "metadata": {},
   "outputs": [],
   "source": [
    "##check\n",
    "#CA['text_2']=CA[CA['text_2'].str.contains(\"Canada\")]['text_2'].str.replace('Canada', '')\n",
    "#CA[CA['text_2'].str.contains(\"Canada\")]['text_2']\n",
    "\n",
    "\n",
    "US['text_3']=US['text_2'].str.replace('US', '')\n",
    "US['text_3']=US['text_3'].str.replace('Canada', '')\n",
    "\n",
    "SG['text_3']=SG['text_2'].str.replace('Singapore', '')\n",
    "SG['text_3']=SG['text_3'].str.replace('Philippines', '')\n",
    "\n",
    "PH['text_3']=PH['text_2'].str.replace('Philippines', '')\n",
    "PH['text_3']=PH['text_3'].str.replace('Singapore', '')\n",
    "\n",
    "NZ['text_3']=NZ['text_2'].str.replace('New Zealand', '')\n",
    "NZ['text_3']=NZ['text_3'].str.replace('Zealand', '')\n",
    "NZ['text_3']=NZ['text_3'].str.replace('zealand', '')\n",
    "\n",
    "NG['text_3']=NG['text_2'].str.replace('Nigeria', '')\n",
    "NG['text_3']=NG['text_3'].str.replace('New Zealand', '')\n",
    "\n",
    "IE['text_3']=IE['text_2'].str.replace('Ireland', '')\n",
    "IE['text_3']=IE['text_3'].str.replace('Bangladesh', '')\n",
    "\n",
    "\n",
    "#NZ[NZ['text_2'].str.contains(\"zealand\")]['text_2']\n",
    "#SG[SG['text_2'].str.contains(\"Singapore\")]['text_2']\n",
    "#BD[BD['text_2'].str.contains(\"Bangladesh\")]['text_2']\n",
    "#IE[IE['text_2'].str.contains(\"Bangladesh\")]['text_2'][9175]"
   ]
  },
  {
   "cell_type": "code",
   "execution_count": 77,
   "id": "d4824f81",
   "metadata": {},
   "outputs": [],
   "source": [
    "CA['text_3']=CA['text_2'].str.replace('Canada', '')\n",
    "CA['text_3']=CA['text_3'].str.replace('Canadian', '')\n",
    "CA['text_3']=CA['text_3'].str.replace('US', '')\n",
    "\n",
    "BD['text_3']=BD['text_2'].str.replace('Ireland', '')\n",
    "BD['text_3']=BD['text_3'].str.replace('Bangladesh', '')\n"
   ]
  },
  {
   "cell_type": "code",
   "execution_count": null,
   "id": "0adc0e6e",
   "metadata": {},
   "outputs": [],
   "source": []
  },
  {
   "cell_type": "code",
   "execution_count": 64,
   "id": "d893f727",
   "metadata": {},
   "outputs": [
    {
     "data": {
      "text/plain": [
       "0          's dark comedy about a trio of orphans tryin...\n",
       "1          bubble tea chain known for making fresh tapi...\n",
       "2          In , A debuted the Pay Your Age deal . For d...\n",
       "3          Suicide is the main cause of death for mille...\n",
       "4          now makes an adjustable kettlebell that goes...\n",
       "                               ...                        \n",
       "20191      Report further studies the market developmen...\n",
       "20192      Steam Coal Market report provide emerging op...\n",
       "20193      Barium Sulphate Precipitated Market Research...\n",
       "20194      Global Fast blue RR Market report provide em...\n",
       "20195      The introductory section , market research r...\n",
       "Name: text_3, Length: 20196, dtype: object"
      ]
     },
     "execution_count": 64,
     "metadata": {},
     "output_type": "execute_result"
    }
   ],
   "source": [
    "SG['text_3']"
   ]
  },
  {
   "cell_type": "code",
   "execution_count": 78,
   "id": "cb7eb1ec",
   "metadata": {},
   "outputs": [],
   "source": [
    "CA.to_csv(\"CA3.csv\")\n",
    "US.to_csv(\"US3.csv\")\n",
    "SG.to_csv(\"SG3.csv\")\n",
    "PH.to_csv(\"PH3.csv\")\n",
    "NZ.to_csv(\"NZ3.csv\")\n",
    "NG.to_csv(\"NG3.csv\")\n",
    "IE.to_csv(\"IE3.csv\")\n",
    "BD.to_csv(\"BD3.csv\")"
   ]
  },
  {
   "cell_type": "markdown",
   "id": "34b13ff6",
   "metadata": {},
   "source": [
    "## Remove Stop words : text_no_sw"
   ]
  },
  {
   "cell_type": "code",
   "execution_count": 8,
   "id": "44640976",
   "metadata": {},
   "outputs": [
    {
     "name": "stderr",
     "output_type": "stream",
     "text": [
      "[nltk_data] Downloading package stopwords to\n",
      "[nltk_data]     /Users/Rebecca/nltk_data...\n",
      "[nltk_data]   Package stopwords is already up-to-date!\n"
     ]
    }
   ],
   "source": [
    "import nltk\n",
    "nltk.download('stopwords')\n",
    "from nltk.corpus import stopwords\n",
    "stop = stopwords.words('english')\n",
    "from nltk.tokenize import word_tokenize"
   ]
  },
  {
   "cell_type": "code",
   "execution_count": 81,
   "id": "85b74685",
   "metadata": {},
   "outputs": [],
   "source": [
    "from nltk.tokenize import word_tokenize\n",
    "#df['response'] = df.response.str.replace(\"[^\\w\\s]\", \"\").str.lower()\n",
    "CA['text_no_sw'] = CA['text_3'].apply(lambda x: ' '.join([item for item in word_tokenize(x.lower()) if item not in stop]))\n",
    "CA.to_csv(\"CA3_.csv\")\n",
    "US['text_no_sw'] = US['text_3'].apply(lambda x: ' '.join([item for item in word_tokenize(x.lower()) if item not in stop]))\n",
    "US.to_csv(\"US3_.csv\")\n",
    "SG['text_no_sw'] = SG['text_3'].apply(lambda x: ' '.join([item for item in word_tokenize(x.lower()) if item not in stop]))\n",
    "SG.to_csv(\"SG3_.csv\")\n",
    "PH['text_no_sw'] = PH['text_3'].apply(lambda x: ' '.join([item for item in word_tokenize(x.lower()) if item not in stop]))\n",
    "PH.to_csv(\"PH3_.csv\")\n",
    "NZ['text_no_sw'] = NZ['text_3'].apply(lambda x: ' '.join([item for item in word_tokenize(x.lower()) if item not in stop]))\n",
    "NZ.to_csv(\"NZ3_.csv\")\n",
    "NG['text_no_sw'] = NG['text_3'].apply(lambda x: ' '.join([item for item in word_tokenize(x.lower()) if item not in stop]))\n",
    "NG.to_csv(\"NG3_.csv\")\n",
    "IE['text_no_sw'] = IE['text_3'].apply(lambda x: ' '.join([item for item in word_tokenize(x.lower()) if item not in stop]))\n",
    "IE.to_csv(\"IE3_.csv\")\n",
    "BD['text_no_sw'] = BD['text_3'].apply(lambda x: ' '.join([item for item in word_tokenize(x.lower()) if item not in stop]))\n",
    "BD.to_csv(\"BD3_.csv\")"
   ]
  },
  {
   "cell_type": "code",
   "execution_count": null,
   "id": "df31915a",
   "metadata": {},
   "outputs": [],
   "source": [
    "CA.to_csv(\"CA3_.csv\")\n",
    "US.to_csv(\"US3_.csv\")\n",
    "SG.to_csv(\"SG3_.csv\")\n",
    "PH.to_csv(\"PH3_.csv\")\n",
    "NZ.to_csv(\"NZ3_.csv\")\n",
    "NG.to_csv(\"NG3_.csv\")\n",
    "IE.to_csv(\"IE3_.csv\")\n",
    "BD.to_csv(\"BD3_.csv\")"
   ]
  },
  {
   "cell_type": "markdown",
   "id": "63e78752",
   "metadata": {},
   "source": [
    "## Other Countries"
   ]
  },
  {
   "cell_type": "code",
   "execution_count": 9,
   "id": "46922b8c",
   "metadata": {},
   "outputs": [],
   "source": [
    "#Ghana 1\n",
    "gh=pd.read_csv('/Users/Rebecca/Desktop/PEACE_Inst/data/5_domestic_filter_Ngram_stopwords_lemmatize/GH_domestic_Ngram_stopword_lematize.csv')\n",
    "#Australia 1\n",
    "au=pd.read_csv('/Users/Rebecca/Desktop/PEACE_Inst/data/5_domestic_filter_Ngram_stopwords_lemmatize/AU_domestic_Ngram_stopword_lematize.csv')\n",
    "\n",
    "#UK 1\n",
    "gb=pd.read_csv('/Users/Rebecca/Desktop/PEACE_Inst/data/5_domestic_filter_Ngram_stopwords_lemmatize/GB_domestic_Ngram_stopword_lematize.csv')\n",
    "#Kenya 0\n",
    "ke=pd.read_csv('/Users/Rebecca/Desktop/PEACE_Inst/data/5_domestic_filter_Ngram_stopwords_lemmatize/KE_domestic_Ngram_stopword_lematize.csv')\n",
    "#Tanzania 0\n",
    "tz=pd.read_csv('/Users/Rebecca/Desktop/PEACE_Inst/data/5_domestic_filter_Ngram_stopwords_lemmatize/TZ_domestic_Ngram_stopword_lematize.csv')\n"
   ]
  },
  {
   "cell_type": "code",
   "execution_count": 23,
   "id": "20040c04",
   "metadata": {},
   "outputs": [
    {
     "data": {
      "text/plain": [
       "str"
      ]
     },
     "execution_count": 23,
     "metadata": {},
     "output_type": "execute_result"
    }
   ],
   "source": [
    "text = gh['article_text_Ngram']\n",
    "\n",
    "gh['text_2']=\"\"\n",
    "gh['text_2']=text.apply(remove_place)\n",
    "gh['text_2']=gh['text_2'].apply(remove_names)"
   ]
  },
  {
   "cell_type": "code",
   "execution_count": 26,
   "id": "64da6c6a",
   "metadata": {},
   "outputs": [],
   "source": [
    "\n",
    "from nltk.tokenize import word_tokenize\n",
    "gh['text_2']=gh['text_2'].apply(remove_2)\n",
    "gh['text_no_sw'] = gh['text_2'].apply(lambda x: ' '.join([item for item in word_tokenize(x.lower()) if item not in stop]))\n",
    "gh['target']=1"
   ]
  },
  {
   "cell_type": "code",
   "execution_count": 27,
   "id": "e56882e5",
   "metadata": {},
   "outputs": [],
   "source": [
    "gh.to_csv('GH3.csv')"
   ]
  },
  {
   "cell_type": "code",
   "execution_count": 10,
   "id": "79ca1edf",
   "metadata": {},
   "outputs": [],
   "source": [
    "text = au['article_text_Ngram']\n",
    "\n",
    "au['text_2']=\"\"\n",
    "au['text_2']=text.apply(remove_place)\n",
    "au['text_2']=au['text_2'].apply(remove_names)\n",
    "au['text_2']=au['text_2'].apply(remove_2)\n",
    "au['text_no_sw'] = au['text_2'].apply(lambda x: ' '.join([item for item in word_tokenize(x.lower()) if item not in stop]))\n",
    "au['target']=1"
   ]
  },
  {
   "cell_type": "code",
   "execution_count": 11,
   "id": "3314e9ec",
   "metadata": {},
   "outputs": [],
   "source": [
    "au.to_csv('AU3.csv')"
   ]
  },
  {
   "cell_type": "code",
   "execution_count": 12,
   "id": "fbe4d8ed",
   "metadata": {},
   "outputs": [],
   "source": [
    "text = gb['article_text_Ngram']\n",
    "\n",
    "gb['text_2']=\"\"\n",
    "gb['text_2']=text.apply(remove_place)\n",
    "gb['text_2']=gb['text_2'].apply(remove_names)\n",
    "gb['text_2']=gb['text_2'].apply(remove_2)\n",
    "gb['text_no_sw'] = gb['text_2'].apply(lambda x: ' '.join([item for item in word_tokenize(x.lower()) if item not in stop]))\n",
    "gb['target']=1"
   ]
  },
  {
   "cell_type": "code",
   "execution_count": 13,
   "id": "ffc1a8e7",
   "metadata": {},
   "outputs": [],
   "source": [
    "gb.to_csv(\"GB3.csv\")"
   ]
  },
  {
   "cell_type": "code",
   "execution_count": 14,
   "id": "e663c393",
   "metadata": {},
   "outputs": [],
   "source": [
    "text = ke['article_text_Ngram']\n",
    "\n",
    "ke['text_2']=\"\"\n",
    "ke['text_2']=text.apply(remove_place)\n",
    "ke['text_2']=ke['text_2'].apply(remove_names)\n",
    "ke['text_2']=ke['text_2'].apply(remove_2)\n",
    "ke['text_no_sw'] = ke['text_2'].apply(lambda x: ' '.join([item for item in word_tokenize(x.lower()) if item not in stop]))\n",
    "ke['target']=0"
   ]
  },
  {
   "cell_type": "code",
   "execution_count": 15,
   "id": "2fe50d2c",
   "metadata": {},
   "outputs": [],
   "source": [
    "ke.to_csv(\"KE3.csv\")"
   ]
  },
  {
   "cell_type": "code",
   "execution_count": 16,
   "id": "f17b42dc",
   "metadata": {},
   "outputs": [
    {
     "ename": "ValueError",
     "evalue": "[E088] Text of length 3318327 exceeds maximum of 1000000. The parser and NER models require roughly 1GB of temporary memory per 100,000 characters in the input. This means long texts may cause memory allocation errors. If you're not using the parser or NER, it's probably safe to increase the `nlp.max_length` limit. The limit is in number of characters, so you can check whether your inputs are too long by checking `len(text)`.",
     "output_type": "error",
     "traceback": [
      "\u001b[0;31m---------------------------------------------------------------------------\u001b[0m",
      "\u001b[0;31mValueError\u001b[0m                                Traceback (most recent call last)",
      "\u001b[0;32m/var/folders/f6/cw8ncfy124b8_ngrxb3g5bw40000gn/T/ipykernel_18232/1797666730.py\u001b[0m in \u001b[0;36m<module>\u001b[0;34m\u001b[0m\n\u001b[1;32m      2\u001b[0m \u001b[0;34m\u001b[0m\u001b[0m\n\u001b[1;32m      3\u001b[0m \u001b[0mtz\u001b[0m\u001b[0;34m[\u001b[0m\u001b[0;34m'text_2'\u001b[0m\u001b[0;34m]\u001b[0m\u001b[0;34m=\u001b[0m\u001b[0;34m\"\"\u001b[0m\u001b[0;34m\u001b[0m\u001b[0;34m\u001b[0m\u001b[0m\n\u001b[0;32m----> 4\u001b[0;31m \u001b[0mtz\u001b[0m\u001b[0;34m[\u001b[0m\u001b[0;34m'text_2'\u001b[0m\u001b[0;34m]\u001b[0m\u001b[0;34m=\u001b[0m\u001b[0mtext\u001b[0m\u001b[0;34m.\u001b[0m\u001b[0mapply\u001b[0m\u001b[0;34m(\u001b[0m\u001b[0mremove_place\u001b[0m\u001b[0;34m)\u001b[0m\u001b[0;34m\u001b[0m\u001b[0;34m\u001b[0m\u001b[0m\n\u001b[0m\u001b[1;32m      5\u001b[0m \u001b[0mtz\u001b[0m\u001b[0;34m[\u001b[0m\u001b[0;34m'text_2'\u001b[0m\u001b[0;34m]\u001b[0m\u001b[0;34m=\u001b[0m\u001b[0mtz\u001b[0m\u001b[0;34m[\u001b[0m\u001b[0;34m'text_2'\u001b[0m\u001b[0;34m]\u001b[0m\u001b[0;34m.\u001b[0m\u001b[0mapply\u001b[0m\u001b[0;34m(\u001b[0m\u001b[0mremove_names\u001b[0m\u001b[0;34m)\u001b[0m\u001b[0;34m\u001b[0m\u001b[0;34m\u001b[0m\u001b[0m\n\u001b[1;32m      6\u001b[0m \u001b[0mtz\u001b[0m\u001b[0;34m[\u001b[0m\u001b[0;34m'text_2'\u001b[0m\u001b[0;34m]\u001b[0m\u001b[0;34m=\u001b[0m\u001b[0mtz\u001b[0m\u001b[0;34m[\u001b[0m\u001b[0;34m'text_2'\u001b[0m\u001b[0;34m]\u001b[0m\u001b[0;34m.\u001b[0m\u001b[0mapply\u001b[0m\u001b[0;34m(\u001b[0m\u001b[0mremove_2\u001b[0m\u001b[0;34m)\u001b[0m\u001b[0;34m\u001b[0m\u001b[0;34m\u001b[0m\u001b[0m\n",
      "\u001b[0;32m~/opt/anaconda3/lib/python3.9/site-packages/pandas/core/series.py\u001b[0m in \u001b[0;36mapply\u001b[0;34m(self, func, convert_dtype, args, **kwargs)\u001b[0m\n\u001b[1;32m   4355\u001b[0m         \u001b[0mdtype\u001b[0m\u001b[0;34m:\u001b[0m \u001b[0mfloat64\u001b[0m\u001b[0;34m\u001b[0m\u001b[0;34m\u001b[0m\u001b[0m\n\u001b[1;32m   4356\u001b[0m         \"\"\"\n\u001b[0;32m-> 4357\u001b[0;31m         \u001b[0;32mreturn\u001b[0m \u001b[0mSeriesApply\u001b[0m\u001b[0;34m(\u001b[0m\u001b[0mself\u001b[0m\u001b[0;34m,\u001b[0m \u001b[0mfunc\u001b[0m\u001b[0;34m,\u001b[0m \u001b[0mconvert_dtype\u001b[0m\u001b[0;34m,\u001b[0m \u001b[0margs\u001b[0m\u001b[0;34m,\u001b[0m \u001b[0mkwargs\u001b[0m\u001b[0;34m)\u001b[0m\u001b[0;34m.\u001b[0m\u001b[0mapply\u001b[0m\u001b[0;34m(\u001b[0m\u001b[0;34m)\u001b[0m\u001b[0;34m\u001b[0m\u001b[0;34m\u001b[0m\u001b[0m\n\u001b[0m\u001b[1;32m   4358\u001b[0m \u001b[0;34m\u001b[0m\u001b[0m\n\u001b[1;32m   4359\u001b[0m     def _reduce(\n",
      "\u001b[0;32m~/opt/anaconda3/lib/python3.9/site-packages/pandas/core/apply.py\u001b[0m in \u001b[0;36mapply\u001b[0;34m(self)\u001b[0m\n\u001b[1;32m   1041\u001b[0m             \u001b[0;32mreturn\u001b[0m \u001b[0mself\u001b[0m\u001b[0;34m.\u001b[0m\u001b[0mapply_str\u001b[0m\u001b[0;34m(\u001b[0m\u001b[0;34m)\u001b[0m\u001b[0;34m\u001b[0m\u001b[0;34m\u001b[0m\u001b[0m\n\u001b[1;32m   1042\u001b[0m \u001b[0;34m\u001b[0m\u001b[0m\n\u001b[0;32m-> 1043\u001b[0;31m         \u001b[0;32mreturn\u001b[0m \u001b[0mself\u001b[0m\u001b[0;34m.\u001b[0m\u001b[0mapply_standard\u001b[0m\u001b[0;34m(\u001b[0m\u001b[0;34m)\u001b[0m\u001b[0;34m\u001b[0m\u001b[0;34m\u001b[0m\u001b[0m\n\u001b[0m\u001b[1;32m   1044\u001b[0m \u001b[0;34m\u001b[0m\u001b[0m\n\u001b[1;32m   1045\u001b[0m     \u001b[0;32mdef\u001b[0m \u001b[0magg\u001b[0m\u001b[0;34m(\u001b[0m\u001b[0mself\u001b[0m\u001b[0;34m)\u001b[0m\u001b[0;34m:\u001b[0m\u001b[0;34m\u001b[0m\u001b[0;34m\u001b[0m\u001b[0m\n",
      "\u001b[0;32m~/opt/anaconda3/lib/python3.9/site-packages/pandas/core/apply.py\u001b[0m in \u001b[0;36mapply_standard\u001b[0;34m(self)\u001b[0m\n\u001b[1;32m   1096\u001b[0m                 \u001b[0;31m# List[Union[Callable[..., Any], str]]]]]\"; expected\u001b[0m\u001b[0;34m\u001b[0m\u001b[0;34m\u001b[0m\u001b[0m\n\u001b[1;32m   1097\u001b[0m                 \u001b[0;31m# \"Callable[[Any], Any]\"\u001b[0m\u001b[0;34m\u001b[0m\u001b[0;34m\u001b[0m\u001b[0m\n\u001b[0;32m-> 1098\u001b[0;31m                 mapped = lib.map_infer(\n\u001b[0m\u001b[1;32m   1099\u001b[0m                     \u001b[0mvalues\u001b[0m\u001b[0;34m,\u001b[0m\u001b[0;34m\u001b[0m\u001b[0;34m\u001b[0m\u001b[0m\n\u001b[1;32m   1100\u001b[0m                     \u001b[0mf\u001b[0m\u001b[0;34m,\u001b[0m  \u001b[0;31m# type: ignore[arg-type]\u001b[0m\u001b[0;34m\u001b[0m\u001b[0;34m\u001b[0m\u001b[0m\n",
      "\u001b[0;32m~/opt/anaconda3/lib/python3.9/site-packages/pandas/_libs/lib.pyx\u001b[0m in \u001b[0;36mpandas._libs.lib.map_infer\u001b[0;34m()\u001b[0m\n",
      "\u001b[0;32m/var/folders/f6/cw8ncfy124b8_ngrxb3g5bw40000gn/T/ipykernel_18232/2609687270.py\u001b[0m in \u001b[0;36mremove_place\u001b[0;34m(text)\u001b[0m\n\u001b[1;32m      1\u001b[0m \u001b[0;32mdef\u001b[0m \u001b[0mremove_place\u001b[0m\u001b[0;34m(\u001b[0m\u001b[0mtext\u001b[0m\u001b[0;34m)\u001b[0m\u001b[0;34m:\u001b[0m\u001b[0;34m\u001b[0m\u001b[0;34m\u001b[0m\u001b[0m\n\u001b[0;32m----> 2\u001b[0;31m     \u001b[0mdocument\u001b[0m\u001b[0;34m=\u001b[0m\u001b[0mnlp\u001b[0m\u001b[0;34m(\u001b[0m\u001b[0mtext\u001b[0m\u001b[0;34m)\u001b[0m\u001b[0;34m\u001b[0m\u001b[0;34m\u001b[0m\u001b[0m\n\u001b[0m\u001b[1;32m      3\u001b[0m     \u001b[0;31m#newString = []\u001b[0m\u001b[0;34m\u001b[0m\u001b[0;34m\u001b[0m\u001b[0m\n\u001b[1;32m      4\u001b[0m     \u001b[0mtext_no_namedentities\u001b[0m\u001b[0;34m=\u001b[0m\u001b[0;34m[\u001b[0m\u001b[0;34m]\u001b[0m\u001b[0;34m\u001b[0m\u001b[0;34m\u001b[0m\u001b[0m\n\u001b[1;32m      5\u001b[0m     \u001b[0ments\u001b[0m \u001b[0;34m=\u001b[0m \u001b[0;34m[\u001b[0m\u001b[0me\u001b[0m\u001b[0;34m.\u001b[0m\u001b[0mtext\u001b[0m \u001b[0;32mfor\u001b[0m \u001b[0me\u001b[0m \u001b[0;32min\u001b[0m \u001b[0mdocument\u001b[0m\u001b[0;34m.\u001b[0m\u001b[0ments\u001b[0m\u001b[0;34m]\u001b[0m\u001b[0;34m\u001b[0m\u001b[0;34m\u001b[0m\u001b[0m\n",
      "\u001b[0;32m~/opt/anaconda3/lib/python3.9/site-packages/spacy/language.py\u001b[0m in \u001b[0;36m__call__\u001b[0;34m(self, text, disable, component_cfg)\u001b[0m\n\u001b[1;32m   1003\u001b[0m         \u001b[0mDOCS\u001b[0m\u001b[0;34m:\u001b[0m \u001b[0mhttps\u001b[0m\u001b[0;34m:\u001b[0m\u001b[0;34m//\u001b[0m\u001b[0mspacy\u001b[0m\u001b[0;34m.\u001b[0m\u001b[0mio\u001b[0m\u001b[0;34m/\u001b[0m\u001b[0mapi\u001b[0m\u001b[0;34m/\u001b[0m\u001b[0mlanguage\u001b[0m\u001b[0;31m#call\u001b[0m\u001b[0;34m\u001b[0m\u001b[0;34m\u001b[0m\u001b[0m\n\u001b[1;32m   1004\u001b[0m         \"\"\"\n\u001b[0;32m-> 1005\u001b[0;31m         \u001b[0mdoc\u001b[0m \u001b[0;34m=\u001b[0m \u001b[0mself\u001b[0m\u001b[0;34m.\u001b[0m\u001b[0m_ensure_doc\u001b[0m\u001b[0;34m(\u001b[0m\u001b[0mtext\u001b[0m\u001b[0;34m)\u001b[0m\u001b[0;34m\u001b[0m\u001b[0;34m\u001b[0m\u001b[0m\n\u001b[0m\u001b[1;32m   1006\u001b[0m         \u001b[0;32mif\u001b[0m \u001b[0mcomponent_cfg\u001b[0m \u001b[0;32mis\u001b[0m \u001b[0;32mNone\u001b[0m\u001b[0;34m:\u001b[0m\u001b[0;34m\u001b[0m\u001b[0;34m\u001b[0m\u001b[0m\n\u001b[1;32m   1007\u001b[0m             \u001b[0mcomponent_cfg\u001b[0m \u001b[0;34m=\u001b[0m \u001b[0;34m{\u001b[0m\u001b[0;34m}\u001b[0m\u001b[0;34m\u001b[0m\u001b[0;34m\u001b[0m\u001b[0m\n",
      "\u001b[0;32m~/opt/anaconda3/lib/python3.9/site-packages/spacy/language.py\u001b[0m in \u001b[0;36m_ensure_doc\u001b[0;34m(self, doc_like)\u001b[0m\n\u001b[1;32m   1093\u001b[0m             \u001b[0;32mreturn\u001b[0m \u001b[0mdoc_like\u001b[0m\u001b[0;34m\u001b[0m\u001b[0;34m\u001b[0m\u001b[0m\n\u001b[1;32m   1094\u001b[0m         \u001b[0;32mif\u001b[0m \u001b[0misinstance\u001b[0m\u001b[0;34m(\u001b[0m\u001b[0mdoc_like\u001b[0m\u001b[0;34m,\u001b[0m \u001b[0mstr\u001b[0m\u001b[0;34m)\u001b[0m\u001b[0;34m:\u001b[0m\u001b[0;34m\u001b[0m\u001b[0;34m\u001b[0m\u001b[0m\n\u001b[0;32m-> 1095\u001b[0;31m             \u001b[0;32mreturn\u001b[0m \u001b[0mself\u001b[0m\u001b[0;34m.\u001b[0m\u001b[0mmake_doc\u001b[0m\u001b[0;34m(\u001b[0m\u001b[0mdoc_like\u001b[0m\u001b[0;34m)\u001b[0m\u001b[0;34m\u001b[0m\u001b[0;34m\u001b[0m\u001b[0m\n\u001b[0m\u001b[1;32m   1096\u001b[0m         \u001b[0;32mraise\u001b[0m \u001b[0mValueError\u001b[0m\u001b[0;34m(\u001b[0m\u001b[0mErrors\u001b[0m\u001b[0;34m.\u001b[0m\u001b[0mE866\u001b[0m\u001b[0;34m.\u001b[0m\u001b[0mformat\u001b[0m\u001b[0;34m(\u001b[0m\u001b[0mtype\u001b[0m\u001b[0;34m=\u001b[0m\u001b[0mtype\u001b[0m\u001b[0;34m(\u001b[0m\u001b[0mdoc_like\u001b[0m\u001b[0;34m)\u001b[0m\u001b[0;34m)\u001b[0m\u001b[0;34m)\u001b[0m\u001b[0;34m\u001b[0m\u001b[0;34m\u001b[0m\u001b[0m\n\u001b[1;32m   1097\u001b[0m \u001b[0;34m\u001b[0m\u001b[0m\n",
      "\u001b[0;32m~/opt/anaconda3/lib/python3.9/site-packages/spacy/language.py\u001b[0m in \u001b[0;36mmake_doc\u001b[0;34m(self, text)\u001b[0m\n\u001b[1;32m   1083\u001b[0m         \"\"\"\n\u001b[1;32m   1084\u001b[0m         \u001b[0;32mif\u001b[0m \u001b[0mlen\u001b[0m\u001b[0;34m(\u001b[0m\u001b[0mtext\u001b[0m\u001b[0;34m)\u001b[0m \u001b[0;34m>\u001b[0m \u001b[0mself\u001b[0m\u001b[0;34m.\u001b[0m\u001b[0mmax_length\u001b[0m\u001b[0;34m:\u001b[0m\u001b[0;34m\u001b[0m\u001b[0;34m\u001b[0m\u001b[0m\n\u001b[0;32m-> 1085\u001b[0;31m             raise ValueError(\n\u001b[0m\u001b[1;32m   1086\u001b[0m                 \u001b[0mErrors\u001b[0m\u001b[0;34m.\u001b[0m\u001b[0mE088\u001b[0m\u001b[0;34m.\u001b[0m\u001b[0mformat\u001b[0m\u001b[0;34m(\u001b[0m\u001b[0mlength\u001b[0m\u001b[0;34m=\u001b[0m\u001b[0mlen\u001b[0m\u001b[0;34m(\u001b[0m\u001b[0mtext\u001b[0m\u001b[0;34m)\u001b[0m\u001b[0;34m,\u001b[0m \u001b[0mmax_length\u001b[0m\u001b[0;34m=\u001b[0m\u001b[0mself\u001b[0m\u001b[0;34m.\u001b[0m\u001b[0mmax_length\u001b[0m\u001b[0;34m)\u001b[0m\u001b[0;34m\u001b[0m\u001b[0;34m\u001b[0m\u001b[0m\n\u001b[1;32m   1087\u001b[0m             )\n",
      "\u001b[0;31mValueError\u001b[0m: [E088] Text of length 3318327 exceeds maximum of 1000000. The parser and NER models require roughly 1GB of temporary memory per 100,000 characters in the input. This means long texts may cause memory allocation errors. If you're not using the parser or NER, it's probably safe to increase the `nlp.max_length` limit. The limit is in number of characters, so you can check whether your inputs are too long by checking `len(text)`."
     ]
    }
   ],
   "source": [
    "text = tz['article_text_Ngram']\n",
    "\n",
    "tz['text_2']=\"\"\n",
    "tz['text_2']=text.apply(remove_place)\n",
    "tz['text_2']=tz['text_2'].apply(remove_names)\n",
    "tz['text_2']=tz['text_2'].apply(remove_2)\n",
    "tz['text_no_sw'] = tz['text_2'].apply(lambda x: ' '.join([item for item in word_tokenize(x.lower()) if item not in stop]))\n",
    "tz['target']=0"
   ]
  },
  {
   "cell_type": "code",
   "execution_count": null,
   "id": "6de0b338",
   "metadata": {},
   "outputs": [],
   "source": [
    "tz.to_csv(\"TZ3.csv\")"
   ]
  },
  {
   "cell_type": "code",
   "execution_count": null,
   "id": "29b705bf",
   "metadata": {},
   "outputs": [],
   "source": []
  }
 ],
 "metadata": {
  "kernelspec": {
   "display_name": "Python 3 (ipykernel)",
   "language": "python",
   "name": "python3"
  },
  "language_info": {
   "codemirror_mode": {
    "name": "ipython",
    "version": 3
   },
   "file_extension": ".py",
   "mimetype": "text/x-python",
   "name": "python",
   "nbconvert_exporter": "python",
   "pygments_lexer": "ipython3",
   "version": "3.9.7"
  }
 },
 "nbformat": 4,
 "nbformat_minor": 5
}
